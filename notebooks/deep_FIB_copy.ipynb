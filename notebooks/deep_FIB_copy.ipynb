{
 "cells": [
  {
   "cell_type": "code",
   "execution_count": 1,
   "metadata": {},
   "outputs": [],
   "source": [
    "%load_ext autoreload\n",
    "%autoreload 2"
   ]
  },
  {
   "cell_type": "code",
   "execution_count": 2,
   "metadata": {},
   "outputs": [],
   "source": [
    "import torch\n",
    "from torch.optim import Adam\n",
    "from torch.utils.data import DataLoader\n",
    "from torch.optim.lr_scheduler import CosineAnnealingLR\n",
    "\n",
    "from sklearn.model_selection import train_test_split\n",
    "\n",
    "from utils.data import get_dataset_paths\n",
    "from utils.data import Marconi100Dataset\n",
    "from utils.data import UnfoldedDataset\n",
    "from utils.training import training_loop\n",
    "\n",
    "from algos.deep_fib.data import get_masks\n",
    "from algos.deep_fib.core import DeepFIBEngine\n",
    "from algos.deep_fib.sci_net import SCINet"
   ]
  },
  {
   "cell_type": "code",
   "execution_count": 3,
   "metadata": {},
   "outputs": [],
   "source": [
    "paths = get_dataset_paths(\"../data\")\n",
    "train, test = train_test_split(paths, test_size=0.1, random_state=42)\n"
   ]
  },
  {
   "cell_type": "code",
   "execution_count": 4,
   "metadata": {},
   "outputs": [
    {
     "name": "stderr",
     "output_type": "stream",
     "text": [
      "Loading: 100%|██████████| 1/1 [00:01<00:00,  1.78s/it]\n",
      "Loading: 100%|██████████| 5/5 [00:08<00:00,  1.62s/it]\n"
     ]
    }
   ],
   "source": [
    "m_data_train = Marconi100Dataset(train[:1], scaling=\"minmax\")\n",
    "m_data_test = Marconi100Dataset(test[:5], scaling=\"minmax\")\n"
   ]
  },
  {
   "cell_type": "code",
   "execution_count": 7,
   "metadata": {},
   "outputs": [
    {
     "name": "stdout",
     "output_type": "stream",
     "text": [
      "cpu\n"
     ]
    }
   ],
   "source": [
    "device = torch.device(\"cuda\" if torch.cuda.is_available() else \"cpu\")\n",
    "print(device)\n",
    "\n",
    "horizon = 1024\n",
    "stride = 1000\n",
    "n_masks = 100\n",
    "\n",
    "batch_size = 32\n",
    "\n",
    "num_encoder_levels = 2\n",
    "\n",
    "lr = 1e-3\n",
    "num_epochs = 5\n",
    "\n",
    "hidden = None\n",
    "input_dim = 460\n",
    "hidden_size = 4\n",
    "kernel_size = 3\n",
    "dropout = 0.5\n",
    "\n",
    "anomaly_threshold = 0.01\n"
   ]
  },
  {
   "cell_type": "code",
   "execution_count": 8,
   "metadata": {},
   "outputs": [
    {
     "data": {
      "text/plain": [
       "(13, 72, torch.Size([100, 1024, 460]))"
      ]
     },
     "execution_count": 8,
     "metadata": {},
     "output_type": "execute_result"
    }
   ],
   "source": [
    "dataset_train = UnfoldedDataset(\n",
    "    m_data_train, horizon=horizon, stride=stride\n",
    ")\n",
    "dataset_test = UnfoldedDataset(m_data_test, horizon=horizon, stride=stride)\n",
    "\n",
    "masks = get_masks(horizon, n_masks).float()\n",
    "\n",
    "len(dataset_train), len(dataset_test), masks.size()\n"
   ]
  },
  {
   "cell_type": "code",
   "execution_count": 7,
   "metadata": {},
   "outputs": [
    {
     "data": {
      "text/plain": [
       "(1, 3)"
      ]
     },
     "execution_count": 7,
     "metadata": {},
     "output_type": "execute_result"
    }
   ],
   "source": [
    "train_loader = DataLoader(\n",
    "    dataset_train,\n",
    "    batch_size,\n",
    "    shuffle=True,\n",
    ")\n",
    "test_loader = DataLoader(\n",
    "    dataset_test,\n",
    "    batch_size,\n",
    "    shuffle=False,\n",
    ")\n",
    "len(train_loader), len(test_loader)\n"
   ]
  },
  {
   "cell_type": "code",
   "execution_count": 8,
   "metadata": {},
   "outputs": [],
   "source": [
    "model = SCINet(\n",
    "    output_len=horizon,\n",
    "    input_len=horizon,\n",
    "    num_encoder_levels=num_encoder_levels,\n",
    "    hidden_decoder_sizes=hidden,\n",
    "    input_dim=input_dim,\n",
    "    hidden_size=hidden_size,\n",
    "    kernel_size=kernel_size,\n",
    "    dropout=dropout,\n",
    ").float()\n",
    "\n",
    "engine = DeepFIBEngine(anomaly_threshold, masks)\n",
    "\n",
    "optim = Adam(model.parameters(), lr=lr)\n",
    "lr_sched = CosineAnnealingLR(optim, num_epochs)"
   ]
  },
  {
   "cell_type": "code",
   "execution_count": 10,
   "metadata": {},
   "outputs": [
    {
     "name": "stderr",
     "output_type": "stream",
     "text": [
      "Test 0:  33%|███▎      | 1/3 [00:01<00:02,  1.05s/it] "
     ]
    },
    {
     "name": "stdout",
     "output_type": "stream",
     "text": [
      "torch.Size([32, 1024]) torch.int32 torch.Size([32, 1024]) torch.int32\n",
      "tensor(0.9789, device='cuda:0')\n"
     ]
    },
    {
     "name": "stderr",
     "output_type": "stream",
     "text": [
      "Test 0:  67%|██████▋   | 2/3 [00:02<00:01,  1.03s/it]"
     ]
    },
    {
     "name": "stdout",
     "output_type": "stream",
     "text": [
      "torch.Size([32, 1024]) torch.int32 torch.Size([32, 1024]) torch.int32\n",
      "tensor(0.9864, device='cuda:0')\n"
     ]
    },
    {
     "name": "stderr",
     "output_type": "stream",
     "text": [
      "                                                     \r"
     ]
    },
    {
     "name": "stdout",
     "output_type": "stream",
     "text": [
      "torch.Size([8, 1024]) torch.int32 torch.Size([8, 1024]) torch.int32\n",
      "tensor(0.9775, device='cuda:0')\n",
      "Epoch 0 - train_loss = 0.137 - test_loss = 0.143 - lr = 0.00e+00\n",
      "loss {'test_mean': 0.14330251018206278} 1\n",
      "f1 {'test_mean': 0.9809468587239584} 1\n",
      "mre {'test_mean': 0.14330251018206278} 1\n"
     ]
    },
    {
     "name": "stderr",
     "output_type": "stream",
     "text": [
      "Test 1:  33%|███▎      | 1/3 [00:01<00:02,  1.04s/it] "
     ]
    },
    {
     "name": "stdout",
     "output_type": "stream",
     "text": [
      "torch.Size([32, 1024]) torch.int32 torch.Size([32, 1024]) torch.int32\n",
      "tensor(0.9789, device='cuda:0')\n"
     ]
    },
    {
     "name": "stderr",
     "output_type": "stream",
     "text": [
      "Test 1:  67%|██████▋   | 2/3 [00:02<00:01,  1.03s/it]"
     ]
    },
    {
     "name": "stdout",
     "output_type": "stream",
     "text": [
      "torch.Size([32, 1024]) torch.int32 torch.Size([32, 1024]) torch.int32\n",
      "tensor(0.9864, device='cuda:0')\n"
     ]
    },
    {
     "name": "stderr",
     "output_type": "stream",
     "text": [
      "                                                     \r"
     ]
    },
    {
     "name": "stdout",
     "output_type": "stream",
     "text": [
      "torch.Size([8, 1024]) torch.int32 torch.Size([8, 1024]) torch.int32\n",
      "tensor(0.9775, device='cuda:0')\n",
      "Epoch 1 - train_loss = 0.137 - test_loss = 0.137 - lr = 9.55e-05\n",
      "loss {'test_mean': 0.1366247038046519} 2\n",
      "f1 {'test_mean': 0.9809468587239584} 2\n",
      "mre {'test_mean': 0.1366247038046519} 2\n"
     ]
    },
    {
     "name": "stderr",
     "output_type": "stream",
     "text": [
      "Test 2:  33%|███▎      | 1/3 [00:01<00:02,  1.05s/it] "
     ]
    },
    {
     "name": "stdout",
     "output_type": "stream",
     "text": [
      "torch.Size([32, 1024]) torch.int32 torch.Size([32, 1024]) torch.int32\n",
      "tensor(0.9789, device='cuda:0')\n"
     ]
    },
    {
     "name": "stderr",
     "output_type": "stream",
     "text": [
      "Test 2:  67%|██████▋   | 2/3 [00:02<00:01,  1.03s/it]"
     ]
    },
    {
     "name": "stdout",
     "output_type": "stream",
     "text": [
      "torch.Size([32, 1024]) torch.int32 torch.Size([32, 1024]) torch.int32\n",
      "tensor(0.9864, device='cuda:0')\n"
     ]
    },
    {
     "name": "stderr",
     "output_type": "stream",
     "text": [
      "                                                     \r"
     ]
    },
    {
     "name": "stdout",
     "output_type": "stream",
     "text": [
      "torch.Size([8, 1024]) torch.int32 torch.Size([8, 1024]) torch.int32\n",
      "tensor(0.9775, device='cuda:0')\n",
      "Epoch 2 - train_loss = 0.130 - test_loss = 0.123 - lr = 3.45e-04\n",
      "loss {'test_mean': 0.12277488162120183} 3\n",
      "f1 {'test_mean': 0.9809468587239584} 3\n",
      "mre {'test_mean': 0.12277488162120183} 3\n"
     ]
    },
    {
     "name": "stderr",
     "output_type": "stream",
     "text": [
      "Test 3:  33%|███▎      | 1/3 [00:01<00:02,  1.04s/it] "
     ]
    },
    {
     "name": "stdout",
     "output_type": "stream",
     "text": [
      "torch.Size([32, 1024]) torch.int32 torch.Size([32, 1024]) torch.int32\n",
      "tensor(0.9789, device='cuda:0')\n"
     ]
    },
    {
     "name": "stderr",
     "output_type": "stream",
     "text": [
      "Test 3:  67%|██████▋   | 2/3 [00:02<00:01,  1.03s/it]"
     ]
    },
    {
     "name": "stdout",
     "output_type": "stream",
     "text": [
      "torch.Size([32, 1024]) torch.int32 torch.Size([32, 1024]) torch.int32\n",
      "tensor(0.9864, device='cuda:0')\n"
     ]
    },
    {
     "name": "stderr",
     "output_type": "stream",
     "text": [
      "                                                     \r"
     ]
    },
    {
     "name": "stdout",
     "output_type": "stream",
     "text": [
      "torch.Size([8, 1024]) torch.int32 torch.Size([8, 1024]) torch.int32\n",
      "tensor(0.9775, device='cuda:0')\n",
      "Epoch 3 - train_loss = 0.115 - test_loss = 0.116 - lr = 6.55e-04\n",
      "loss {'test_mean': 0.1160748799641927} 4\n",
      "f1 {'test_mean': 0.9809468587239584} 4\n",
      "mre {'test_mean': 0.1160748799641927} 4\n"
     ]
    },
    {
     "name": "stderr",
     "output_type": "stream",
     "text": [
      "Test 4:  33%|███▎      | 1/3 [00:01<00:02,  1.04s/it] "
     ]
    },
    {
     "name": "stdout",
     "output_type": "stream",
     "text": [
      "torch.Size([32, 1024]) torch.int32 torch.Size([32, 1024]) torch.int32\n",
      "tensor(0.9789, device='cuda:0')\n"
     ]
    },
    {
     "name": "stderr",
     "output_type": "stream",
     "text": [
      "Test 4:  67%|██████▋   | 2/3 [00:02<00:01,  1.07s/it]"
     ]
    },
    {
     "name": "stdout",
     "output_type": "stream",
     "text": [
      "torch.Size([32, 1024]) torch.int32 torch.Size([32, 1024]) torch.int32\n",
      "tensor(0.9864, device='cuda:0')\n"
     ]
    },
    {
     "name": "stderr",
     "output_type": "stream",
     "text": [
      "                                                     "
     ]
    },
    {
     "name": "stdout",
     "output_type": "stream",
     "text": [
      "torch.Size([8, 1024]) torch.int32 torch.Size([8, 1024]) torch.int32\n",
      "tensor(0.9775, device='cuda:0')\n",
      "Epoch 4 - train_loss = 0.107 - test_loss = 0.111 - lr = 9.05e-04\n",
      "loss {'test_mean': 0.1114923506975174} 5\n",
      "f1 {'test_mean': 0.9809468587239584} 5\n",
      "mre {'test_mean': 0.1114923506975174} 5\n"
     ]
    },
    {
     "name": "stderr",
     "output_type": "stream",
     "text": [
      "\r"
     ]
    }
   ],
   "source": [
    "training_loop(\n",
    "    model=model,\n",
    "    engine=engine,\n",
    "    num_epochs=num_epochs,\n",
    "    train_dataloader=train_loader,\n",
    "    test_dataloader=test_loader,\n",
    "    device=device,\n",
    "    optimizer=optim,\n",
    "    lr_scheduler=lr_sched,\n",
    ")\n"
   ]
  },
  {
   "cell_type": "code",
   "execution_count": null,
   "metadata": {},
   "outputs": [],
   "source": []
  }
 ],
 "metadata": {
  "kernelspec": {
   "display_name": "Python 3.8.5 ('masterAI')",
   "language": "python",
   "name": "python3"
  },
  "language_info": {
   "codemirror_mode": {
    "name": "ipython",
    "version": 3
   },
   "file_extension": ".py",
   "mimetype": "text/x-python",
   "name": "python",
   "nbconvert_exporter": "python",
   "pygments_lexer": "ipython3",
   "version": "3.8.5"
  },
  "vscode": {
   "interpreter": {
    "hash": "ab81a77bbd99791b442b66d5911adf60087a90079f5aff673de360844339db9f"
   }
  }
 },
 "nbformat": 4,
 "nbformat_minor": 2
}
