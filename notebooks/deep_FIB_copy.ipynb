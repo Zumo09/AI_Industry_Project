{
 "cells": [
  {
   "cell_type": "code",
   "execution_count": 1,
   "metadata": {},
   "outputs": [],
   "source": [
    "%load_ext autoreload\n",
    "%autoreload 2"
   ]
  },
  {
   "cell_type": "code",
   "execution_count": 2,
   "metadata": {},
   "outputs": [],
   "source": [
    "import torch\n",
    "from torch.optim import Adam\n",
    "from torch.utils.data import DataLoader\n",
    "from torch.optim.lr_scheduler import CosineAnnealingLR\n",
    "\n",
    "from sklearn.model_selection import train_test_split\n",
    "\n",
    "from utils.data import get_dataset_paths\n",
    "from utils.data import Marconi100Dataset\n",
    "from utils.data import UnfoldedDataset\n",
    "from utils.training import training_loop\n",
    "\n",
    "from algos.deep_fib.core import get_masks\n",
    "from algos.deep_fib.core import DeepFIBEngine\n",
    "from algos.deep_fib.sci_net import SCINet"
   ]
  },
  {
   "cell_type": "code",
   "execution_count": 3,
   "metadata": {},
   "outputs": [],
   "source": [
    "paths = get_dataset_paths(\"../data\")\n",
    "train, test = train_test_split(paths, test_size=0.1, random_state=42)\n"
   ]
  },
  {
   "cell_type": "code",
   "execution_count": 4,
   "metadata": {},
   "outputs": [
    {
     "name": "stderr",
     "output_type": "stream",
     "text": [
      "Loading: 100%|██████████| 1/1 [00:01<00:00,  1.63s/it]\n",
      "Loading: 100%|██████████| 5/5 [00:12<00:00,  2.49s/it]\n"
     ]
    }
   ],
   "source": [
    "m_data_train = Marconi100Dataset(train[:1], scaling=\"minmax\")\n",
    "m_data_test = Marconi100Dataset(test[:5], scaling=\"minmax\")\n"
   ]
  },
  {
   "cell_type": "code",
   "execution_count": 5,
   "metadata": {},
   "outputs": [
    {
     "name": "stdout",
     "output_type": "stream",
     "text": [
      "cpu\n"
     ]
    }
   ],
   "source": [
    "device = torch.device(\"cuda\" if torch.cuda.is_available() else \"cpu\")\n",
    "print(device)\n",
    "\n",
    "horizon = 1024\n",
    "stride = 1000\n",
    "n_masks = 100\n",
    "\n",
    "batch_size = 32\n",
    "\n",
    "num_encoder_levels = 2\n",
    "\n",
    "lr = 1e-3\n",
    "num_epochs = 5\n",
    "\n",
    "hidden = None\n",
    "input_dim = 460\n",
    "hidden_size = 4\n",
    "kernel_size = 3\n",
    "dropout = 0.5\n",
    "\n",
    "anomaly_threshold = 0.01\n"
   ]
  },
  {
   "cell_type": "code",
   "execution_count": 6,
   "metadata": {},
   "outputs": [
    {
     "data": {
      "text/plain": [
       "(13, 72, torch.Size([100, 1024, 460]))"
      ]
     },
     "execution_count": 6,
     "metadata": {},
     "output_type": "execute_result"
    }
   ],
   "source": [
    "dataset_train = UnfoldedDataset(\n",
    "    m_data_train, horizon=horizon, stride=stride\n",
    ")\n",
    "dataset_test = UnfoldedDataset(m_data_test, horizon=horizon, stride=stride)\n",
    "\n",
    "masks = get_masks(horizon, n_masks).float()\n",
    "\n",
    "len(dataset_train), len(dataset_test), masks.size()\n"
   ]
  },
  {
   "cell_type": "code",
   "execution_count": 10,
   "metadata": {},
   "outputs": [
    {
     "data": {
      "text/plain": [
       "torch.Size([1024, 460])"
      ]
     },
     "execution_count": 10,
     "metadata": {},
     "output_type": "execute_result"
    }
   ],
   "source": [
    "dataset_test[0]['data'].shape"
   ]
  },
  {
   "cell_type": "code",
   "execution_count": 11,
   "metadata": {},
   "outputs": [
    {
     "data": {
      "text/plain": [
       "torch.Size([1024])"
      ]
     },
     "execution_count": 11,
     "metadata": {},
     "output_type": "execute_result"
    }
   ],
   "source": [
    "dataset_test[0]['label'].shape"
   ]
  },
  {
   "cell_type": "code",
   "execution_count": 7,
   "metadata": {},
   "outputs": [
    {
     "data": {
      "text/plain": [
       "(1, 3)"
      ]
     },
     "execution_count": 7,
     "metadata": {},
     "output_type": "execute_result"
    }
   ],
   "source": [
    "train_loader = DataLoader(\n",
    "    dataset_train,\n",
    "    batch_size,\n",
    "    shuffle=True,\n",
    ")\n",
    "test_loader = DataLoader(\n",
    "    dataset_test,\n",
    "    batch_size,\n",
    "    shuffle=False,\n",
    ")\n",
    "len(train_loader), len(test_loader)\n"
   ]
  },
  {
   "cell_type": "code",
   "execution_count": 8,
   "metadata": {},
   "outputs": [],
   "source": [
    "model = SCINet(\n",
    "    output_len=horizon,\n",
    "    input_len=horizon,\n",
    "    num_encoder_levels=num_encoder_levels,\n",
    "    hidden_decoder_sizes=hidden,\n",
    "    input_dim=input_dim,\n",
    "    hidden_size=hidden_size,\n",
    "    kernel_size=kernel_size,\n",
    "    dropout=dropout,\n",
    ").float()\n",
    "\n",
    "engine = DeepFIBEngine(anomaly_threshold, masks)\n",
    "\n",
    "optim = Adam(model.parameters(), lr=lr)\n",
    "lr_sched = CosineAnnealingLR(optim, num_epochs)"
   ]
  },
  {
   "cell_type": "code",
   "execution_count": null,
   "metadata": {},
   "outputs": [],
   "source": [
    "training_loop(\n",
    "    model=model,\n",
    "    engine=engine,\n",
    "    num_epochs=num_epochs,\n",
    "    train_dataloader=train_loader,\n",
    "    test_dataloader=test_loader,\n",
    "    device=device,\n",
    "    optimizer=optim,\n",
    "    lr_scheduler=lr_sched,\n",
    ")\n"
   ]
  },
  {
   "cell_type": "code",
   "execution_count": null,
   "metadata": {},
   "outputs": [],
   "source": []
  }
 ],
 "metadata": {
  "kernelspec": {
   "display_name": "Python 3.8.5 ('masterAI')",
   "language": "python",
   "name": "python3"
  },
  "language_info": {
   "codemirror_mode": {
    "name": "ipython",
    "version": 3
   },
   "file_extension": ".py",
   "mimetype": "text/x-python",
   "name": "python",
   "nbconvert_exporter": "python",
   "pygments_lexer": "ipython3",
   "version": "3.8.5"
  },
  "vscode": {
   "interpreter": {
    "hash": "ab81a77bbd99791b442b66d5911adf60087a90079f5aff673de360844339db9f"
   }
  }
 },
 "nbformat": 4,
 "nbformat_minor": 2
}
