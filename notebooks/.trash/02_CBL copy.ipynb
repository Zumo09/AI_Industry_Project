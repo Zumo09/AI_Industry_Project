{
 "cells": [
  {
   "cell_type": "code",
   "execution_count": 1,
   "metadata": {},
   "outputs": [],
   "source": [
    "%load_ext autoreload\n",
    "%autoreload 2"
   ]
  },
  {
   "cell_type": "code",
   "execution_count": 2,
   "metadata": {},
   "outputs": [],
   "source": [
    "import json\n",
    "import torch\n",
    "from tqdm import tqdm\n",
    "import matplotlib.pyplot as plt\n",
    "\n",
    "from torch.optim import AdamW\n",
    "from torch.utils.data import DataLoader\n",
    "from torch.optim.lr_scheduler import CosineAnnealingLR\n",
    "from torch.utils.tensorboard.writer import SummaryWriter\n",
    "\n",
    "from sklearn.model_selection import train_test_split\n",
    "\n",
    "from common import data\n",
    "from common.training import training_loop, get_predictions\n",
    "\n",
    "from algos import cbl_2 as cbl\n",
    "from algos.supervised import SupervisedEngine\n",
    "\n",
    "from common.models import resnet, deeplab\n",
    "from common import metrics\n",
    "from common.models.modutils import load_model\n"
   ]
  },
  {
   "cell_type": "markdown",
   "metadata": {},
   "source": [
    "# Hyperparameters"
   ]
  },
  {
   "cell_type": "code",
   "execution_count": 3,
   "metadata": {},
   "outputs": [
    {
     "name": "stdout",
     "output_type": "stream",
     "text": [
      "cuda\n"
     ]
    }
   ],
   "source": [
    "log_dir = \"./outputs/cbl_instance_norm\"\n",
    "\n",
    "horizon = 1024\n",
    "stride = 512\n",
    "\n",
    "batch_size_con = 8\n",
    "batch_size_sup = 16\n",
    "\n",
    "num_epochs_con = 10\n",
    "num_epochs_sup = 5\n",
    "\n",
    "learning_rate_con = 1e-3\n",
    "learning_rate_sup = 1e-3\n",
    "\n",
    "weight_decay_con = 1e-2\n",
    "weight_decay_sup = 1e-2\n",
    "\n",
    "supervised_percentage = 0.25\n",
    "\n",
    "device = torch.device(\"cuda\" if torch.cuda.is_available() else \"cpu\")\n",
    "print(device)\n"
   ]
  },
  {
   "cell_type": "markdown",
   "metadata": {},
   "source": [
    "# Contrastive"
   ]
  },
  {
   "cell_type": "markdown",
   "metadata": {},
   "source": [
    "## Datasets"
   ]
  },
  {
   "cell_type": "code",
   "execution_count": 4,
   "metadata": {},
   "outputs": [],
   "source": [
    "paths = data.get_dataset_paths(\"../data\")\n",
    "train, test = train_test_split(paths, test_size=0.1, random_state=42)\n"
   ]
  },
  {
   "cell_type": "code",
   "execution_count": 5,
   "metadata": {},
   "outputs": [
    {
     "name": "stderr",
     "output_type": "stream",
     "text": [
      "Loading: 100%|██████████| 224/224 [00:42<00:00,  5.29it/s]\n",
      "Loading: 100%|██████████| 25/25 [00:13<00:00,  1.82it/s]\n"
     ]
    }
   ],
   "source": [
    "m_data_train = data.Marconi100Dataset(train, scaling=data.Scaling.STANDARD)\n",
    "m_data_test = data.Marconi100Dataset(test, scaling=data.Scaling.STANDARD)\n"
   ]
  },
  {
   "cell_type": "code",
   "execution_count": 6,
   "metadata": {},
   "outputs": [],
   "source": [
    "train_loader = DataLoader(\n",
    "    data.UnfoldedDataset(m_data_train, horizon=horizon, stride=stride),\n",
    "    batch_size_con,\n",
    "    shuffle=True,\n",
    ")\n",
    "test_loader = DataLoader(\n",
    "    data.UnfoldedDataset(m_data_test, horizon=horizon, stride=stride),\n",
    "    batch_size_con,\n",
    "    shuffle=False,\n",
    ")\n"
   ]
  },
  {
   "cell_type": "markdown",
   "metadata": {},
   "source": [
    "## Model"
   ]
  },
  {
   "cell_type": "code",
   "execution_count": 7,
   "metadata": {},
   "outputs": [],
   "source": [
    "backbone = resnet.ResNetFeatures(\n",
    "    resnet.Bottleneck,\n",
    "    resnet.RESNET50_LAYERS,\n",
    "    num_features=data.NUM_FEATURES,\n",
    "    return_layers=[resnet.LAYER_1, resnet.LAYER_4],\n",
    "    replace_stride_with_dilation=[False, True, True],\n",
    "    norm_layer=torch.nn.InstanceNorm1d\n",
    ")\n",
    "\n",
    "contrastive_model = resnet.ResNet(backbone, 128)\n",
    "optim = AdamW(contrastive_model.parameters(), lr=learning_rate_con, weight_decay=weight_decay_con)\n",
    "lr_sched = CosineAnnealingLR(optim, num_epochs_con)\n",
    "\n",
    "aug = cbl.pipeline(\n",
    "    cbl.random_apply(cbl.left_to_right_flipping(1), 0.5),\n",
    "    cbl.random_apply(cbl.crop_and_resize(1.5, 3), 0.8),\n",
    ")\n",
    "\n",
    "engine_contrastive = cbl.CBLFeatsEngine(\n",
    "    model=contrastive_model,\n",
    "    optimizer=optim,\n",
    "    temperature=0.5,\n",
    "    aug_1=aug,\n",
    "    aug_2=aug,\n",
    "    lr_scheduler=lr_sched,\n",
    "    device=device,\n",
    ")\n"
   ]
  },
  {
   "cell_type": "markdown",
   "metadata": {},
   "source": [
    "## Training"
   ]
  },
  {
   "cell_type": "code",
   "execution_count": 8,
   "metadata": {},
   "outputs": [
    {
     "name": "stderr",
     "output_type": "stream",
     "text": [
      "                                                          \r"
     ]
    },
    {
     "name": "stdout",
     "output_type": "stream",
     "text": [
      "Epoch 0 - train_loss = 2.555 - test_loss = 2.706 - lr = 1.00e-03\n"
     ]
    },
    {
     "name": "stderr",
     "output_type": "stream",
     "text": [
      "                                                          \r"
     ]
    },
    {
     "name": "stdout",
     "output_type": "stream",
     "text": [
      "Epoch 1 - train_loss = 2.527 - test_loss = 2.673 - lr = 9.76e-04\n"
     ]
    },
    {
     "name": "stderr",
     "output_type": "stream",
     "text": [
      "                                                          \r"
     ]
    },
    {
     "name": "stdout",
     "output_type": "stream",
     "text": [
      "Epoch 2 - train_loss = 2.338 - test_loss = 2.617 - lr = 9.05e-04\n"
     ]
    },
    {
     "name": "stderr",
     "output_type": "stream",
     "text": [
      "                                                          \r"
     ]
    },
    {
     "name": "stdout",
     "output_type": "stream",
     "text": [
      "Epoch 3 - train_loss = 2.212 - test_loss = 2.593 - lr = 7.94e-04\n"
     ]
    },
    {
     "name": "stderr",
     "output_type": "stream",
     "text": [
      "                                                          \r"
     ]
    },
    {
     "name": "stdout",
     "output_type": "stream",
     "text": [
      "Epoch 4 - train_loss = 2.069 - test_loss = 2.463 - lr = 6.55e-04\n"
     ]
    },
    {
     "name": "stderr",
     "output_type": "stream",
     "text": [
      "                                                          \r"
     ]
    },
    {
     "name": "stdout",
     "output_type": "stream",
     "text": [
      "Epoch 5 - train_loss = 1.980 - test_loss = 2.429 - lr = 5.00e-04\n"
     ]
    },
    {
     "name": "stderr",
     "output_type": "stream",
     "text": [
      "                                                          \r"
     ]
    },
    {
     "name": "stdout",
     "output_type": "stream",
     "text": [
      "Epoch 6 - train_loss = 1.869 - test_loss = 2.347 - lr = 3.45e-04\n"
     ]
    },
    {
     "name": "stderr",
     "output_type": "stream",
     "text": [
      "                                                          \r"
     ]
    },
    {
     "name": "stdout",
     "output_type": "stream",
     "text": [
      "Epoch 7 - train_loss = 1.559 - test_loss = 2.372 - lr = 2.06e-04\n"
     ]
    },
    {
     "name": "stderr",
     "output_type": "stream",
     "text": [
      "                                                          \r"
     ]
    },
    {
     "name": "stdout",
     "output_type": "stream",
     "text": [
      "Epoch 8 - train_loss = 1.745 - test_loss = 2.359 - lr = 9.55e-05\n"
     ]
    },
    {
     "name": "stderr",
     "output_type": "stream",
     "text": [
      "                                                          \r"
     ]
    },
    {
     "name": "stdout",
     "output_type": "stream",
     "text": [
      "Epoch 9 - train_loss = 1.755 - test_loss = 2.411 - lr = 2.45e-05\n"
     ]
    }
   ],
   "source": [
    "with SummaryWriter(log_dir + \"/contrastive/logs\") as writer:\n",
    "    training_loop(\n",
    "        engine=engine_contrastive,\n",
    "        num_epochs=num_epochs_con,\n",
    "        train_dataloader=train_loader,\n",
    "        test_dataloader=test_loader,\n",
    "        writer=writer,\n",
    "        save_path=log_dir + \"/contrastive/models\",\n",
    "    )\n"
   ]
  },
  {
   "cell_type": "markdown",
   "metadata": {},
   "source": [
    "# Supervised"
   ]
  },
  {
   "cell_type": "markdown",
   "metadata": {},
   "source": [
    "## Dataset"
   ]
  },
  {
   "cell_type": "code",
   "execution_count": 9,
   "metadata": {},
   "outputs": [],
   "source": [
    "n_samples = int(len(test) * supervised_percentage)\n",
    "m_data_train.data = m_data_train.data[:n_samples]\n",
    "\n",
    "sup_loader = DataLoader(\n",
    "    data.UnfoldedDataset(m_data_train, horizon=horizon, stride=stride),\n",
    "    batch_size_sup,\n",
    "    shuffle=True,\n",
    ")\n"
   ]
  },
  {
   "cell_type": "markdown",
   "metadata": {},
   "source": [
    "## Model"
   ]
  },
  {
   "cell_type": "code",
   "execution_count": 10,
   "metadata": {},
   "outputs": [],
   "source": [
    "for p in backbone.parameters():\n",
    "    p.requires_grad = False\n",
    "\n",
    "model = deeplab.DeepLabNet(backbone, backbone_channels=[256, 2048], out_feats=1)\n",
    "\n",
    "optim = AdamW(\n",
    "    model.head.parameters(), lr=learning_rate_sup, weight_decay=weight_decay_sup\n",
    ")\n",
    "lr_sched = CosineAnnealingLR(optim, num_epochs_sup)\n",
    "engine_supervised = SupervisedEngine(\n",
    "    model, device, optimizer=optim, lr_scheduler=lr_sched\n",
    ")\n"
   ]
  },
  {
   "cell_type": "markdown",
   "metadata": {},
   "source": [
    "## Training"
   ]
  },
  {
   "cell_type": "code",
   "execution_count": 11,
   "metadata": {},
   "outputs": [
    {
     "name": "stderr",
     "output_type": "stream",
     "text": [
      "                                                        \r"
     ]
    },
    {
     "name": "stdout",
     "output_type": "stream",
     "text": [
      "Epoch 0 - train_loss = 0.374 - test_loss = 0.659 - lr = 1.00e-03\n"
     ]
    },
    {
     "name": "stderr",
     "output_type": "stream",
     "text": [
      "                                                        \r"
     ]
    },
    {
     "name": "stdout",
     "output_type": "stream",
     "text": [
      "Epoch 1 - train_loss = 0.188 - test_loss = 0.223 - lr = 9.05e-04\n"
     ]
    },
    {
     "name": "stderr",
     "output_type": "stream",
     "text": [
      "                                                        \r"
     ]
    },
    {
     "name": "stdout",
     "output_type": "stream",
     "text": [
      "Epoch 2 - train_loss = 0.155 - test_loss = 0.204 - lr = 6.55e-04\n"
     ]
    },
    {
     "name": "stderr",
     "output_type": "stream",
     "text": [
      "                                                        \r"
     ]
    },
    {
     "name": "stdout",
     "output_type": "stream",
     "text": [
      "Epoch 3 - train_loss = 0.133 - test_loss = 0.185 - lr = 3.45e-04\n"
     ]
    },
    {
     "name": "stderr",
     "output_type": "stream",
     "text": [
      "                                                        \r"
     ]
    },
    {
     "name": "stdout",
     "output_type": "stream",
     "text": [
      "Epoch 4 - train_loss = 0.115 - test_loss = 0.188 - lr = 9.55e-05\n"
     ]
    }
   ],
   "source": [
    "with SummaryWriter(log_dir + \"/supervised/logs\") as writer:\n",
    "    training_loop(\n",
    "        engine=engine_supervised,\n",
    "        num_epochs=num_epochs_sup,\n",
    "        train_dataloader=sup_loader,\n",
    "        test_dataloader=test_loader,\n",
    "        writer=writer,\n",
    "        save_path=log_dir + \"/supervised/models\",\n",
    "    )\n"
   ]
  },
  {
   "cell_type": "markdown",
   "metadata": {},
   "source": [
    "# Evaluating"
   ]
  },
  {
   "cell_type": "code",
   "execution_count": 12,
   "metadata": {},
   "outputs": [],
   "source": [
    "load_model(model, log_dir + \"/supervised/models/model_4.pth\", device);"
   ]
  },
  {
   "cell_type": "code",
   "execution_count": 13,
   "metadata": {},
   "outputs": [],
   "source": [
    "# Cost model\n",
    "cmodel = metrics.default_cmodel()\n"
   ]
  },
  {
   "cell_type": "code",
   "execution_count": 14,
   "metadata": {},
   "outputs": [
    {
     "name": "stderr",
     "output_type": "stream",
     "text": [
      "100%|██████████| 81/81 [00:09<00:00,  8.37it/s]\n"
     ]
    }
   ],
   "source": [
    "scores, labels = get_predictions(engine_supervised.predict, test_loader)\n"
   ]
  },
  {
   "cell_type": "code",
   "execution_count": 15,
   "metadata": {},
   "outputs": [
    {
     "data": {
      "text/plain": [
       "(-1.8739959049224666, 218.89026)"
      ]
     },
     "execution_count": 15,
     "metadata": {},
     "output_type": "execute_result"
    }
   ],
   "source": [
    "cmodel.fit(scores, labels).optimize()\n"
   ]
  },
  {
   "cell_type": "code",
   "execution_count": 16,
   "metadata": {},
   "outputs": [
    {
     "data": {
      "image/png": "[encoded data removed]",
      "text/plain": [
       "<Figure size 1080x360 with 1 Axes>"
      ]
     },
     "metadata": {
      "needs_background": "light"
     },
     "output_type": "display_data"
    }
   ],
   "source": [
    "metrics.plot_cost(cmodel)\n"
   ]
  },
  {
   "cell_type": "code",
   "execution_count": 17,
   "metadata": {},
   "outputs": [
    {
     "data": {
      "image/png": "[encoded data removed]",
      "text/plain": [
       "<Figure size 1080x360 with 3 Axes>"
      ]
     },
     "metadata": {
      "needs_background": "light"
     },
     "output_type": "display_data"
    }
   ],
   "source": [
    "metrics.plot_errors_curve(\n",
    "    cmodel.false_positives, cmodel.false_negatives, cmodel.thresholds, figsize=(15, 5)\n",
    ")\n"
   ]
  },
  {
   "cell_type": "code",
   "execution_count": 18,
   "metadata": {},
   "outputs": [
    {
     "data": {
      "image/png": "[encoded data removed]",
      "text/plain": [
       "<Figure size 1080x1080 with 4 Axes>"
      ]
     },
     "metadata": {
      "needs_background": "light"
     },
     "output_type": "display_data"
    }
   ],
   "source": [
    "pr, rec, f1 = metrics.precision_recall_f1(\n",
    "    cmodel.false_positives, cmodel.false_negatives\n",
    ")\n",
    "metrics.plot_precision_recall_f1_curve(pr, rec, f1, cmodel.thresholds)\n"
   ]
  },
  {
   "cell_type": "code",
   "execution_count": 20,
   "metadata": {},
   "outputs": [
    {
     "name": "stderr",
     "output_type": "stream",
     "text": [
      "100%|██████████| 11/11 [00:03<00:00,  3.13it/s]\n",
      "100%|██████████| 81/81 [00:12<00:00,  6.52it/s]\n"
     ]
    },
    {
     "name": "stdout",
     "output_type": "stream",
     "text": [
      "TRAIN loss TRAIN mode 2.454958438873291\n",
      "TEST loss TRAIN mode 2.3812899589538574\n"
     ]
    },
    {
     "name": "stderr",
     "output_type": "stream",
     "text": [
      "100%|██████████| 11/11 [00:03<00:00,  3.32it/s]\n",
      "100%|██████████| 81/81 [00:12<00:00,  6.56it/s]"
     ]
    },
    {
     "name": "stdout",
     "output_type": "stream",
     "text": [
      "TRAIN loss EVAL mode 2.4433400630950928\n",
      "TEST loss EVAL mode 2.320758819580078\n"
     ]
    },
    {
     "name": "stderr",
     "output_type": "stream",
     "text": [
      "\n"
     ]
    }
   ],
   "source": [
    "with torch.no_grad():\n",
    "    engine_contrastive.model.train()\n",
    "    tl = 0\n",
    "    for b in tqdm(sup_loader):\n",
    "        tl += engine_contrastive._get_loss(b)\n",
    "    tl /= len(sup_loader)\n",
    "    sl = 0\n",
    "    for b in tqdm(test_loader):\n",
    "        sl += engine_contrastive._get_loss(b)\n",
    "    sl /= len(test_loader)\n",
    "\n",
    "    print(\"TRAIN loss TRAIN mode\", tl.item())\n",
    "    print(\"TEST loss TRAIN mode\", sl.item())\n",
    "    engine_contrastive.model.eval()\n",
    "    tl = 0\n",
    "    for b in tqdm(sup_loader):\n",
    "        tl += engine_contrastive._get_loss(b)\n",
    "    tl /= len(sup_loader)\n",
    "    sl = 0\n",
    "    for b in tqdm(test_loader):\n",
    "        sl += engine_contrastive._get_loss(b)\n",
    "    sl /= len(test_loader)\n",
    "\n",
    "    print(\"TRAIN loss EVAL mode\", tl.item())\n",
    "    print(\"TEST loss EVAL mode\", sl.item())"
   ]
  },
  {
   "cell_type": "code",
   "execution_count": null,
   "metadata": {},
   "outputs": [],
   "source": []
  }
 ],
 "metadata": {
  "kernelspec": {
   "display_name": "Python 3.8.13 ('torch-gpu')",
   "language": "python",
   "name": "python3"
  },
  "language_info": {
   "codemirror_mode": {
    "name": "ipython",
    "version": 3
   },
   "file_extension": ".py",
   "mimetype": "text/x-python",
   "name": "python",
   "nbconvert_exporter": "python",
   "pygments_lexer": "ipython3",
   "version": "3.8.13"
  },
  "vscode": {
   "interpreter": {
    "hash": "c004a322e9c82f28ba2e77aacdbb1b6ccb0b2b4ae6a31db23bc8a8c53511ac4a"
   }
  }
 },
 "nbformat": 4,
 "nbformat_minor": 2
}
