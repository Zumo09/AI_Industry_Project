{
 "cells": [
  {
   "cell_type": "code",
   "execution_count": 1,
   "metadata": {},
   "outputs": [],
   "source": [
    "%load_ext autoreload\n",
    "%autoreload 2"
   ]
  },
  {
   "cell_type": "code",
   "execution_count": 2,
   "metadata": {},
   "outputs": [],
   "source": [
    "import json\n",
    "import torch\n",
    "from torch.optim import Adam\n",
    "from torch.utils.data import DataLoader\n",
    "from torch.optim.lr_scheduler import CosineAnnealingLR\n",
    "from torch.utils.tensorboard.writer import SummaryWriter\n",
    "\n",
    "from sklearn.model_selection import train_test_split\n",
    "\n",
    "from common import data\n",
    "from common.training import training_loop\n",
    "\n",
    "from algos import deep_fib\n",
    "\n",
    "from common.models import resnet, deeplab, scinet\n",
    "\n",
    "SCINET = \"scinet\"\n",
    "DEEPLAB = \"deeplab\""
   ]
  },
  {
   "cell_type": "code",
   "execution_count": 3,
   "metadata": {},
   "outputs": [],
   "source": [
    "paths = data.get_dataset_paths(\"../data\")\n",
    "train, test = train_test_split(paths, test_size=0.1, random_state=42)\n"
   ]
  },
  {
   "cell_type": "code",
   "execution_count": 4,
   "metadata": {},
   "outputs": [
    {
     "name": "stderr",
     "output_type": "stream",
     "text": [
      "Loading: 100%|██████████| 224/224 [04:29<00:00,  1.21s/it]\n",
      "Loading: 100%|██████████| 25/25 [00:44<00:00,  1.78s/it]\n"
     ]
    }
   ],
   "source": [
    "m_data_train = data.Marconi100Dataset(train, scaling=data.Scaling.MINMAX)\n",
    "m_data_test = data.Marconi100Dataset(test, scaling=data.Scaling.MINMAX)\n"
   ]
  },
  {
   "cell_type": "code",
   "execution_count": 5,
   "metadata": {},
   "outputs": [
    {
     "name": "stdout",
     "output_type": "stream",
     "text": [
      "cuda\n"
     ]
    }
   ],
   "source": [
    "model_name = DEEPLAB\n",
    "horizon = 1024\n",
    "stride = 512\n",
    "n_masks = 50\n",
    "\n",
    "batch_size = 32\n",
    "\n",
    "log_dir = \"./outputs/deep_fib_deeplab_sigmoid\"\n",
    "lr = 1e-3\n",
    "num_epochs = 30\n",
    "\n",
    "anomaly_threshold = 0.1  # to be tuned\n",
    "\n",
    "device = torch.device(\"cuda\" if torch.cuda.is_available() else \"cpu\")\n",
    "print(device)"
   ]
  },
  {
   "cell_type": "code",
   "execution_count": 6,
   "metadata": {},
   "outputs": [
    {
     "name": "stdout",
     "output_type": "stream",
     "text": [
      "5644 647 torch.Size([50, 1024, 460])\n"
     ]
    }
   ],
   "source": [
    "dataset_train = data.UnfoldedDataset(m_data_train, horizon=horizon, stride=stride)\n",
    "dataset_test = data.UnfoldedDataset(m_data_test, horizon=horizon, stride=stride)\n",
    "\n",
    "masks = deep_fib.get_masks(horizon, n_masks).float()\n",
    "\n",
    "print(len(dataset_train), len(dataset_test), masks.size())\n"
   ]
  },
  {
   "cell_type": "code",
   "execution_count": 7,
   "metadata": {},
   "outputs": [
    {
     "name": "stdout",
     "output_type": "stream",
     "text": [
      "177 21\n"
     ]
    }
   ],
   "source": [
    "train_loader = DataLoader(\n",
    "    dataset_train,\n",
    "    batch_size,\n",
    "    shuffle=True,\n",
    ")\n",
    "test_loader = DataLoader(\n",
    "    dataset_test,\n",
    "    batch_size,\n",
    "    shuffle=False,\n",
    ")\n",
    "print(len(train_loader), len(test_loader))\n"
   ]
  },
  {
   "cell_type": "code",
   "execution_count": 8,
   "metadata": {},
   "outputs": [
    {
     "name": "stdout",
     "output_type": "stream",
     "text": [
      "DeepLabNet(\n",
      "  (backbone): ResNetFeatures(\n",
      "    (conv1): Conv1d(460, 64, kernel_size=(7,), stride=(2,), padding=(3,), bias=False)\n",
      "    (bn1): BatchNorm1d(64, eps=1e-05, momentum=0.1, affine=True, track_running_stats=True)\n",
      "    (relu): ReLU(inplace=True)\n",
      "    (layers): ModuleList(\n",
      "      (0): Sequential(\n",
      "        (0): Bottleneck(\n",
      "          (conv1): Conv1d(64, 64, kernel_size=(1,), stride=(1,), bias=False)\n",
      "          (bn1): BatchNorm1d(64, eps=1e-05, momentum=0.1, affine=True, track_running_stats=True)\n",
      "          (conv2): Conv1d(64, 64, kernel_size=(3,), stride=(1,), padding=(1,), bias=False, padding_mode=reflect)\n",
      "          (bn2): BatchNorm1d(64, eps=1e-05, momentum=0.1, affine=True, track_running_stats=True)\n",
      "          (conv3): Conv1d(64, 256, kernel_size=(1,), stride=(1,), bias=False)\n",
      "          (bn3): BatchNorm1d(256, eps=1e-05, momentum=0.1, affine=True, track_running_stats=True)\n",
      "          (relu): ReLU(inplace=True)\n",
      "          (downsample): Sequential(\n",
      "            (0): Conv1d(64, 256, kernel_size=(1,), stride=(1,), bias=False)\n",
      "            (1): BatchNorm1d(256, eps=1e-05, momentum=0.1, affine=True, track_running_stats=True)\n",
      "          )\n",
      "        )\n",
      "        (1): Bottleneck(\n",
      "          (conv1): Conv1d(256, 64, kernel_size=(1,), stride=(1,), bias=False)\n",
      "          (bn1): BatchNorm1d(64, eps=1e-05, momentum=0.1, affine=True, track_running_stats=True)\n",
      "          (conv2): Conv1d(64, 64, kernel_size=(3,), stride=(1,), padding=(1,), bias=False, padding_mode=reflect)\n",
      "          (bn2): BatchNorm1d(64, eps=1e-05, momentum=0.1, affine=True, track_running_stats=True)\n",
      "          (conv3): Conv1d(64, 256, kernel_size=(1,), stride=(1,), bias=False)\n",
      "          (bn3): BatchNorm1d(256, eps=1e-05, momentum=0.1, affine=True, track_running_stats=True)\n",
      "          (relu): ReLU(inplace=True)\n",
      "        )\n",
      "        (2): Bottleneck(\n",
      "          (conv1): Conv1d(256, 64, kernel_size=(1,), stride=(1,), bias=False)\n",
      "          (bn1): BatchNorm1d(64, eps=1e-05, momentum=0.1, affine=True, track_running_stats=True)\n",
      "          (conv2): Conv1d(64, 64, kernel_size=(3,), stride=(1,), padding=(1,), bias=False, padding_mode=reflect)\n",
      "          (bn2): BatchNorm1d(64, eps=1e-05, momentum=0.1, affine=True, track_running_stats=True)\n",
      "          (conv3): Conv1d(64, 256, kernel_size=(1,), stride=(1,), bias=False)\n",
      "          (bn3): BatchNorm1d(256, eps=1e-05, momentum=0.1, affine=True, track_running_stats=True)\n",
      "          (relu): ReLU(inplace=True)\n",
      "        )\n",
      "      )\n",
      "      (1): Sequential(\n",
      "        (0): Bottleneck(\n",
      "          (conv1): Conv1d(256, 128, kernel_size=(1,), stride=(1,), bias=False)\n",
      "          (bn1): BatchNorm1d(128, eps=1e-05, momentum=0.1, affine=True, track_running_stats=True)\n",
      "          (conv2): Conv1d(128, 128, kernel_size=(3,), stride=(2,), padding=(1,), bias=False, padding_mode=reflect)\n",
      "          (bn2): BatchNorm1d(128, eps=1e-05, momentum=0.1, affine=True, track_running_stats=True)\n",
      "          (conv3): Conv1d(128, 512, kernel_size=(1,), stride=(1,), bias=False)\n",
      "          (bn3): BatchNorm1d(512, eps=1e-05, momentum=0.1, affine=True, track_running_stats=True)\n",
      "          (relu): ReLU(inplace=True)\n",
      "          (downsample): Sequential(\n",
      "            (0): Conv1d(256, 512, kernel_size=(1,), stride=(2,), bias=False)\n",
      "            (1): BatchNorm1d(512, eps=1e-05, momentum=0.1, affine=True, track_running_stats=True)\n",
      "          )\n",
      "        )\n",
      "        (1): Bottleneck(\n",
      "          (conv1): Conv1d(512, 128, kernel_size=(1,), stride=(1,), bias=False)\n",
      "          (bn1): BatchNorm1d(128, eps=1e-05, momentum=0.1, affine=True, track_running_stats=True)\n",
      "          (conv2): Conv1d(128, 128, kernel_size=(3,), stride=(1,), padding=(1,), bias=False, padding_mode=reflect)\n",
      "          (bn2): BatchNorm1d(128, eps=1e-05, momentum=0.1, affine=True, track_running_stats=True)\n",
      "          (conv3): Conv1d(128, 512, kernel_size=(1,), stride=(1,), bias=False)\n",
      "          (bn3): BatchNorm1d(512, eps=1e-05, momentum=0.1, affine=True, track_running_stats=True)\n",
      "          (relu): ReLU(inplace=True)\n",
      "        )\n",
      "        (2): Bottleneck(\n",
      "          (conv1): Conv1d(512, 128, kernel_size=(1,), stride=(1,), bias=False)\n",
      "          (bn1): BatchNorm1d(128, eps=1e-05, momentum=0.1, affine=True, track_running_stats=True)\n",
      "          (conv2): Conv1d(128, 128, kernel_size=(3,), stride=(1,), padding=(1,), bias=False, padding_mode=reflect)\n",
      "          (bn2): BatchNorm1d(128, eps=1e-05, momentum=0.1, affine=True, track_running_stats=True)\n",
      "          (conv3): Conv1d(128, 512, kernel_size=(1,), stride=(1,), bias=False)\n",
      "          (bn3): BatchNorm1d(512, eps=1e-05, momentum=0.1, affine=True, track_running_stats=True)\n",
      "          (relu): ReLU(inplace=True)\n",
      "        )\n",
      "        (3): Bottleneck(\n",
      "          (conv1): Conv1d(512, 128, kernel_size=(1,), stride=(1,), bias=False)\n",
      "          (bn1): BatchNorm1d(128, eps=1e-05, momentum=0.1, affine=True, track_running_stats=True)\n",
      "          (conv2): Conv1d(128, 128, kernel_size=(3,), stride=(1,), padding=(1,), bias=False, padding_mode=reflect)\n",
      "          (bn2): BatchNorm1d(128, eps=1e-05, momentum=0.1, affine=True, track_running_stats=True)\n",
      "          (conv3): Conv1d(128, 512, kernel_size=(1,), stride=(1,), bias=False)\n",
      "          (bn3): BatchNorm1d(512, eps=1e-05, momentum=0.1, affine=True, track_running_stats=True)\n",
      "          (relu): ReLU(inplace=True)\n",
      "        )\n",
      "      )\n",
      "      (2): Sequential(\n",
      "        (0): Bottleneck(\n",
      "          (conv1): Conv1d(512, 256, kernel_size=(1,), stride=(1,), bias=False)\n",
      "          (bn1): BatchNorm1d(256, eps=1e-05, momentum=0.1, affine=True, track_running_stats=True)\n",
      "          (conv2): Conv1d(256, 256, kernel_size=(3,), stride=(1,), padding=(1,), bias=False, padding_mode=reflect)\n",
      "          (bn2): BatchNorm1d(256, eps=1e-05, momentum=0.1, affine=True, track_running_stats=True)\n",
      "          (conv3): Conv1d(256, 1024, kernel_size=(1,), stride=(1,), bias=False)\n",
      "          (bn3): BatchNorm1d(1024, eps=1e-05, momentum=0.1, affine=True, track_running_stats=True)\n",
      "          (relu): ReLU(inplace=True)\n",
      "          (downsample): Sequential(\n",
      "            (0): Conv1d(512, 1024, kernel_size=(1,), stride=(1,), bias=False)\n",
      "            (1): BatchNorm1d(1024, eps=1e-05, momentum=0.1, affine=True, track_running_stats=True)\n",
      "          )\n",
      "        )\n",
      "        (1): Bottleneck(\n",
      "          (conv1): Conv1d(1024, 256, kernel_size=(1,), stride=(1,), bias=False)\n",
      "          (bn1): BatchNorm1d(256, eps=1e-05, momentum=0.1, affine=True, track_running_stats=True)\n",
      "          (conv2): Conv1d(256, 256, kernel_size=(3,), stride=(1,), padding=(2,), dilation=(2,), bias=False, padding_mode=reflect)\n",
      "          (bn2): BatchNorm1d(256, eps=1e-05, momentum=0.1, affine=True, track_running_stats=True)\n",
      "          (conv3): Conv1d(256, 1024, kernel_size=(1,), stride=(1,), bias=False)\n",
      "          (bn3): BatchNorm1d(1024, eps=1e-05, momentum=0.1, affine=True, track_running_stats=True)\n",
      "          (relu): ReLU(inplace=True)\n",
      "        )\n",
      "        (2): Bottleneck(\n",
      "          (conv1): Conv1d(1024, 256, kernel_size=(1,), stride=(1,), bias=False)\n",
      "          (bn1): BatchNorm1d(256, eps=1e-05, momentum=0.1, affine=True, track_running_stats=True)\n",
      "          (conv2): Conv1d(256, 256, kernel_size=(3,), stride=(1,), padding=(2,), dilation=(2,), bias=False, padding_mode=reflect)\n",
      "          (bn2): BatchNorm1d(256, eps=1e-05, momentum=0.1, affine=True, track_running_stats=True)\n",
      "          (conv3): Conv1d(256, 1024, kernel_size=(1,), stride=(1,), bias=False)\n",
      "          (bn3): BatchNorm1d(1024, eps=1e-05, momentum=0.1, affine=True, track_running_stats=True)\n",
      "          (relu): ReLU(inplace=True)\n",
      "        )\n",
      "        (3): Bottleneck(\n",
      "          (conv1): Conv1d(1024, 256, kernel_size=(1,), stride=(1,), bias=False)\n",
      "          (bn1): BatchNorm1d(256, eps=1e-05, momentum=0.1, affine=True, track_running_stats=True)\n",
      "          (conv2): Conv1d(256, 256, kernel_size=(3,), stride=(1,), padding=(2,), dilation=(2,), bias=False, padding_mode=reflect)\n",
      "          (bn2): BatchNorm1d(256, eps=1e-05, momentum=0.1, affine=True, track_running_stats=True)\n",
      "          (conv3): Conv1d(256, 1024, kernel_size=(1,), stride=(1,), bias=False)\n",
      "          (bn3): BatchNorm1d(1024, eps=1e-05, momentum=0.1, affine=True, track_running_stats=True)\n",
      "          (relu): ReLU(inplace=True)\n",
      "        )\n",
      "        (4): Bottleneck(\n",
      "          (conv1): Conv1d(1024, 256, kernel_size=(1,), stride=(1,), bias=False)\n",
      "          (bn1): BatchNorm1d(256, eps=1e-05, momentum=0.1, affine=True, track_running_stats=True)\n",
      "          (conv2): Conv1d(256, 256, kernel_size=(3,), stride=(1,), padding=(2,), dilation=(2,), bias=False, padding_mode=reflect)\n",
      "          (bn2): BatchNorm1d(256, eps=1e-05, momentum=0.1, affine=True, track_running_stats=True)\n",
      "          (conv3): Conv1d(256, 1024, kernel_size=(1,), stride=(1,), bias=False)\n",
      "          (bn3): BatchNorm1d(1024, eps=1e-05, momentum=0.1, affine=True, track_running_stats=True)\n",
      "          (relu): ReLU(inplace=True)\n",
      "        )\n",
      "        (5): Bottleneck(\n",
      "          (conv1): Conv1d(1024, 256, kernel_size=(1,), stride=(1,), bias=False)\n",
      "          (bn1): BatchNorm1d(256, eps=1e-05, momentum=0.1, affine=True, track_running_stats=True)\n",
      "          (conv2): Conv1d(256, 256, kernel_size=(3,), stride=(1,), padding=(2,), dilation=(2,), bias=False, padding_mode=reflect)\n",
      "          (bn2): BatchNorm1d(256, eps=1e-05, momentum=0.1, affine=True, track_running_stats=True)\n",
      "          (conv3): Conv1d(256, 1024, kernel_size=(1,), stride=(1,), bias=False)\n",
      "          (bn3): BatchNorm1d(1024, eps=1e-05, momentum=0.1, affine=True, track_running_stats=True)\n",
      "          (relu): ReLU(inplace=True)\n",
      "        )\n",
      "      )\n",
      "      (3): Sequential(\n",
      "        (0): Bottleneck(\n",
      "          (conv1): Conv1d(1024, 512, kernel_size=(1,), stride=(1,), bias=False)\n",
      "          (bn1): BatchNorm1d(512, eps=1e-05, momentum=0.1, affine=True, track_running_stats=True)\n",
      "          (conv2): Conv1d(512, 512, kernel_size=(3,), stride=(1,), padding=(2,), dilation=(2,), bias=False, padding_mode=reflect)\n",
      "          (bn2): BatchNorm1d(512, eps=1e-05, momentum=0.1, affine=True, track_running_stats=True)\n",
      "          (conv3): Conv1d(512, 2048, kernel_size=(1,), stride=(1,), bias=False)\n",
      "          (bn3): BatchNorm1d(2048, eps=1e-05, momentum=0.1, affine=True, track_running_stats=True)\n",
      "          (relu): ReLU(inplace=True)\n",
      "          (downsample): Sequential(\n",
      "            (0): Conv1d(1024, 2048, kernel_size=(1,), stride=(1,), bias=False)\n",
      "            (1): BatchNorm1d(2048, eps=1e-05, momentum=0.1, affine=True, track_running_stats=True)\n",
      "          )\n",
      "        )\n",
      "        (1): Bottleneck(\n",
      "          (conv1): Conv1d(2048, 512, kernel_size=(1,), stride=(1,), bias=False)\n",
      "          (bn1): BatchNorm1d(512, eps=1e-05, momentum=0.1, affine=True, track_running_stats=True)\n",
      "          (conv2): Conv1d(512, 512, kernel_size=(3,), stride=(1,), padding=(4,), dilation=(4,), bias=False, padding_mode=reflect)\n",
      "          (bn2): BatchNorm1d(512, eps=1e-05, momentum=0.1, affine=True, track_running_stats=True)\n",
      "          (conv3): Conv1d(512, 2048, kernel_size=(1,), stride=(1,), bias=False)\n",
      "          (bn3): BatchNorm1d(2048, eps=1e-05, momentum=0.1, affine=True, track_running_stats=True)\n",
      "          (relu): ReLU(inplace=True)\n",
      "        )\n",
      "        (2): Bottleneck(\n",
      "          (conv1): Conv1d(2048, 512, kernel_size=(1,), stride=(1,), bias=False)\n",
      "          (bn1): BatchNorm1d(512, eps=1e-05, momentum=0.1, affine=True, track_running_stats=True)\n",
      "          (conv2): Conv1d(512, 512, kernel_size=(3,), stride=(1,), padding=(4,), dilation=(4,), bias=False, padding_mode=reflect)\n",
      "          (bn2): BatchNorm1d(512, eps=1e-05, momentum=0.1, affine=True, track_running_stats=True)\n",
      "          (conv3): Conv1d(512, 2048, kernel_size=(1,), stride=(1,), bias=False)\n",
      "          (bn3): BatchNorm1d(2048, eps=1e-05, momentum=0.1, affine=True, track_running_stats=True)\n",
      "          (relu): ReLU(inplace=True)\n",
      "        )\n",
      "      )\n",
      "    )\n",
      "  )\n",
      "  (head): DeepLabHeadV3Plus(\n",
      "    (project): Sequential(\n",
      "      (0): Conv1d(256, 128, kernel_size=(1,), stride=(1,), bias=False)\n",
      "      (1): BatchNorm1d(128, eps=1e-05, momentum=0.1, affine=True, track_running_stats=True)\n",
      "      (2): ReLU(inplace=True)\n",
      "    )\n",
      "    (aspp): ASPP(\n",
      "      (convs): ModuleList(\n",
      "        (0): Sequential(\n",
      "          (0): Conv1d(2048, 256, kernel_size=(1,), stride=(1,), bias=False)\n",
      "          (1): BatchNorm1d(256, eps=1e-05, momentum=0.1, affine=True, track_running_stats=True)\n",
      "          (2): ReLU()\n",
      "        )\n",
      "        (1): ASPPConv(\n",
      "          (0): Conv1d(2048, 256, kernel_size=(3,), stride=(1,), padding=(12,), dilation=(12,), bias=False)\n",
      "          (1): BatchNorm1d(256, eps=1e-05, momentum=0.1, affine=True, track_running_stats=True)\n",
      "          (2): ReLU()\n",
      "        )\n",
      "        (2): ASPPConv(\n",
      "          (0): Conv1d(2048, 256, kernel_size=(3,), stride=(1,), padding=(24,), dilation=(24,), bias=False)\n",
      "          (1): BatchNorm1d(256, eps=1e-05, momentum=0.1, affine=True, track_running_stats=True)\n",
      "          (2): ReLU()\n",
      "        )\n",
      "        (3): ASPPConv(\n",
      "          (0): Conv1d(2048, 256, kernel_size=(3,), stride=(1,), padding=(36,), dilation=(36,), bias=False)\n",
      "          (1): BatchNorm1d(256, eps=1e-05, momentum=0.1, affine=True, track_running_stats=True)\n",
      "          (2): ReLU()\n",
      "        )\n",
      "        (4): ASPPPooling(\n",
      "          (0): AdaptiveAvgPool1d(output_size=1)\n",
      "          (1): Conv1d(2048, 256, kernel_size=(1,), stride=(1,), bias=False)\n",
      "          (2): BatchNorm1d(256, eps=1e-05, momentum=0.1, affine=True, track_running_stats=True)\n",
      "          (3): ReLU()\n",
      "        )\n",
      "      )\n",
      "      (project): Sequential(\n",
      "        (0): Conv1d(1280, 256, kernel_size=(1,), stride=(1,), bias=False)\n",
      "        (1): BatchNorm1d(256, eps=1e-05, momentum=0.1, affine=True, track_running_stats=True)\n",
      "        (2): ReLU()\n",
      "        (3): Dropout(p=0.5, inplace=False)\n",
      "      )\n",
      "    )\n",
      "    (classifier): Sequential(\n",
      "      (0): Conv1d(384, 256, kernel_size=(3,), stride=(1,), padding=(1,), bias=False)\n",
      "      (1): BatchNorm1d(256, eps=1e-05, momentum=0.1, affine=True, track_running_stats=True)\n",
      "      (2): ReLU(inplace=True)\n",
      "      (3): Conv1d(256, 460, kernel_size=(1,), stride=(1,))\n",
      "    )\n",
      "  )\n",
      ")\n"
     ]
    }
   ],
   "source": [
    "if model_name == SCINET:\n",
    "    num_encoder_levels = 3\n",
    "    hidden = [512]\n",
    "    input_dim = 460\n",
    "    hidden_size = 2\n",
    "    kernel_size = 3\n",
    "    dropout = 0.5\n",
    "\n",
    "    model = scinet.SCINet(\n",
    "        output_len=horizon,\n",
    "        input_len=horizon,\n",
    "        num_encoder_levels=num_encoder_levels,\n",
    "        hidden_decoder_sizes=hidden,\n",
    "        input_dim=input_dim,\n",
    "        hidden_size=hidden_size,\n",
    "        kernel_size=kernel_size,\n",
    "        dropout=dropout,\n",
    "    ).float()\n",
    "    with open(f\"{log_dir}/config.json\", \"w\") as f:\n",
    "        json.dump(\n",
    "            dict(\n",
    "                output_len=horizon,\n",
    "                input_len=horizon,\n",
    "                num_encoder_levels=num_encoder_levels,\n",
    "                hidden_decoder_sizes=hidden,\n",
    "                input_dim=input_dim,\n",
    "                hidden_size=hidden_size,\n",
    "                kernel_size=kernel_size,\n",
    "                dropout=dropout,\n",
    "            ),\n",
    "            f,\n",
    "        )\n",
    "elif model_name == DEEPLAB:\n",
    "    model = deeplab.DeepLabNet(\n",
    "        resnet.ResNetFeatures(\n",
    "            resnet.Bottleneck,\n",
    "            resnet.RESNET50_LAYERS,\n",
    "            return_layers=[resnet.LAYER_1, resnet.LAYER_4],\n",
    "            replace_stride_with_dilation=[False, True, True],\n",
    "            num_features=data.NUM_FEATURES,\n",
    "        ),\n",
    "        backbone_channels=[256, 2048],\n",
    "        out_feats=data.NUM_FEATURES,\n",
    "    ).float()\n",
    "else:\n",
    "    raise ValueError(\"Wrong model name\")\n",
    "\n",
    "print(model)"
   ]
  },
  {
   "cell_type": "code",
   "execution_count": 9,
   "metadata": {},
   "outputs": [
    {
     "data": {
      "text/plain": [
       "0"
      ]
     },
     "execution_count": 9,
     "metadata": {},
     "output_type": "execute_result"
    }
   ],
   "source": [
    "import gc\n",
    "\n",
    "gc.collect()"
   ]
  },
  {
   "cell_type": "code",
   "execution_count": 10,
   "metadata": {},
   "outputs": [
    {
     "name": "stderr",
     "output_type": "stream",
     "text": [
      "                                                          \r"
     ]
    },
    {
     "name": "stdout",
     "output_type": "stream",
     "text": [
      "Epoch 0 - train_loss = 0.055 - test_loss = 0.056 - lr = 1.00e-03\n"
     ]
    },
    {
     "name": "stderr",
     "output_type": "stream",
     "text": [
      "                                                          \r"
     ]
    },
    {
     "name": "stdout",
     "output_type": "stream",
     "text": [
      "Epoch 1 - train_loss = 0.050 - test_loss = 0.049 - lr = 9.97e-04\n"
     ]
    },
    {
     "name": "stderr",
     "output_type": "stream",
     "text": [
      "                                                          \r"
     ]
    },
    {
     "name": "stdout",
     "output_type": "stream",
     "text": [
      "Epoch 2 - train_loss = 0.047 - test_loss = 0.048 - lr = 9.89e-04\n"
     ]
    },
    {
     "name": "stderr",
     "output_type": "stream",
     "text": [
      "                                                          \r"
     ]
    },
    {
     "name": "stdout",
     "output_type": "stream",
     "text": [
      "Epoch 3 - train_loss = 0.044 - test_loss = 0.043 - lr = 9.76e-04\n"
     ]
    },
    {
     "name": "stderr",
     "output_type": "stream",
     "text": [
      "                                                          \r"
     ]
    },
    {
     "name": "stdout",
     "output_type": "stream",
     "text": [
      "Epoch 4 - train_loss = 0.042 - test_loss = 0.044 - lr = 9.57e-04\n"
     ]
    },
    {
     "name": "stderr",
     "output_type": "stream",
     "text": [
      "                                                          \r"
     ]
    },
    {
     "name": "stdout",
     "output_type": "stream",
     "text": [
      "Epoch 5 - train_loss = 0.041 - test_loss = 0.042 - lr = 9.33e-04\n"
     ]
    },
    {
     "name": "stderr",
     "output_type": "stream",
     "text": [
      "                                                          \r"
     ]
    },
    {
     "name": "stdout",
     "output_type": "stream",
     "text": [
      "Epoch 6 - train_loss = 0.041 - test_loss = 0.040 - lr = 9.05e-04\n"
     ]
    },
    {
     "name": "stderr",
     "output_type": "stream",
     "text": [
      "                                                          \r"
     ]
    },
    {
     "name": "stdout",
     "output_type": "stream",
     "text": [
      "Epoch 7 - train_loss = 0.040 - test_loss = 0.042 - lr = 8.72e-04\n"
     ]
    },
    {
     "name": "stderr",
     "output_type": "stream",
     "text": [
      "                                                          \r"
     ]
    },
    {
     "name": "stdout",
     "output_type": "stream",
     "text": [
      "Epoch 8 - train_loss = 0.038 - test_loss = 0.039 - lr = 8.35e-04\n"
     ]
    },
    {
     "name": "stderr",
     "output_type": "stream",
     "text": [
      "                                                          \r"
     ]
    },
    {
     "name": "stdout",
     "output_type": "stream",
     "text": [
      "Epoch 9 - train_loss = 0.037 - test_loss = 0.039 - lr = 7.94e-04\n"
     ]
    },
    {
     "name": "stderr",
     "output_type": "stream",
     "text": [
      "                                                           \r"
     ]
    },
    {
     "name": "stdout",
     "output_type": "stream",
     "text": [
      "Epoch 10 - train_loss = 0.037 - test_loss = 0.039 - lr = 7.50e-04\n"
     ]
    },
    {
     "name": "stderr",
     "output_type": "stream",
     "text": [
      "                                                           \r"
     ]
    },
    {
     "name": "stdout",
     "output_type": "stream",
     "text": [
      "Epoch 11 - train_loss = 0.036 - test_loss = 0.038 - lr = 7.03e-04\n"
     ]
    },
    {
     "name": "stderr",
     "output_type": "stream",
     "text": [
      "                                                           \r"
     ]
    },
    {
     "name": "stdout",
     "output_type": "stream",
     "text": [
      "Epoch 12 - train_loss = 0.036 - test_loss = 0.040 - lr = 6.55e-04\n"
     ]
    },
    {
     "name": "stderr",
     "output_type": "stream",
     "text": [
      "                                                           \r"
     ]
    },
    {
     "name": "stdout",
     "output_type": "stream",
     "text": [
      "Epoch 13 - train_loss = 0.035 - test_loss = 0.039 - lr = 6.04e-04\n"
     ]
    },
    {
     "name": "stderr",
     "output_type": "stream",
     "text": [
      "                                                           \r"
     ]
    },
    {
     "name": "stdout",
     "output_type": "stream",
     "text": [
      "Epoch 14 - train_loss = 0.035 - test_loss = 0.036 - lr = 5.52e-04\n"
     ]
    },
    {
     "name": "stderr",
     "output_type": "stream",
     "text": [
      "                                                           \r"
     ]
    },
    {
     "name": "stdout",
     "output_type": "stream",
     "text": [
      "Epoch 15 - train_loss = 0.035 - test_loss = 0.036 - lr = 5.00e-04\n"
     ]
    },
    {
     "name": "stderr",
     "output_type": "stream",
     "text": [
      "                                                           \r"
     ]
    },
    {
     "name": "stdout",
     "output_type": "stream",
     "text": [
      "Epoch 16 - train_loss = 0.034 - test_loss = 0.037 - lr = 4.48e-04\n"
     ]
    },
    {
     "name": "stderr",
     "output_type": "stream",
     "text": [
      "                                                           \r"
     ]
    },
    {
     "name": "stdout",
     "output_type": "stream",
     "text": [
      "Epoch 17 - train_loss = 0.034 - test_loss = 0.038 - lr = 3.96e-04\n"
     ]
    },
    {
     "name": "stderr",
     "output_type": "stream",
     "text": [
      "                                                           \r"
     ]
    },
    {
     "name": "stdout",
     "output_type": "stream",
     "text": [
      "Epoch 18 - train_loss = 0.033 - test_loss = 0.037 - lr = 3.45e-04\n"
     ]
    },
    {
     "name": "stderr",
     "output_type": "stream",
     "text": [
      "                                                           \r"
     ]
    },
    {
     "name": "stdout",
     "output_type": "stream",
     "text": [
      "Epoch 19 - train_loss = 0.034 - test_loss = 0.036 - lr = 2.97e-04\n"
     ]
    },
    {
     "name": "stderr",
     "output_type": "stream",
     "text": [
      "                                                           \r"
     ]
    },
    {
     "name": "stdout",
     "output_type": "stream",
     "text": [
      "Epoch 20 - train_loss = 0.032 - test_loss = 0.037 - lr = 2.50e-04\n"
     ]
    },
    {
     "name": "stderr",
     "output_type": "stream",
     "text": [
      "                                                           \r"
     ]
    },
    {
     "name": "stdout",
     "output_type": "stream",
     "text": [
      "Epoch 21 - train_loss = 0.032 - test_loss = 0.035 - lr = 2.06e-04\n"
     ]
    },
    {
     "name": "stderr",
     "output_type": "stream",
     "text": [
      "                                                           \r"
     ]
    },
    {
     "name": "stdout",
     "output_type": "stream",
     "text": [
      "Epoch 22 - train_loss = 0.033 - test_loss = 0.035 - lr = 1.65e-04\n"
     ]
    },
    {
     "name": "stderr",
     "output_type": "stream",
     "text": [
      "                                                           \r"
     ]
    },
    {
     "name": "stdout",
     "output_type": "stream",
     "text": [
      "Epoch 23 - train_loss = 0.032 - test_loss = 0.036 - lr = 1.28e-04\n"
     ]
    },
    {
     "name": "stderr",
     "output_type": "stream",
     "text": [
      "                                                           \r"
     ]
    },
    {
     "name": "stdout",
     "output_type": "stream",
     "text": [
      "Epoch 24 - train_loss = 0.033 - test_loss = 0.034 - lr = 9.55e-05\n"
     ]
    },
    {
     "name": "stderr",
     "output_type": "stream",
     "text": [
      "                                                           \r"
     ]
    },
    {
     "name": "stdout",
     "output_type": "stream",
     "text": [
      "Epoch 25 - train_loss = 0.033 - test_loss = 0.036 - lr = 6.70e-05\n"
     ]
    },
    {
     "name": "stderr",
     "output_type": "stream",
     "text": [
      "                                                           \r"
     ]
    },
    {
     "name": "stdout",
     "output_type": "stream",
     "text": [
      "Epoch 26 - train_loss = 0.032 - test_loss = 0.035 - lr = 4.32e-05\n"
     ]
    },
    {
     "name": "stderr",
     "output_type": "stream",
     "text": [
      "                                                           \r"
     ]
    },
    {
     "name": "stdout",
     "output_type": "stream",
     "text": [
      "Epoch 27 - train_loss = 0.033 - test_loss = 0.035 - lr = 2.45e-05\n"
     ]
    },
    {
     "name": "stderr",
     "output_type": "stream",
     "text": [
      "                                                           \r"
     ]
    },
    {
     "name": "stdout",
     "output_type": "stream",
     "text": [
      "Epoch 28 - train_loss = 0.032 - test_loss = 0.036 - lr = 1.09e-05\n"
     ]
    },
    {
     "name": "stderr",
     "output_type": "stream",
     "text": [
      "                                                           \r"
     ]
    },
    {
     "name": "stdout",
     "output_type": "stream",
     "text": [
      "Epoch 29 - train_loss = 0.032 - test_loss = 0.035 - lr = 2.74e-06\n"
     ]
    }
   ],
   "source": [
    "engine = deep_fib.DeepFIBEngine(anomaly_threshold, masks)\n",
    "optim = Adam(model.parameters(), lr=lr)\n",
    "lr_sched = CosineAnnealingLR(optim, num_epochs)\n",
    "\n",
    "with SummaryWriter(log_dir) as writer:\n",
    "    training_loop(\n",
    "        model=model,\n",
    "        engine=engine,\n",
    "        num_epochs=num_epochs,\n",
    "        train_dataloader=train_loader,\n",
    "        test_dataloader=test_loader,\n",
    "        device=device,\n",
    "        optimizer=optim,\n",
    "        lr_scheduler=lr_sched,\n",
    "        writer=writer,\n",
    "        save_path=log_dir + \"/models\",\n",
    "    )"
   ]
  },
  {
   "cell_type": "code",
   "execution_count": null,
   "metadata": {},
   "outputs": [],
   "source": []
  }
 ],
 "metadata": {
  "kernelspec": {
   "display_name": "Python 3.8.13 ('torch-gpu')",
   "language": "python",
   "name": "python3"
  },
  "language_info": {
   "codemirror_mode": {
    "name": "ipython",
    "version": 3
   },
   "file_extension": ".py",
   "mimetype": "text/x-python",
   "name": "python",
   "nbconvert_exporter": "python",
   "pygments_lexer": "ipython3",
   "version": "3.8.13"
  },
  "vscode": {
   "interpreter": {
    "hash": "c004a322e9c82f28ba2e77aacdbb1b6ccb0b2b4ae6a31db23bc8a8c53511ac4a"
   }
  }
 },
 "nbformat": 4,
 "nbformat_minor": 2
}
