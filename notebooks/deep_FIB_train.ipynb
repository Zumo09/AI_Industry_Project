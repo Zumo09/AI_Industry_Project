{
 "cells": [
  {
   "cell_type": "code",
   "execution_count": 1,
   "metadata": {},
   "outputs": [],
   "source": [
    "%load_ext autoreload\n",
    "%autoreload 2"
   ]
  },
  {
   "cell_type": "code",
   "execution_count": 2,
   "metadata": {},
   "outputs": [],
   "source": [
    "import json\n",
    "import torch\n",
    "from torch.optim import Adam\n",
    "from torch.utils.data import DataLoader\n",
    "from torch.optim.lr_scheduler import CosineAnnealingLR\n",
    "from torch.utils.tensorboard.writer import SummaryWriter\n",
    "\n",
    "from sklearn.model_selection import train_test_split\n",
    "\n",
    "from common import data\n",
    "from common.training import training_loop\n",
    "\n",
    "from algos import deep_fib\n",
    "\n",
    "from common.models import resnet, deeplab, scinet\n",
    "\n",
    "SCINET = \"scinet\"\n",
    "DEEPLAB = \"deeplab\""
   ]
  },
  {
   "cell_type": "code",
   "execution_count": 3,
   "metadata": {},
   "outputs": [],
   "source": [
    "paths = data.get_dataset_paths(\"../data\")\n",
    "train, test = train_test_split(paths, test_size=0.1, random_state=42)\n"
   ]
  },
  {
   "cell_type": "code",
   "execution_count": 4,
   "metadata": {},
   "outputs": [
    {
     "name": "stderr",
     "output_type": "stream",
     "text": [
      "Loading:  57%|█████▋    | 128/224 [04:53<04:14,  2.65s/it]"
     ]
    }
   ],
   "source": [
    "m_data_train = data.Marconi100Dataset(train, scaling=data.Scaling.MINMAX)\n",
    "m_data_test = data.Marconi100Dataset(test, scaling=data.Scaling.MINMAX)\n"
   ]
  },
  {
   "cell_type": "code",
   "execution_count": null,
   "metadata": {},
   "outputs": [],
   "source": [
    "model_name = DEEPLAB\n",
    "horizon = 1024\n",
    "stride = 512\n",
    "n_masks = 50\n",
    "\n",
    "batch_size = 32\n",
    "\n",
    "log_dir = \"./outputs/deep_fib_deeplab\"\n",
    "lr = 1e-3\n",
    "num_epochs = 30\n",
    "\n",
    "anomaly_threshold = 0.1  # to be tuned\n",
    "\n",
    "device = torch.device(\"cuda\" if torch.cuda.is_available() else \"cpu\")\n",
    "print(device)"
   ]
  },
  {
   "cell_type": "code",
   "execution_count": null,
   "metadata": {},
   "outputs": [],
   "source": [
    "dataset_train = data.UnfoldedDataset(m_data_train, horizon=horizon, stride=stride)\n",
    "dataset_test = data.UnfoldedDataset(m_data_test, horizon=horizon, stride=stride)\n",
    "\n",
    "masks = deep_fib.get_masks(horizon, n_masks).float()\n",
    "\n",
    "print(len(dataset_train), len(dataset_test), masks.size())\n"
   ]
  },
  {
   "cell_type": "code",
   "execution_count": null,
   "metadata": {},
   "outputs": [],
   "source": [
    "train_loader = DataLoader(\n",
    "    dataset_train,\n",
    "    batch_size,\n",
    "    shuffle=True,\n",
    ")\n",
    "test_loader = DataLoader(\n",
    "    dataset_test,\n",
    "    batch_size,\n",
    "    shuffle=False,\n",
    ")\n",
    "print(len(train_loader), len(test_loader))\n"
   ]
  },
  {
   "cell_type": "code",
   "execution_count": null,
   "metadata": {},
   "outputs": [],
   "source": [
    "if model_name == SCINET:\n",
    "    num_encoder_levels = 3\n",
    "    hidden = [512]\n",
    "    input_dim = 460\n",
    "    hidden_size = 2\n",
    "    kernel_size = 3\n",
    "    dropout = 0.5\n",
    "\n",
    "    model = scinet.SCINet(\n",
    "        output_len=horizon,\n",
    "        input_len=horizon,\n",
    "        num_encoder_levels=num_encoder_levels,\n",
    "        hidden_decoder_sizes=hidden,\n",
    "        input_dim=input_dim,\n",
    "        hidden_size=hidden_size,\n",
    "        kernel_size=kernel_size,\n",
    "        dropout=dropout,\n",
    "    ).float()\n",
    "    with open(f\"{log_dir}/config.json\", \"w\") as f:\n",
    "        json.dump(\n",
    "            dict(\n",
    "                output_len=horizon,\n",
    "                input_len=horizon,\n",
    "                num_encoder_levels=num_encoder_levels,\n",
    "                hidden_decoder_sizes=hidden,\n",
    "                input_dim=input_dim,\n",
    "                hidden_size=hidden_size,\n",
    "                kernel_size=kernel_size,\n",
    "                dropout=dropout,\n",
    "            ),\n",
    "            f,\n",
    "        )\n",
    "elif model_name == DEEPLAB:\n",
    "    model = deeplab.DeepLabNet(\n",
    "        resnet.ResNetFeatures(\n",
    "            resnet.Bottleneck,\n",
    "            resnet.RESNET50_LAYERS,\n",
    "            return_layers=[resnet.LAYER_1, resnet.LAYER_4],\n",
    "            replace_stride_with_dilation=[False, True, True],\n",
    "            num_features=data.NUM_FEATURES,\n",
    "        ),\n",
    "        backbone_channels=[256, 2048],\n",
    "        out_feats=data.NUM_FEATURES,\n",
    "    ).float()"
   ]
  },
  {
   "cell_type": "code",
   "execution_count": null,
   "metadata": {},
   "outputs": [],
   "source": [
    "engine = deep_fib.DeepFIBEngine(anomaly_threshold, masks)\n",
    "optim = Adam(model.parameters(), lr=lr)\n",
    "lr_sched = CosineAnnealingLR(optim, num_epochs)\n",
    "\n",
    "with SummaryWriter(log_dir) as writer:\n",
    "    training_loop(\n",
    "        model=model,\n",
    "        engine=engine,\n",
    "        num_epochs=num_epochs,\n",
    "        train_dataloader=train_loader,\n",
    "        test_dataloader=test_loader,\n",
    "        device=device,\n",
    "        optimizer=optim,\n",
    "        lr_scheduler=lr_sched,\n",
    "        writer=writer,\n",
    "        save_path=log_dir + \"/models\",\n",
    "    )"
   ]
  }
 ],
 "metadata": {
  "kernelspec": {
   "display_name": "Python 3.8.5 ('masterAI')",
   "language": "python",
   "name": "python3"
  },
  "language_info": {
   "codemirror_mode": {
    "name": "ipython",
    "version": 3
   },
   "file_extension": ".py",
   "mimetype": "text/x-python",
   "name": "python",
   "nbconvert_exporter": "python",
   "pygments_lexer": "ipython3",
   "version": "3.8.5"
  },
  "vscode": {
   "interpreter": {
    "hash": "ab81a77bbd99791b442b66d5911adf60087a90079f5aff673de360844339db9f"
   }
  }
 },
 "nbformat": 4,
 "nbformat_minor": 2
}
