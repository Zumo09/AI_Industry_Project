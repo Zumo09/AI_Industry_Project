{
 "cells": [
  {
   "cell_type": "code",
   "execution_count": 1,
   "metadata": {},
   "outputs": [],
   "source": [
    "%load_ext autoreload\n",
    "%autoreload 2"
   ]
  },
  {
   "cell_type": "code",
   "execution_count": 15,
   "metadata": {},
   "outputs": [],
   "source": [
    "import seaborn as sns\n",
    "import matplotlib.pyplot as plt\n",
    "import scipy.stats as stats\n",
    "import utils.data as data\n",
    "from tqdm.notebook import tqdm\n",
    "import numpy as np\n",
    "from collections import Counter\n"
   ]
  },
  {
   "cell_type": "code",
   "execution_count": 6,
   "metadata": {},
   "outputs": [
    {
     "name": "stderr",
     "output_type": "stream",
     "text": [
      "100%|██████████| 249/249 [00:44<00:00,  5.58it/s]\n"
     ]
    }
   ],
   "source": [
    "dataset = data.Marconi100Dataset(data.get_dataset_paths())\n"
   ]
  },
  {
   "cell_type": "code",
   "execution_count": 10,
   "metadata": {},
   "outputs": [
    {
     "data": {
      "application/vnd.jupyter.widget-view+json": {
       "model_id": "8151a956e8354333b42ba2046fb84eb0",
       "version_major": 2,
       "version_minor": 0
      },
      "text/plain": [
       "  0%|          | 0/249 [00:00<?, ?it/s]"
      ]
     },
     "metadata": {},
     "output_type": "display_data"
    }
   ],
   "source": [
    "sequences = []\n",
    "for i in tqdm(range(len(dataset))):\n",
    "    df, labels = dataset[i]\n",
    "\n",
    "    count = 0\n",
    "    counting = False\n",
    "    for l in labels:\n",
    "        if l == 0:\n",
    "            if counting:\n",
    "                sequences.append(count)\n",
    "                count = 0\n",
    "                counting = False\n",
    "        else:\n",
    "            counting = True\n",
    "            count += 1\n"
   ]
  },
  {
   "cell_type": "code",
   "execution_count": 91,
   "metadata": {},
   "outputs": [
    {
     "name": "stdout",
     "output_type": "stream",
     "text": [
      "Num anomalies: 26037\n",
      "\n",
      "min: 1\n",
      "max: 5293\n",
      "mean: 4.8\n",
      "median: 1.0\n",
      "\n",
      "  < 4:  24037 (92.3%)\n",
      " >= 4:   2000 (7.7%)\n",
      ">= 10:    435 (1.7%)\n"
     ]
    },
    {
     "data": {
      "image/png": "[encoded data removed]",
      "text/plain": [
       "<Figure size 432x288 with 1 Axes>"
      ]
     },
     "metadata": {
      "needs_background": "light"
     },
     "output_type": "display_data"
    }
   ],
   "source": [
    "min_seq = min(sequences)\n",
    "max_seq = max(sequences)\n",
    "mean = np.mean(sequences)\n",
    "median = np.median(sequences)\n",
    "\n",
    "counter = Counter(sequences)\n",
    "num_anomalies = len(sequences)\n",
    "\n",
    "lim = 4\n",
    "lt = sum(counter[i] for i in range(lim))\n",
    "lt_p = lt / num_anomalies * 100\n",
    "gt = num_anomalies - lt\n",
    "gt_p = 100 - lt_p\n",
    "gg = sum(counter[i] for i in range(10, max_seq+1))\n",
    "gg_p = gg / num_anomalies * 100\n",
    "\n",
    "ax = sns.histplot(sequences, bins=50, log_scale=True)\n",
    "ax.set_xlabel(\"Anomaly length\")\n",
    "ax.axvline(lim)\n",
    "\n",
    "print(f\"Num anomalies: {num_anomalies}\")\n",
    "print()\n",
    "print(f\"min: {min_seq}\")\n",
    "print(f\"max: {max_seq}\")\n",
    "print(f\"mean: {mean:.1f}\")\n",
    "print(f\"median: {median}\")\n",
    "print()\n",
    "print(f\"  < {lim}: {lt:6d} ({lt_p:.1f}%)\")\n",
    "print(f\" >= {lim}: {gt:6d} ({gt_p:.1f}%)\")\n",
    "print(f\">= 10: {gg:6d} ({gg_p:.1f}%)\")\n"
   ]
  },
  {
   "cell_type": "code",
   "execution_count": null,
   "metadata": {},
   "outputs": [],
   "source": []
  }
 ],
 "metadata": {
  "interpreter": {
   "hash": "ab81a77bbd99791b442b66d5911adf60087a90079f5aff673de360844339db9f"
  },
  "kernelspec": {
   "display_name": "Python 3.8.5 ('masterAI')",
   "language": "python",
   "name": "python3"
  },
  "language_info": {
   "codemirror_mode": {
    "name": "ipython",
    "version": 3
   },
   "file_extension": ".py",
   "mimetype": "text/x-python",
   "name": "python",
   "nbconvert_exporter": "python",
   "pygments_lexer": "ipython3",
   "version": "3.8.5"
  },
  "orig_nbformat": 4
 },
 "nbformat": 4,
 "nbformat_minor": 2
}
