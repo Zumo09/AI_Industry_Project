{
 "cells": [
  {
   "cell_type": "code",
   "execution_count": 1,
   "metadata": {},
   "outputs": [],
   "source": [
    "%load_ext autoreload\n",
    "%autoreload 2"
   ]
  },
  {
   "cell_type": "code",
   "execution_count": 54,
   "metadata": {},
   "outputs": [],
   "source": [
    "import json\n",
    "import torch\n",
    "from tqdm import tqdm\n",
    "import matplotlib.pyplot as plt\n",
    "\n",
    "from torch.optim import AdamW\n",
    "from torch.utils.data import DataLoader\n",
    "from torch.optim.lr_scheduler import CosineAnnealingLR\n",
    "from torch.utils.tensorboard.writer import SummaryWriter\n",
    "\n",
    "from sklearn.model_selection import train_test_split\n",
    "\n",
    "from common import data\n",
    "from common.training import training_loop, get_predictions\n",
    "\n",
    "from algos import cbl_2 as cbl\n",
    "from algos.supervised import SupervisedEngine\n",
    "\n",
    "from common.models import resnet, deeplab\n",
    "from common import metrics\n",
    "from common.models.modutils import load_model\n"
   ]
  },
  {
   "cell_type": "markdown",
   "metadata": {},
   "source": [
    "# Hyperparameters"
   ]
  },
  {
   "cell_type": "code",
   "execution_count": 55,
   "metadata": {},
   "outputs": [
    {
     "name": "stdout",
     "output_type": "stream",
     "text": [
      "cuda\n"
     ]
    }
   ],
   "source": [
    "log_dir = \"./outputs/cbl_instance_norm\"\n",
    "\n",
    "horizon = 1024\n",
    "stride = 512\n",
    "\n",
    "batch_size_con = 8\n",
    "batch_size_sup = 16\n",
    "\n",
    "num_epochs_con = 10\n",
    "num_epochs_sup = 5\n",
    "\n",
    "learning_rate_con = 1e-3\n",
    "learning_rate_sup = 1e-3\n",
    "\n",
    "weight_decay_con = 1e-2\n",
    "weight_decay_sup = 1e-2\n",
    "\n",
    "supervised_percentage = 0.25\n",
    "\n",
    "device = torch.device(\"cuda\" if torch.cuda.is_available() else \"cpu\")\n",
    "print(device)\n"
   ]
  },
  {
   "cell_type": "markdown",
   "metadata": {},
   "source": [
    "# Contrastive"
   ]
  },
  {
   "cell_type": "markdown",
   "metadata": {},
   "source": [
    "## Datasets"
   ]
  },
  {
   "cell_type": "code",
   "execution_count": 56,
   "metadata": {},
   "outputs": [],
   "source": [
    "paths = data.get_dataset_paths(\"../data\")\n",
    "train, test = train_test_split(paths, test_size=0.1, random_state=42)\n"
   ]
  },
  {
   "cell_type": "code",
   "execution_count": 57,
   "metadata": {},
   "outputs": [
    {
     "name": "stderr",
     "output_type": "stream",
     "text": [
      "Loading:   0%|          | 0/224 [00:11<?, ?it/s]\n"
     ]
    },
    {
     "ename": "KeyboardInterrupt",
     "evalue": "",
     "output_type": "error",
     "traceback": [
      "\u001b[1;31m---------------------------------------------------------------------------\u001b[0m",
      "\u001b[1;31mIndexError\u001b[0m                                Traceback (most recent call last)",
      "File \u001b[1;32mc:\\Users\\Zumo\\anaconda3\\envs\\torch-gpu\\lib\\multiprocessing\\pool.py:851\u001b[0m, in \u001b[0;36mIMapIterator.next\u001b[1;34m(self, timeout)\u001b[0m\n\u001b[0;32m    850\u001b[0m \u001b[39mtry\u001b[39;00m:\n\u001b[1;32m--> 851\u001b[0m     item \u001b[39m=\u001b[39m \u001b[39mself\u001b[39;49m\u001b[39m.\u001b[39;49m_items\u001b[39m.\u001b[39;49mpopleft()\n\u001b[0;32m    852\u001b[0m \u001b[39mexcept\u001b[39;00m \u001b[39mIndexError\u001b[39;00m:\n",
      "\u001b[1;31mIndexError\u001b[0m: pop from an empty deque",
      "\nDuring handling of the above exception, another exception occurred:\n",
      "\u001b[1;31mKeyboardInterrupt\u001b[0m                         Traceback (most recent call last)",
      "\u001b[1;32mf:\\Users\\Zumo\\Documents\\Github\\AI_Industry_Project\\notebooks\\02_CBL copy.ipynb Cella 8\u001b[0m in \u001b[0;36m<cell line: 1>\u001b[1;34m()\u001b[0m\n\u001b[1;32m----> <a href='vscode-notebook-cell:/f%3A/Users/Zumo/Documents/Github/AI_Industry_Project/notebooks/02_CBL%20copy.ipynb#X10sZmlsZQ%3D%3D?line=0'>1</a>\u001b[0m m_data_train \u001b[39m=\u001b[39m data\u001b[39m.\u001b[39;49mMarconi100Dataset(train, scaling\u001b[39m=\u001b[39;49mdata\u001b[39m.\u001b[39;49mScaling\u001b[39m.\u001b[39;49mSTANDARD)\n\u001b[0;32m      <a href='vscode-notebook-cell:/f%3A/Users/Zumo/Documents/Github/AI_Industry_Project/notebooks/02_CBL%20copy.ipynb#X10sZmlsZQ%3D%3D?line=1'>2</a>\u001b[0m m_data_test \u001b[39m=\u001b[39m data\u001b[39m.\u001b[39mMarconi100Dataset(test, scaling\u001b[39m=\u001b[39mdata\u001b[39m.\u001b[39mScaling\u001b[39m.\u001b[39mSTANDARD)\n",
      "File \u001b[1;32mf:\\Users\\Zumo\\Documents\\Github\\AI_Industry_Project\\notebooks\\common\\data.py:64\u001b[0m, in \u001b[0;36mMarconi100Dataset.__init__\u001b[1;34m(self, paths, scaling)\u001b[0m\n\u001b[0;32m     61\u001b[0m \u001b[39mwith\u001b[39;00m Pool() \u001b[39mas\u001b[39;00m pool:\n\u001b[0;32m     62\u001b[0m     data \u001b[39m=\u001b[39m pool\u001b[39m.\u001b[39mimap_unordered(partial(read, scaling\u001b[39m=\u001b[39mscaling), paths)\n\u001b[1;32m---> 64\u001b[0m     \u001b[39mfor\u001b[39;00m d \u001b[39min\u001b[39;00m tqdm(data, desc\u001b[39m=\u001b[39m\u001b[39m\"\u001b[39m\u001b[39mLoading\u001b[39m\u001b[39m\"\u001b[39m, total\u001b[39m=\u001b[39m\u001b[39mlen\u001b[39m(paths)):\n\u001b[0;32m     65\u001b[0m         \u001b[39mif\u001b[39;00m d \u001b[39mis\u001b[39;00m \u001b[39mnot\u001b[39;00m \u001b[39mNone\u001b[39;00m:\n\u001b[0;32m     66\u001b[0m             \u001b[39mself\u001b[39m\u001b[39m.\u001b[39mdata\u001b[39m.\u001b[39mappend(d)\n",
      "File \u001b[1;32mc:\\Users\\Zumo\\anaconda3\\envs\\torch-gpu\\lib\\site-packages\\tqdm\\std.py:1195\u001b[0m, in \u001b[0;36mtqdm.__iter__\u001b[1;34m(self)\u001b[0m\n\u001b[0;32m   1192\u001b[0m time \u001b[39m=\u001b[39m \u001b[39mself\u001b[39m\u001b[39m.\u001b[39m_time\n\u001b[0;32m   1194\u001b[0m \u001b[39mtry\u001b[39;00m:\n\u001b[1;32m-> 1195\u001b[0m     \u001b[39mfor\u001b[39;00m obj \u001b[39min\u001b[39;00m iterable:\n\u001b[0;32m   1196\u001b[0m         \u001b[39myield\u001b[39;00m obj\n\u001b[0;32m   1197\u001b[0m         \u001b[39m# Update and possibly print the progressbar.\u001b[39;00m\n\u001b[0;32m   1198\u001b[0m         \u001b[39m# Note: does not call self.update(1) for speed optimisation.\u001b[39;00m\n",
      "File \u001b[1;32mc:\\Users\\Zumo\\anaconda3\\envs\\torch-gpu\\lib\\multiprocessing\\pool.py:856\u001b[0m, in \u001b[0;36mIMapIterator.next\u001b[1;34m(self, timeout)\u001b[0m\n\u001b[0;32m    854\u001b[0m     \u001b[39mself\u001b[39m\u001b[39m.\u001b[39m_pool \u001b[39m=\u001b[39m \u001b[39mNone\u001b[39;00m\n\u001b[0;32m    855\u001b[0m     \u001b[39mraise\u001b[39;00m \u001b[39mStopIteration\u001b[39;00m \u001b[39mfrom\u001b[39;00m \u001b[39mNone\u001b[39m\n\u001b[1;32m--> 856\u001b[0m \u001b[39mself\u001b[39;49m\u001b[39m.\u001b[39;49m_cond\u001b[39m.\u001b[39;49mwait(timeout)\n\u001b[0;32m    857\u001b[0m \u001b[39mtry\u001b[39;00m:\n\u001b[0;32m    858\u001b[0m     item \u001b[39m=\u001b[39m \u001b[39mself\u001b[39m\u001b[39m.\u001b[39m_items\u001b[39m.\u001b[39mpopleft()\n",
      "File \u001b[1;32mc:\\Users\\Zumo\\anaconda3\\envs\\torch-gpu\\lib\\threading.py:302\u001b[0m, in \u001b[0;36mCondition.wait\u001b[1;34m(self, timeout)\u001b[0m\n\u001b[0;32m    300\u001b[0m \u001b[39mtry\u001b[39;00m:    \u001b[39m# restore state no matter what (e.g., KeyboardInterrupt)\u001b[39;00m\n\u001b[0;32m    301\u001b[0m     \u001b[39mif\u001b[39;00m timeout \u001b[39mis\u001b[39;00m \u001b[39mNone\u001b[39;00m:\n\u001b[1;32m--> 302\u001b[0m         waiter\u001b[39m.\u001b[39;49macquire()\n\u001b[0;32m    303\u001b[0m         gotit \u001b[39m=\u001b[39m \u001b[39mTrue\u001b[39;00m\n\u001b[0;32m    304\u001b[0m     \u001b[39melse\u001b[39;00m:\n",
      "\u001b[1;31mKeyboardInterrupt\u001b[0m: "
     ]
    }
   ],
   "source": [
    "m_data_train = data.Marconi100Dataset(train, scaling=data.Scaling.STANDARD)\n",
    "m_data_test = data.Marconi100Dataset(test, scaling=data.Scaling.STANDARD)\n"
   ]
  },
  {
   "cell_type": "code",
   "execution_count": 6,
   "metadata": {},
   "outputs": [],
   "source": [
    "train_loader = DataLoader(\n",
    "    data.UnfoldedDataset(m_data_train, horizon=horizon, stride=stride),\n",
    "    batch_size_con,\n",
    "    shuffle=True,\n",
    ")\n",
    "test_loader = DataLoader(\n",
    "    data.UnfoldedDataset(m_data_test, horizon=horizon, stride=stride),\n",
    "    batch_size_con,\n",
    "    shuffle=False,\n",
    ")\n"
   ]
  },
  {
   "cell_type": "markdown",
   "metadata": {},
   "source": [
    "## Model"
   ]
  },
  {
   "cell_type": "code",
   "execution_count": 36,
   "metadata": {},
   "outputs": [],
   "source": [
    "backbone = resnet.ResNetFeatures(\n",
    "    resnet.Bottleneck,\n",
    "    resnet.RESNET50_LAYERS,\n",
    "    num_features=data.NUM_FEATURES,\n",
    "    return_layers=[resnet.LAYER_1, resnet.LAYER_4],\n",
    "    replace_stride_with_dilation=[False, True, True],\n",
    ")\n",
    "\n",
    "contrastive_model = resnet.ResNet(backbone, 128)\n",
    "optim = AdamW(contrastive_model.parameters(), lr=learning_rate_con, weight_decay=weight_decay_con)\n",
    "lr_sched = CosineAnnealingLR(optim, num_epochs_con)\n",
    "\n",
    "aug = cbl.pipeline(\n",
    "    cbl.random_apply(cbl.left_to_right_flipping(1), 0.5),\n",
    "    cbl.random_apply(cbl.crop_and_resize(1.5, 3), 0.8),\n",
    ")\n",
    "\n",
    "engine_contrastive = cbl.CBLFeatsEngine(\n",
    "    model=contrastive_model,\n",
    "    optimizer=optim,\n",
    "    temperature=0.5,\n",
    "    aug_1=aug,\n",
    "    aug_2=aug,\n",
    "    lr_scheduler=lr_sched,\n",
    "    device=device,\n",
    ")\n"
   ]
  },
  {
   "cell_type": "markdown",
   "metadata": {},
   "source": [
    "## Training"
   ]
  },
  {
   "cell_type": "code",
   "execution_count": 37,
   "metadata": {},
   "outputs": [
    {
     "name": "stderr",
     "output_type": "stream",
     "text": [
      "                                                          \r"
     ]
    },
    {
     "name": "stdout",
     "output_type": "stream",
     "text": [
      "Epoch 0 - train_loss = 1.472 - test_loss = 2.022 - lr = 1.00e-03\n"
     ]
    },
    {
     "name": "stderr",
     "output_type": "stream",
     "text": [
      "                                                          \r"
     ]
    },
    {
     "name": "stdout",
     "output_type": "stream",
     "text": [
      "Epoch 1 - train_loss = 1.312 - test_loss = 2.149 - lr = 9.76e-04\n"
     ]
    },
    {
     "name": "stderr",
     "output_type": "stream",
     "text": [
      "                                                          \r"
     ]
    },
    {
     "name": "stdout",
     "output_type": "stream",
     "text": [
      "Epoch 2 - train_loss = 1.138 - test_loss = 2.037 - lr = 9.05e-04\n"
     ]
    },
    {
     "name": "stderr",
     "output_type": "stream",
     "text": [
      "                                                          \r"
     ]
    },
    {
     "name": "stdout",
     "output_type": "stream",
     "text": [
      "Epoch 3 - train_loss = 1.103 - test_loss = 2.050 - lr = 7.94e-04\n"
     ]
    },
    {
     "name": "stderr",
     "output_type": "stream",
     "text": [
      "                                                          \r"
     ]
    },
    {
     "name": "stdout",
     "output_type": "stream",
     "text": [
      "Epoch 4 - train_loss = 1.083 - test_loss = 2.019 - lr = 6.55e-04\n"
     ]
    },
    {
     "name": "stderr",
     "output_type": "stream",
     "text": [
      "                                                          \r"
     ]
    },
    {
     "name": "stdout",
     "output_type": "stream",
     "text": [
      "Epoch 5 - train_loss = 1.082 - test_loss = 2.077 - lr = 5.00e-04\n"
     ]
    },
    {
     "name": "stderr",
     "output_type": "stream",
     "text": [
      "                                                          \r"
     ]
    },
    {
     "name": "stdout",
     "output_type": "stream",
     "text": [
      "Epoch 6 - train_loss = 0.917 - test_loss = 2.028 - lr = 3.45e-04\n"
     ]
    },
    {
     "name": "stderr",
     "output_type": "stream",
     "text": [
      "                                                          \r"
     ]
    },
    {
     "name": "stdout",
     "output_type": "stream",
     "text": [
      "Epoch 7 - train_loss = 1.090 - test_loss = 2.035 - lr = 2.06e-04\n"
     ]
    },
    {
     "name": "stderr",
     "output_type": "stream",
     "text": [
      "                                                          \r"
     ]
    },
    {
     "name": "stdout",
     "output_type": "stream",
     "text": [
      "Epoch 8 - train_loss = 1.012 - test_loss = 2.054 - lr = 9.55e-05\n"
     ]
    },
    {
     "name": "stderr",
     "output_type": "stream",
     "text": [
      "                                                          \r"
     ]
    },
    {
     "name": "stdout",
     "output_type": "stream",
     "text": [
      "Epoch 9 - train_loss = 0.966 - test_loss = 2.040 - lr = 2.45e-05\n"
     ]
    }
   ],
   "source": [
    "with SummaryWriter(log_dir + \"/contrastive/logs\") as writer:\n",
    "    training_loop(\n",
    "        engine=engine_contrastive,\n",
    "        num_epochs=num_epochs_con,\n",
    "        train_dataloader=train_loader,\n",
    "        test_dataloader=test_loader,\n",
    "        writer=writer,\n",
    "        save_path=log_dir + \"/contrastive/models\",\n",
    "    )\n"
   ]
  },
  {
   "cell_type": "markdown",
   "metadata": {},
   "source": [
    "# Supervised"
   ]
  },
  {
   "cell_type": "markdown",
   "metadata": {},
   "source": [
    "## Dataset"
   ]
  },
  {
   "cell_type": "code",
   "execution_count": 38,
   "metadata": {},
   "outputs": [],
   "source": [
    "n_samples = int(len(test) * supervised_percentage)\n",
    "m_data_train.data = m_data_train.data[:n_samples]\n",
    "\n",
    "sup_loader = DataLoader(\n",
    "    data.UnfoldedDataset(m_data_train, horizon=horizon, stride=stride),\n",
    "    batch_size_sup,\n",
    "    shuffle=True,\n",
    ")\n"
   ]
  },
  {
   "cell_type": "markdown",
   "metadata": {},
   "source": [
    "## Model"
   ]
  },
  {
   "cell_type": "code",
   "execution_count": 39,
   "metadata": {},
   "outputs": [],
   "source": [
    "for p in backbone.parameters():\n",
    "    p.requires_grad = False\n",
    "\n",
    "model = deeplab.DeepLabNet(backbone, backbone_channels=[256, 2048], out_feats=1)\n",
    "\n",
    "optim = AdamW(\n",
    "    model.head.parameters(), lr=learning_rate_sup, weight_decay=weight_decay_sup\n",
    ")\n",
    "lr_sched = CosineAnnealingLR(optim, num_epochs_sup)\n",
    "engine_supervised = SupervisedEngine(\n",
    "    model, device, optimizer=optim, lr_scheduler=lr_sched\n",
    ")\n"
   ]
  },
  {
   "cell_type": "markdown",
   "metadata": {},
   "source": [
    "## Training"
   ]
  },
  {
   "cell_type": "code",
   "execution_count": 40,
   "metadata": {},
   "outputs": [
    {
     "name": "stderr",
     "output_type": "stream",
     "text": [
      "                                                        \r"
     ]
    },
    {
     "name": "stdout",
     "output_type": "stream",
     "text": [
      "Epoch 0 - train_loss = 0.452 - test_loss = 0.228 - lr = 1.00e-03\n"
     ]
    },
    {
     "name": "stderr",
     "output_type": "stream",
     "text": [
      "                                                        \r"
     ]
    },
    {
     "name": "stdout",
     "output_type": "stream",
     "text": [
      "Epoch 1 - train_loss = 0.220 - test_loss = 0.186 - lr = 9.05e-04\n"
     ]
    },
    {
     "name": "stderr",
     "output_type": "stream",
     "text": [
      "                                                        \r"
     ]
    },
    {
     "name": "stdout",
     "output_type": "stream",
     "text": [
      "Epoch 2 - train_loss = 0.156 - test_loss = 0.166 - lr = 6.55e-04\n"
     ]
    },
    {
     "name": "stderr",
     "output_type": "stream",
     "text": [
      "                                                        \r"
     ]
    },
    {
     "name": "stdout",
     "output_type": "stream",
     "text": [
      "Epoch 3 - train_loss = 0.156 - test_loss = 0.170 - lr = 3.45e-04\n"
     ]
    },
    {
     "name": "stderr",
     "output_type": "stream",
     "text": [
      "                                                        \r"
     ]
    },
    {
     "name": "stdout",
     "output_type": "stream",
     "text": [
      "Epoch 4 - train_loss = 0.149 - test_loss = 0.168 - lr = 9.55e-05\n"
     ]
    }
   ],
   "source": [
    "with SummaryWriter(log_dir + \"/supervised/logs\") as writer:\n",
    "    training_loop(\n",
    "        engine=engine_supervised,\n",
    "        num_epochs=num_epochs_sup,\n",
    "        train_dataloader=sup_loader,\n",
    "        test_dataloader=test_loader,\n",
    "        writer=writer,\n",
    "        save_path=log_dir + \"/supervised/models\",\n",
    "    )\n"
   ]
  },
  {
   "cell_type": "markdown",
   "metadata": {},
   "source": [
    "# Evaluating"
   ]
  },
  {
   "cell_type": "code",
   "execution_count": 41,
   "metadata": {},
   "outputs": [],
   "source": [
    "load_model(model, log_dir + \"/supervised/models/model_4.pth\", device);"
   ]
  },
  {
   "cell_type": "code",
   "execution_count": 42,
   "metadata": {},
   "outputs": [],
   "source": [
    "# Cost model\n",
    "cmodel = metrics.default_cmodel()\n"
   ]
  },
  {
   "cell_type": "code",
   "execution_count": 43,
   "metadata": {},
   "outputs": [
    {
     "name": "stderr",
     "output_type": "stream",
     "text": [
      "100%|██████████| 81/81 [00:19<00:00,  4.23it/s]\n"
     ]
    }
   ],
   "source": [
    "scores, labels = get_predictions(engine_supervised.predict, test_loader)\n"
   ]
  },
  {
   "cell_type": "code",
   "execution_count": 44,
   "metadata": {},
   "outputs": [
    {
     "data": {
      "text/plain": [
       "(-1.573776395916954, 217.56879)"
      ]
     },
     "execution_count": 44,
     "metadata": {},
     "output_type": "execute_result"
    }
   ],
   "source": [
    "cmodel.fit(scores, labels).optimize()\n"
   ]
  },
  {
   "cell_type": "code",
   "execution_count": 45,
   "metadata": {},
   "outputs": [
    {
     "data": {
      "image/png": "[encoded data removed]",
      "text/plain": [
       "<Figure size 1080x360 with 1 Axes>"
      ]
     },
     "metadata": {
      "needs_background": "light"
     },
     "output_type": "display_data"
    }
   ],
   "source": [
    "metrics.plot_cost(cmodel)\n"
   ]
  },
  {
   "cell_type": "code",
   "execution_count": 46,
   "metadata": {},
   "outputs": [
    {
     "data": {
      "image/png": "[encoded data removed]",
      "text/plain": [
       "<Figure size 1080x360 with 3 Axes>"
      ]
     },
     "metadata": {
      "needs_background": "light"
     },
     "output_type": "display_data"
    }
   ],
   "source": [
    "metrics.plot_errors_curve(\n",
    "    cmodel.false_positives, cmodel.false_negatives, cmodel.thresholds, figsize=(15, 5)\n",
    ")\n"
   ]
  },
  {
   "cell_type": "code",
   "execution_count": 47,
   "metadata": {},
   "outputs": [
    {
     "data": {
      "image/png": "[encoded data removed]",
      "text/plain": [
       "<Figure size 1080x1080 with 4 Axes>"
      ]
     },
     "metadata": {
      "needs_background": "light"
     },
     "output_type": "display_data"
    }
   ],
   "source": [
    "pr, rec, f1 = metrics.precision_recall_f1(\n",
    "    cmodel.false_positives, cmodel.false_negatives\n",
    ")\n",
    "metrics.plot_precision_recall_f1_curve(pr, rec, f1, cmodel.thresholds)\n"
   ]
  },
  {
   "cell_type": "code",
   "execution_count": 53,
   "metadata": {},
   "outputs": [
    {
     "name": "stderr",
     "output_type": "stream",
     "text": [
      "100%|██████████| 11/11 [00:02<00:00,  4.01it/s]\n",
      "100%|██████████| 81/81 [00:10<00:00,  8.02it/s]\n"
     ]
    },
    {
     "name": "stdout",
     "output_type": "stream",
     "text": [
      "TRAIN loss TRAIN mode 1.7713124752044678\n",
      "TEST loss TRAIN mode 1.439300775527954\n"
     ]
    },
    {
     "name": "stderr",
     "output_type": "stream",
     "text": [
      "100%|██████████| 11/11 [00:02<00:00,  4.37it/s]\n",
      "100%|██████████| 81/81 [00:09<00:00,  8.18it/s]"
     ]
    },
    {
     "name": "stdout",
     "output_type": "stream",
     "text": [
      "TRAIN loss EVAL mode 2.152137279510498\n",
      "TEST loss EVAL mode 2.196605682373047\n"
     ]
    },
    {
     "name": "stderr",
     "output_type": "stream",
     "text": [
      "\n"
     ]
    }
   ],
   "source": [
    "with torch.no_grad():\n",
    "    engine_contrastive.model.train()\n",
    "    tl = 0\n",
    "    for b in tqdm(sup_loader):\n",
    "        tl += engine_contrastive._get_loss(b)\n",
    "    tl /= len(sup_loader)\n",
    "    sl = 0\n",
    "    for b in tqdm(test_loader):\n",
    "        sl += engine_contrastive._get_loss(b)\n",
    "    sl /= len(test_loader)\n",
    "\n",
    "    print(\"TRAIN loss TRAIN mode\", tl.item())\n",
    "    print(\"TEST loss TRAIN mode\", sl.item())\n",
    "    engine_contrastive.model.eval()\n",
    "    tl = 0\n",
    "    for b in tqdm(sup_loader):\n",
    "        tl += engine_contrastive._get_loss(b)\n",
    "    tl /= len(sup_loader)\n",
    "    sl = 0\n",
    "    for b in tqdm(test_loader):\n",
    "        sl += engine_contrastive._get_loss(b)\n",
    "    sl /= len(test_loader)\n",
    "\n",
    "    print(\"TRAIN loss EVAL mode\", tl.item())\n",
    "    print(\"TEST loss EVAL mode\", sl.item())"
   ]
  },
  {
   "cell_type": "code",
   "execution_count": null,
   "metadata": {},
   "outputs": [],
   "source": []
  }
 ],
 "metadata": {
  "kernelspec": {
   "display_name": "Python 3.8.13 ('torch-gpu')",
   "language": "python",
   "name": "python3"
  },
  "language_info": {
   "codemirror_mode": {
    "name": "ipython",
    "version": 3
   },
   "file_extension": ".py",
   "mimetype": "text/x-python",
   "name": "python",
   "nbconvert_exporter": "python",
   "pygments_lexer": "ipython3",
   "version": "3.8.13"
  },
  "vscode": {
   "interpreter": {
    "hash": "c004a322e9c82f28ba2e77aacdbb1b6ccb0b2b4ae6a31db23bc8a8c53511ac4a"
   }
  }
 },
 "nbformat": 4,
 "nbformat_minor": 2
}
