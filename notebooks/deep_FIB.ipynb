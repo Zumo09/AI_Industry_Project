{
 "cells": [
  {
   "cell_type": "code",
   "execution_count": 1,
   "metadata": {},
   "outputs": [],
   "source": [
    "%load_ext autoreload\n",
    "%autoreload 2"
   ]
  },
  {
   "cell_type": "code",
   "execution_count": 2,
   "metadata": {},
   "outputs": [],
   "source": [
    "import torch\n",
    "from torch.optim import Adam\n",
    "from torch.utils.data import DataLoader\n",
    "from torch.optim.lr_scheduler import StepLR\n",
    "from torch.optim.lr_scheduler import CosineAnnealingLR\n",
    "from torch.utils.tensorboard.writer import SummaryWriter\n",
    "\n",
    "from sklearn.model_selection import train_test_split\n",
    "\n",
    "from utils.data import get_dataset_paths\n",
    "from utils.data import Marconi100Dataset\n",
    "from utils.data import UnfoldedDataset\n",
    "from utils.training import training_loop\n",
    "\n",
    "from algos.deep_fib.core import get_masks\n",
    "from algos.deep_fib.core import DeepFIBEngine\n",
    "from algos.deep_fib.sci_net import SCINet\n"
   ]
  },
  {
   "cell_type": "code",
   "execution_count": 3,
   "metadata": {},
   "outputs": [],
   "source": [
    "paths = get_dataset_paths(\"../data\")\n",
    "train, test = train_test_split(paths, test_size=0.1, random_state=42)\n"
   ]
  },
  {
   "cell_type": "code",
   "execution_count": 4,
   "metadata": {},
   "outputs": [
    {
     "name": "stderr",
     "output_type": "stream",
     "text": [
      "Loading:  57%|█████▋    | 128/224 [04:53<04:14,  2.65s/it]"
     ]
    }
   ],
   "source": [
    "m_data_train = Marconi100Dataset(train, scaling=\"minmax\")\n",
    "m_data_test = Marconi100Dataset(test, scaling=\"minmax\")\n"
   ]
  },
  {
   "cell_type": "code",
   "execution_count": null,
   "metadata": {},
   "outputs": [],
   "source": [
    "device = torch.device(\"cuda\" if torch.cuda.is_available() else \"cpu\")\n",
    "print(device)\n",
    "\n",
    "horizon = 1024\n",
    "stride = 512\n",
    "n_masks = 100\n",
    "\n",
    "batch_size = 32\n",
    "\n",
    "num_encoder_levels = 2\n",
    "\n",
    "log_dir = \"./outputs/deep_fib\"\n",
    "lr = 1e-4\n",
    "num_epochs = 10\n",
    "\n",
    "hidden = None\n",
    "input_dim = 460\n",
    "hidden_size = 4\n",
    "kernel_size = 3\n",
    "dropout = 0.5\n",
    "\n",
    "anomaly_threshold = 0.1  # to be tuned\n"
   ]
  },
  {
   "cell_type": "code",
   "execution_count": null,
   "metadata": {},
   "outputs": [],
   "source": [
    "dataset_train = UnfoldedDataset(m_data_train, horizon=horizon, stride=stride)\n",
    "dataset_test = UnfoldedDataset(m_data_test, horizon=horizon, stride=stride)\n",
    "\n",
    "masks = get_masks(horizon, n_masks).float()\n",
    "\n",
    "len(dataset_train), len(dataset_test), masks.size()\n"
   ]
  },
  {
   "cell_type": "code",
   "execution_count": null,
   "metadata": {},
   "outputs": [],
   "source": [
    "train_loader = DataLoader(\n",
    "    dataset_train,\n",
    "    batch_size,\n",
    "    shuffle=True,\n",
    ")\n",
    "test_loader = DataLoader(\n",
    "    dataset_test,\n",
    "    batch_size,\n",
    "    shuffle=False,\n",
    ")\n",
    "len(train_loader), len(test_loader)\n"
   ]
  },
  {
   "cell_type": "code",
   "execution_count": null,
   "metadata": {},
   "outputs": [],
   "source": [
    "model = SCINet(\n",
    "    output_len=horizon,\n",
    "    input_len=horizon,\n",
    "    num_encoder_levels=num_encoder_levels,\n",
    "    hidden_decoder_sizes=hidden,\n",
    "    input_dim=input_dim,\n",
    "    hidden_size=hidden_size,\n",
    "    kernel_size=kernel_size,\n",
    "    dropout=dropout,\n",
    ").float()\n",
    "\n",
    "engine = DeepFIBEngine(anomaly_threshold, masks)\n",
    "\n",
    "optim = Adam(model.parameters(), lr=lr)\n",
    "lr_sched = CosineAnnealingLR(optim, num_epochs)\n"
   ]
  },
  {
   "cell_type": "code",
   "execution_count": null,
   "metadata": {},
   "outputs": [],
   "source": [
    "with SummaryWriter(log_dir) as writer:\n",
    "    training_loop(\n",
    "        model=model,\n",
    "        engine=engine,\n",
    "        num_epochs=num_epochs,\n",
    "        train_dataloader=train_loader,\n",
    "        test_dataloader=test_loader,\n",
    "        device=device,\n",
    "        optimizer=optim,\n",
    "        lr_scheduler=lr_sched,\n",
    "        writer=writer,\n",
    "        save_path=log_dir + \"/models\",\n",
    "    )\n"
   ]
  },
  {
   "cell_type": "code",
   "execution_count": null,
   "metadata": {},
   "outputs": [],
   "source": []
  },
  {
   "cell_type": "markdown",
   "metadata": {},
   "source": [
    "# Test"
   ]
  },
  {
   "cell_type": "code",
   "execution_count": 1,
   "metadata": {},
   "outputs": [],
   "source": [
    "import torch\n",
    "from torch.optim import Adam\n",
    "from torch.utils.data import DataLoader\n",
    "from torch.optim.lr_scheduler import CosineAnnealingLR\n",
    "from torch.utils.tensorboard.writer import SummaryWriter\n",
    "import numpy as np\n",
    "from sklearn.model_selection import train_test_split\n",
    "\n",
    "from utils.data import get_dataset_paths\n",
    "from utils.data import Marconi100Dataset\n",
    "from utils.data import UnfoldedDataset\n",
    "from utils.modutils import load_model\n",
    "\n",
    "from algos.deep_fib.core import get_masks\n",
    "from algos.deep_fib.core import DeepFIBEngine\n",
    "from algos.deep_fib.sci_net import SCINet"
   ]
  },
  {
   "cell_type": "code",
   "execution_count": 2,
   "metadata": {},
   "outputs": [
    {
     "name": "stderr",
     "output_type": "stream",
     "text": [
      "Loading: 100%|██████████| 3/3 [00:06<00:00,  2.10s/it]"
     ]
    },
    {
     "name": "stdout",
     "output_type": "stream",
     "text": [
      "cuda\n"
     ]
    },
    {
     "name": "stderr",
     "output_type": "stream",
     "text": [
      "\n"
     ]
    }
   ],
   "source": [
    "paths = get_dataset_paths(\"../data\")\n",
    "train, test = train_test_split(paths, test_size=0.01, random_state=42)\n",
    "\n",
    "m_data_test = Marconi100Dataset(test, scaling=\"minmax\")\n",
    "\n",
    "device = torch.device(\"cuda\" if torch.cuda.is_available() else \"cpu\")\n",
    "print(device)"
   ]
  },
  {
   "cell_type": "code",
   "execution_count": 3,
   "metadata": {},
   "outputs": [],
   "source": [
    "data = m_data_test[0]"
   ]
  },
  {
   "cell_type": "code",
   "execution_count": 4,
   "metadata": {},
   "outputs": [],
   "source": [
    "horizon = 1024\n",
    "stride = 512\n",
    "n_masks = 100\n",
    "\n",
    "batch_size = 32\n",
    "\n",
    "num_encoder_levels = 2\n",
    "\n",
    "log_dir = \"./outputs/deep_fib\"\n",
    "lr = 1e-2\n",
    "num_epochs = 20\n",
    "\n",
    "hidden = None\n",
    "input_dim = 460\n",
    "hidden_size = 4\n",
    "kernel_size = 3\n",
    "dropout = 0.5"
   ]
  },
  {
   "cell_type": "code",
   "execution_count": 5,
   "metadata": {},
   "outputs": [
    {
     "name": "stdout",
     "output_type": "stream",
     "text": [
      "79\n",
      "3\n"
     ]
    }
   ],
   "source": [
    "dataset_test = UnfoldedDataset(m_data_test, horizon=horizon, stride=stride)\n",
    "\n",
    "print(len(dataset_test))\n",
    "\n",
    "test_loader = DataLoader(\n",
    "    dataset_test,\n",
    "    batch_size,\n",
    "    shuffle=False,\n",
    ")\n",
    "print(len(test_loader))"
   ]
  },
  {
   "cell_type": "code",
   "execution_count": 10,
   "metadata": {},
   "outputs": [
    {
     "data": {
      "text/plain": [
       "SCINet(\n",
       "  (encoder): EncoderTree(\n",
       "    (workingblock): SCINetBlock(\n",
       "      (rho): Interactor(\n",
       "        (0): ReplicationPad1d((2, 2))\n",
       "        (1): Conv1d(460, 1840, kernel_size=(3,), stride=(1,))\n",
       "        (2): LeakyReLU(negative_slope=0.01, inplace=True)\n",
       "        (3): Dropout(p=0.5, inplace=False)\n",
       "        (4): Conv1d(1840, 460, kernel_size=(3,), stride=(1,))\n",
       "        (5): Tanh()\n",
       "      )\n",
       "      (eta): Interactor(\n",
       "        (0): ReplicationPad1d((2, 2))\n",
       "        (1): Conv1d(460, 1840, kernel_size=(3,), stride=(1,))\n",
       "        (2): LeakyReLU(negative_slope=0.01, inplace=True)\n",
       "        (3): Dropout(p=0.5, inplace=False)\n",
       "        (4): Conv1d(1840, 460, kernel_size=(3,), stride=(1,))\n",
       "        (5): Tanh()\n",
       "      )\n",
       "      (phi): Interactor(\n",
       "        (0): ReplicationPad1d((2, 2))\n",
       "        (1): Conv1d(460, 1840, kernel_size=(3,), stride=(1,))\n",
       "        (2): LeakyReLU(negative_slope=0.01, inplace=True)\n",
       "        (3): Dropout(p=0.5, inplace=False)\n",
       "        (4): Conv1d(1840, 460, kernel_size=(3,), stride=(1,))\n",
       "        (5): Tanh()\n",
       "      )\n",
       "      (psi): Interactor(\n",
       "        (0): ReplicationPad1d((2, 2))\n",
       "        (1): Conv1d(460, 1840, kernel_size=(3,), stride=(1,))\n",
       "        (2): LeakyReLU(negative_slope=0.01, inplace=True)\n",
       "        (3): Dropout(p=0.5, inplace=False)\n",
       "        (4): Conv1d(1840, 460, kernel_size=(3,), stride=(1,))\n",
       "        (5): Tanh()\n",
       "      )\n",
       "    )\n",
       "    (sub_tree_odd): EncoderTree(\n",
       "      (workingblock): SCINetBlock(\n",
       "        (rho): Interactor(\n",
       "          (0): ReplicationPad1d((2, 2))\n",
       "          (1): Conv1d(460, 1840, kernel_size=(3,), stride=(1,))\n",
       "          (2): LeakyReLU(negative_slope=0.01, inplace=True)\n",
       "          (3): Dropout(p=0.5, inplace=False)\n",
       "          (4): Conv1d(1840, 460, kernel_size=(3,), stride=(1,))\n",
       "          (5): Tanh()\n",
       "        )\n",
       "        (eta): Interactor(\n",
       "          (0): ReplicationPad1d((2, 2))\n",
       "          (1): Conv1d(460, 1840, kernel_size=(3,), stride=(1,))\n",
       "          (2): LeakyReLU(negative_slope=0.01, inplace=True)\n",
       "          (3): Dropout(p=0.5, inplace=False)\n",
       "          (4): Conv1d(1840, 460, kernel_size=(3,), stride=(1,))\n",
       "          (5): Tanh()\n",
       "        )\n",
       "        (phi): Interactor(\n",
       "          (0): ReplicationPad1d((2, 2))\n",
       "          (1): Conv1d(460, 1840, kernel_size=(3,), stride=(1,))\n",
       "          (2): LeakyReLU(negative_slope=0.01, inplace=True)\n",
       "          (3): Dropout(p=0.5, inplace=False)\n",
       "          (4): Conv1d(1840, 460, kernel_size=(3,), stride=(1,))\n",
       "          (5): Tanh()\n",
       "        )\n",
       "        (psi): Interactor(\n",
       "          (0): ReplicationPad1d((2, 2))\n",
       "          (1): Conv1d(460, 1840, kernel_size=(3,), stride=(1,))\n",
       "          (2): LeakyReLU(negative_slope=0.01, inplace=True)\n",
       "          (3): Dropout(p=0.5, inplace=False)\n",
       "          (4): Conv1d(1840, 460, kernel_size=(3,), stride=(1,))\n",
       "          (5): Tanh()\n",
       "        )\n",
       "      )\n",
       "    )\n",
       "    (sub_tree_eve): EncoderTree(\n",
       "      (workingblock): SCINetBlock(\n",
       "        (rho): Interactor(\n",
       "          (0): ReplicationPad1d((2, 2))\n",
       "          (1): Conv1d(460, 1840, kernel_size=(3,), stride=(1,))\n",
       "          (2): LeakyReLU(negative_slope=0.01, inplace=True)\n",
       "          (3): Dropout(p=0.5, inplace=False)\n",
       "          (4): Conv1d(1840, 460, kernel_size=(3,), stride=(1,))\n",
       "          (5): Tanh()\n",
       "        )\n",
       "        (eta): Interactor(\n",
       "          (0): ReplicationPad1d((2, 2))\n",
       "          (1): Conv1d(460, 1840, kernel_size=(3,), stride=(1,))\n",
       "          (2): LeakyReLU(negative_slope=0.01, inplace=True)\n",
       "          (3): Dropout(p=0.5, inplace=False)\n",
       "          (4): Conv1d(1840, 460, kernel_size=(3,), stride=(1,))\n",
       "          (5): Tanh()\n",
       "        )\n",
       "        (phi): Interactor(\n",
       "          (0): ReplicationPad1d((2, 2))\n",
       "          (1): Conv1d(460, 1840, kernel_size=(3,), stride=(1,))\n",
       "          (2): LeakyReLU(negative_slope=0.01, inplace=True)\n",
       "          (3): Dropout(p=0.5, inplace=False)\n",
       "          (4): Conv1d(1840, 460, kernel_size=(3,), stride=(1,))\n",
       "          (5): Tanh()\n",
       "        )\n",
       "        (psi): Interactor(\n",
       "          (0): ReplicationPad1d((2, 2))\n",
       "          (1): Conv1d(460, 1840, kernel_size=(3,), stride=(1,))\n",
       "          (2): LeakyReLU(negative_slope=0.01, inplace=True)\n",
       "          (3): Dropout(p=0.5, inplace=False)\n",
       "          (4): Conv1d(1840, 460, kernel_size=(3,), stride=(1,))\n",
       "          (5): Tanh()\n",
       "        )\n",
       "      )\n",
       "    )\n",
       "  )\n",
       "  (decoder): Decoder(\n",
       "    (fcn): Sequential(\n",
       "      (0): Linear(in_features=1024, out_features=1024, bias=True)\n",
       "      (1): Sigmoid()\n",
       "    )\n",
       "  )\n",
       ")"
      ]
     },
     "execution_count": 10,
     "metadata": {},
     "output_type": "execute_result"
    }
   ],
   "source": [
    "model = SCINet(\n",
    "    output_len=horizon,\n",
    "    input_len=horizon,\n",
    "    num_encoder_levels=num_encoder_levels,\n",
    "    hidden_decoder_sizes=hidden,\n",
    "    input_dim=input_dim,\n",
    "    hidden_size=hidden_size,\n",
    "    kernel_size=kernel_size,\n",
    "    dropout=dropout,\n",
    ").float()\n",
    "\n",
    "load_model(model, \"outputs/deep_fib/models/model_8.pth\", device)"
   ]
  },
  {
   "cell_type": "code",
   "execution_count": 29,
   "metadata": {},
   "outputs": [
    {
     "data": {
      "text/plain": [
       "3250000"
      ]
     },
     "execution_count": 29,
     "metadata": {},
     "output_type": "execute_result"
    }
   ],
   "source": [
    "13000 * 250"
   ]
  },
  {
   "cell_type": "code",
   "execution_count": 30,
   "metadata": {},
   "outputs": [
    {
     "data": {
      "text/plain": [
       "0.008"
      ]
     },
     "execution_count": 30,
     "metadata": {},
     "output_type": "execute_result"
    }
   ],
   "source": [
    "26000 / (13000 * 250)"
   ]
  },
  {
   "cell_type": "code",
   "execution_count": 11,
   "metadata": {},
   "outputs": [
    {
     "data": {
      "text/plain": [
       "{'errors': tensor([[0.1328, 0.1284, 0.1203,  ..., 0.3008, 0.2402, 0.2255],\n",
       "         [0.1007, 0.0993, 0.0997,  ..., 0.2704, 0.2553, 0.2700],\n",
       "         [0.2143, 0.2036, 0.1961,  ..., 0.2331, 0.2530, 0.2530],\n",
       "         ...,\n",
       "         [0.1539, 0.1584, 0.1560,  ..., 0.2044, 0.1963, 0.1981],\n",
       "         [0.1372, 0.1381, 0.1364,  ..., 0.3513, 0.3434, 0.3514],\n",
       "         [0.1972, 0.2041, 0.2036,  ..., 0.2338, 0.2322, 0.2327]],\n",
       "        device='cuda:0'),\n",
       " 'labels': tensor([[0, 0, 0,  ..., 0, 0, 0],\n",
       "         [0, 0, 0,  ..., 0, 0, 0],\n",
       "         [0, 0, 0,  ..., 0, 0, 0],\n",
       "         ...,\n",
       "         [0, 0, 0,  ..., 0, 0, 0],\n",
       "         [0, 0, 0,  ..., 0, 0, 0],\n",
       "         [0, 0, 0,  ..., 0, 0, 0]], device='cuda:0', dtype=torch.int32)}"
      ]
     },
     "execution_count": 11,
     "metadata": {},
     "output_type": "execute_result"
    }
   ],
   "source": [
    "anomaly_threshold = 0.4  # to be tuned\n",
    "engine = DeepFIBEngine(anomaly_threshold)\n",
    "\n",
    "for batch in test_loader:\n",
    "    batch = {k: d.to(device) for k, d in batch.items()}\n",
    "    rets = engine.test_step(model, batch)\n",
    "    break\n",
    "\n",
    "rets"
   ]
  },
  {
   "cell_type": "code",
   "execution_count": 18,
   "metadata": {},
   "outputs": [
    {
     "data": {
      "text/plain": [
       "tensor(0.2239, device='cuda:0')"
      ]
     },
     "execution_count": 18,
     "metadata": {},
     "output_type": "execute_result"
    }
   ],
   "source": [
    "rets[\"errors\"].mean()"
   ]
  },
  {
   "cell_type": "code",
   "execution_count": 24,
   "metadata": {},
   "outputs": [
    {
     "name": "stdout",
     "output_type": "stream",
     "text": [
      "f1 0.037855809554457664\n",
      "precision 0.01937031528602044\n",
      "recall 0.9145428737004598\n",
      "loss 0.24163837730884552\n"
     ]
    }
   ],
   "source": [
    "anomaly_threshold = 0.1  # to be tuned\n",
    "engine = DeepFIBEngine(anomaly_threshold)\n",
    "\n",
    "from collections import defaultdict\n",
    "\n",
    "test_scalars = defaultdict(list)\n",
    "for batch in test_loader:\n",
    "    batch = {k: d.to(device) for k, d in batch.items()}\n",
    "    rets = engine.val_step(model, batch)\n",
    "    for tag, val in rets.items():\n",
    "        test_scalars[tag].append(float(val))\n",
    "\n",
    "for tag, val in test_scalars.items():\n",
    "    print(tag, np.mean(val))"
   ]
  },
  {
   "cell_type": "code",
   "execution_count": null,
   "metadata": {},
   "outputs": [],
   "source": []
  },
  {
   "cell_type": "code",
   "execution_count": null,
   "metadata": {},
   "outputs": [],
   "source": []
  },
  {
   "cell_type": "code",
   "execution_count": 3,
   "metadata": {},
   "outputs": [],
   "source": [
    "horizon = 1024\n",
    "stride = 512\n",
    "n_masks = 100\n",
    "\n",
    "batch_size = 32\n",
    "\n",
    "num_encoder_levels = 3\n",
    "\n",
    "lr = 1e-2\n",
    "num_epochs = 20\n",
    "\n",
    "hidden = [512]\n",
    "input_dim = 460\n",
    "hidden_size = 2\n",
    "kernel_size = 3\n",
    "dropout = 0.5"
   ]
  },
  {
   "cell_type": "code",
   "execution_count": 4,
   "metadata": {},
   "outputs": [],
   "source": [
    "model = SCINet(\n",
    "    output_len=horizon,\n",
    "    input_len=horizon,\n",
    "    num_encoder_levels=num_encoder_levels,\n",
    "    hidden_decoder_sizes=hidden,\n",
    "    input_dim=input_dim,\n",
    "    hidden_size=hidden_size,\n",
    "    kernel_size=kernel_size,\n",
    "    dropout=dropout,\n",
    ").float()"
   ]
  },
  {
   "cell_type": "code",
   "execution_count": 5,
   "metadata": {},
   "outputs": [],
   "source": [
    "masks = get_masks(horizon, 10).float()"
   ]
  },
  {
   "cell_type": "code",
   "execution_count": 6,
   "metadata": {},
   "outputs": [
    {
     "data": {
      "text/plain": [
       "torch.Size([10, 1024, 460])"
      ]
     },
     "execution_count": 6,
     "metadata": {},
     "output_type": "execute_result"
    }
   ],
   "source": [
    "masks.size()"
   ]
  },
  {
   "cell_type": "code",
   "execution_count": 7,
   "metadata": {},
   "outputs": [
    {
     "name": "stdout",
     "output_type": "stream",
     "text": [
      "79\n",
      "3\n"
     ]
    }
   ],
   "source": [
    "dataset_test = UnfoldedDataset(m_data_test, horizon=horizon, stride=stride)\n",
    "\n",
    "print(len(dataset_test))\n",
    "\n",
    "test_loader = DataLoader(\n",
    "    dataset_test,\n",
    "    batch_size,\n",
    "    shuffle=False,\n",
    ")\n",
    "print(len(test_loader))"
   ]
  },
  {
   "cell_type": "code",
   "execution_count": 8,
   "metadata": {},
   "outputs": [],
   "source": [
    "import gc\n",
    "\n",
    "model.to(device)\n",
    "anomaly_threshold = 0.4  # to be tuned\n",
    "engine = DeepFIBEngine(anomaly_threshold, masks)\n",
    "\n",
    "for batch in test_loader:\n",
    "    batch = {k: d.to(device) for k, d in batch.items()}\n",
    "    rets = engine.train_step(model, batch)\n",
    "    del rets\n",
    "    gc.collect()"
   ]
  },
  {
   "cell_type": "code",
   "execution_count": null,
   "metadata": {},
   "outputs": [],
   "source": []
  }
 ],
 "metadata": {
  "kernelspec": {
   "display_name": "Python 3.8.13 ('torch-gpu')",
   "language": "python",
   "name": "python3"
  },
  "language_info": {
   "codemirror_mode": {
    "name": "ipython",
    "version": 3
   },
   "file_extension": ".py",
   "mimetype": "text/x-python",
   "name": "python",
   "nbconvert_exporter": "python",
   "pygments_lexer": "ipython3",
   "version": "3.8.13"
  },
  "vscode": {
   "interpreter": {
    "hash": "c004a322e9c82f28ba2e77aacdbb1b6ccb0b2b4ae6a31db23bc8a8c53511ac4a"
   }
  }
 },
 "nbformat": 4,
 "nbformat_minor": 2
}
