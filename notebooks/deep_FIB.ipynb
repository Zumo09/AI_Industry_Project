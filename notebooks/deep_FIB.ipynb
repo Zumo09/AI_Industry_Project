{
 "cells": [
  {
   "cell_type": "code",
   "execution_count": 1,
   "metadata": {},
   "outputs": [],
   "source": [
    "%load_ext autoreload\n",
    "%autoreload 2"
   ]
  },
  {
   "cell_type": "code",
   "execution_count": 2,
   "metadata": {},
   "outputs": [],
   "source": [
    "import torch\n",
    "import pandas as pd\n",
    "import numpy as np\n",
    "\n",
    "import deep_fib\n",
    "import utils"
   ]
  },
  {
   "cell_type": "code",
   "execution_count": 10,
   "metadata": {},
   "outputs": [
    {
     "name": "stderr",
     "output_type": "stream",
     "text": [
      "100%|██████████| 224/224 [03:31<00:00,  1.06it/s]\n"
     ]
    }
   ],
   "source": [
    "train, test = utils.data.get_train_test_split(0.1, 42)\n",
    "dataset = utils.data.Marconi100Dataset(train, normalize=True)"
   ]
  },
  {
   "cell_type": "markdown",
   "metadata": {},
   "source": [
    "TODO: salvare il dataset processato come nuovo dataset:\n",
    "```\n",
    "dataset\n",
    "    |->unfolded\n",
    "    |   |->r205n12_0.gzip\n",
    "    |   |->r205n12_1.gzip\n",
    "    |   |->...\n",
    "    |   |->r256n18_n.gzip\n",
    "    |->masks\n",
    "    |   |->r205n12_mask_0.gzip\n",
    "    |   |->r205n12_mask_1.gzip\n",
    "    |   |->...\n",
    "    |   |->r256n18_mask_n.gzip\n",
    "    |->labels\n",
    "        |->r205n12_label_0.gzip\n",
    "        |->r205n12_label_1.gzip\n",
    "        |->...\n",
    "        |->r256n18_label_n.gzip\n",
    "```"
   ]
  },
  {
   "cell_type": "code",
   "execution_count": null,
   "metadata": {},
   "outputs": [],
   "source": []
  },
  {
   "cell_type": "code",
   "execution_count": null,
   "metadata": {},
   "outputs": [],
   "source": [
    "dataset_deep_fib = deep_fib.data.DeepFIBDataset(dataset, 1024, 3)"
   ]
  },
  {
   "cell_type": "code",
   "execution_count": null,
   "metadata": {},
   "outputs": [],
   "source": [
    "original, mask, labels = dataset_deep_fib[1]\n",
    "\n",
    "utils.nn.plot_dataframe(pd.DataFrame(original.numpy()), pd.Series(labels.values))"
   ]
  },
  {
   "cell_type": "code",
   "execution_count": 5,
   "metadata": {},
   "outputs": [
    {
     "data": {
      "text/plain": [
       "torch.Size([13383, 460])"
      ]
     },
     "execution_count": 5,
     "metadata": {},
     "output_type": "execute_result"
    }
   ],
   "source": [
    "original.shape"
   ]
  },
  {
   "cell_type": "code",
   "execution_count": null,
   "metadata": {},
   "outputs": [
    {
     "name": "stdout",
     "output_type": "stream",
     "text": [
      "Initializing Scinet...\n",
      "Initializing Encoder Tree...\n",
      "Initializing Decoder...\n"
     ]
    }
   ],
   "source": [
    "device = torch.device(\"cuda\" if torch.cuda.is_available() else \"cpu\")\n",
    "\n",
    "time_len=1024\n",
    "nel=3 \n",
    "input_dim=original.shape[1]\n",
    "\n",
    "model = deep_fib.sci_net.SCINet(\n",
    "    output_len=time_len,\n",
    "    input_len=time_len,\n",
    "    num_encoder_levels=nel,\n",
    "    hidden_decoder_sizes=[2048],\n",
    "    block_config=deep_fib.sci_net.SCIBlockCfg(\n",
    "        input_dim=input_dim,\n",
    "        hidden_size=16,\n",
    "        kernel_size=3,\n",
    "        dropout=0.5,\n",
    "    )\n",
    ").float().to(device)\n",
    "\n",
    "x = original[:time_len].unsqueeze(0).float().to(device)\n",
    "y = model(x)\n",
    "print(y.shape)\n"
   ]
  }
 ],
 "metadata": {
  "interpreter": {
   "hash": "ab81a77bbd99791b442b66d5911adf60087a90079f5aff673de360844339db9f"
  },
  "kernelspec": {
   "display_name": "Python 3 (ipykernel)",
   "language": "python",
   "name": "python3"
  },
  "language_info": {
   "codemirror_mode": {
    "name": "ipython",
    "version": 3
   },
   "file_extension": ".py",
   "mimetype": "text/x-python",
   "name": "python",
   "nbconvert_exporter": "python",
   "pygments_lexer": "ipython3",
   "version": "3.8.5"
  }
 },
 "nbformat": 4,
 "nbformat_minor": 2
}
