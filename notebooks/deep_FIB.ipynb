{
 "cells": [
  {
   "cell_type": "code",
   "execution_count": 1,
   "metadata": {},
   "outputs": [],
   "source": [
    "%load_ext autoreload\n",
    "%autoreload 2"
   ]
  },
  {
   "cell_type": "code",
   "execution_count": 2,
   "metadata": {},
   "outputs": [],
   "source": [
    "import torch\n",
    "from torch.optim import Adam\n",
    "from torch.utils.data import DataLoader\n",
    "from torch.optim.lr_scheduler import StepLR\n",
    "from torch.optim.lr_scheduler import CosineAnnealingLR\n",
    "from torch.utils.tensorboard.writer import SummaryWriter\n",
    "\n",
    "from sklearn.model_selection import train_test_split\n",
    "\n",
    "from utils.data import get_dataset_paths\n",
    "from utils.data import Marconi100Dataset\n",
    "from utils.data import UnfoldedDataset\n",
    "from utils.training import training_loop\n",
    "\n",
    "from algos.deep_fib.core import get_masks\n",
    "from algos.deep_fib.core import DeepFIBEngine\n",
    "from algos.deep_fib.sci_net import SCINet\n"
   ]
  },
  {
   "cell_type": "code",
   "execution_count": 3,
   "metadata": {},
   "outputs": [],
   "source": [
    "paths = get_dataset_paths(\"../data\")\n",
    "train, test = train_test_split(paths, test_size=0.1, random_state=42)\n"
   ]
  },
  {
   "cell_type": "code",
   "execution_count": 4,
   "metadata": {},
   "outputs": [
    {
     "name": "stderr",
     "output_type": "stream",
     "text": [
      "Loading:  57%|█████▋    | 128/224 [04:53<04:14,  2.65s/it]"
     ]
    }
   ],
   "source": [
    "m_data_train = Marconi100Dataset(train, scaling=\"minmax\")\n",
    "m_data_test = Marconi100Dataset(test, scaling=\"minmax\")\n"
   ]
  },
  {
   "cell_type": "code",
   "execution_count": null,
   "metadata": {},
   "outputs": [],
   "source": [
    "device = torch.device(\"cuda\" if torch.cuda.is_available() else \"cpu\")\n",
    "print(device)\n",
    "\n",
    "horizon = 1024\n",
    "stride = 512\n",
    "n_masks = 100\n",
    "\n",
    "batch_size = 32\n",
    "\n",
    "num_encoder_levels = 2\n",
    "\n",
    "log_dir = \"./outputs/deep_fib\"\n",
    "lr = 1e-4\n",
    "num_epochs = 10\n",
    "\n",
    "hidden = None\n",
    "input_dim = 460\n",
    "hidden_size = 4\n",
    "kernel_size = 3\n",
    "dropout = 0.5\n",
    "\n",
    "anomaly_threshold = 0.1  # to be tuned\n"
   ]
  },
  {
   "cell_type": "code",
   "execution_count": null,
   "metadata": {},
   "outputs": [],
   "source": [
    "dataset_train = UnfoldedDataset(m_data_train, horizon=horizon, stride=stride)\n",
    "dataset_test = UnfoldedDataset(m_data_test, horizon=horizon, stride=stride)\n",
    "\n",
    "masks = get_masks(horizon, n_masks).float()\n",
    "\n",
    "len(dataset_train), len(dataset_test), masks.size()\n"
   ]
  },
  {
   "cell_type": "code",
   "execution_count": null,
   "metadata": {},
   "outputs": [],
   "source": [
    "train_loader = DataLoader(\n",
    "    dataset_train,\n",
    "    batch_size,\n",
    "    shuffle=True,\n",
    ")\n",
    "test_loader = DataLoader(\n",
    "    dataset_test,\n",
    "    batch_size,\n",
    "    shuffle=False,\n",
    ")\n",
    "len(train_loader), len(test_loader)\n"
   ]
  },
  {
   "cell_type": "code",
   "execution_count": null,
   "metadata": {},
   "outputs": [],
   "source": [
    "model = SCINet(\n",
    "    output_len=horizon,\n",
    "    input_len=horizon,\n",
    "    num_encoder_levels=num_encoder_levels,\n",
    "    hidden_decoder_sizes=hidden,\n",
    "    input_dim=input_dim,\n",
    "    hidden_size=hidden_size,\n",
    "    kernel_size=kernel_size,\n",
    "    dropout=dropout,\n",
    ").float()\n",
    "\n",
    "engine = DeepFIBEngine(anomaly_threshold, masks)\n",
    "\n",
    "optim = Adam(model.parameters(), lr=lr)\n",
    "lr_sched = CosineAnnealingLR(optim, num_epochs)\n"
   ]
  },
  {
   "cell_type": "code",
   "execution_count": null,
   "metadata": {},
   "outputs": [],
   "source": [
    "with SummaryWriter(log_dir) as writer:\n",
    "    training_loop(\n",
    "        model=model,\n",
    "        engine=engine,\n",
    "        num_epochs=num_epochs,\n",
    "        train_dataloader=train_loader,\n",
    "        test_dataloader=test_loader,\n",
    "        device=device,\n",
    "        optimizer=optim,\n",
    "        lr_scheduler=lr_sched,\n",
    "        writer=writer,\n",
    "        save_path=log_dir + \"/models\",\n",
    "    )\n"
   ]
  },
  {
   "cell_type": "code",
   "execution_count": null,
   "metadata": {},
   "outputs": [],
   "source": []
  },
  {
   "cell_type": "markdown",
   "metadata": {},
   "source": [
    "# Test"
   ]
  },
  {
   "cell_type": "code",
   "execution_count": 9,
   "metadata": {},
   "outputs": [],
   "source": [
    "import torch\n",
    "from torch.optim import Adam\n",
    "from torch.utils.data import DataLoader\n",
    "from torch.optim.lr_scheduler import CosineAnnealingLR\n",
    "from torch.utils.tensorboard.writer import SummaryWriter\n",
    "import numpy as np\n",
    "from sklearn.model_selection import train_test_split\n",
    "\n",
    "from utils.data import get_dataset_paths\n",
    "from utils.data import Marconi100Dataset\n",
    "from utils.data import UnfoldedDataset\n",
    "from utils.metrics import compute_metrics\n",
    "from utils.modutils import load_model\n",
    "\n",
    "from algos.deep_fib.core import get_masks\n",
    "from algos.deep_fib.core import residual_error\n",
    "from algos.deep_fib.core import DeepFIBEngine\n",
    "from algos.deep_fib.sci_net import SCINet\n",
    "\n",
    "from tqdm import tqdm\n",
    "from collections import defaultdict"
   ]
  },
  {
   "cell_type": "code",
   "execution_count": 2,
   "metadata": {},
   "outputs": [
    {
     "name": "stderr",
     "output_type": "stream",
     "text": [
      "Loading: 100%|██████████| 25/25 [00:48<00:00,  1.93s/it]"
     ]
    },
    {
     "name": "stdout",
     "output_type": "stream",
     "text": [
      "cuda\n"
     ]
    },
    {
     "name": "stderr",
     "output_type": "stream",
     "text": [
      "\n"
     ]
    }
   ],
   "source": [
    "paths = get_dataset_paths(\"../data\")\n",
    "train, test = train_test_split(paths, test_size=0.1, random_state=42)\n",
    "\n",
    "m_data_test = Marconi100Dataset(test, scaling=\"minmax\")\n",
    "\n",
    "device = torch.device(\"cuda\" if torch.cuda.is_available() else \"cpu\")\n",
    "print(device)"
   ]
  },
  {
   "cell_type": "code",
   "execution_count": 3,
   "metadata": {},
   "outputs": [
    {
     "data": {
      "text/plain": [
       "{'output_len': 1024,\n",
       " 'input_len': 1024,\n",
       " 'num_encoder_levels': 3,\n",
       " 'hidden_decoder_sizes': [512],\n",
       " 'input_dim': 460,\n",
       " 'hidden_size': 2,\n",
       " 'kernel_size': 3,\n",
       " 'dropout': 0.5}"
      ]
     },
     "execution_count": 3,
     "metadata": {},
     "output_type": "execute_result"
    }
   ],
   "source": [
    "import json\n",
    "\n",
    "horizon = 1024\n",
    "stride = 512\n",
    "batch_size = 32\n",
    "\n",
    "cfg_path = \"./outputs/deep_fib_low_lr/config.json\"\n",
    "model_path = \"./outputs/deep_fib_low_lr/models/model_29.pth\"\n",
    "\n",
    "with open(cfg_path, \"r\") as f:\n",
    "    config = json.load(f)\n",
    "\n",
    "config"
   ]
  },
  {
   "cell_type": "code",
   "execution_count": 4,
   "metadata": {},
   "outputs": [
    {
     "name": "stdout",
     "output_type": "stream",
     "text": [
      "647\n",
      "21\n"
     ]
    }
   ],
   "source": [
    "dataset_test = UnfoldedDataset(m_data_test, horizon=horizon, stride=stride)\n",
    "\n",
    "print(len(dataset_test))\n",
    "\n",
    "test_loader = DataLoader(\n",
    "    dataset_test,\n",
    "    batch_size,\n",
    "    shuffle=False,\n",
    ")\n",
    "print(len(test_loader))"
   ]
  },
  {
   "cell_type": "code",
   "execution_count": 5,
   "metadata": {},
   "outputs": [
    {
     "data": {
      "text/plain": [
       "SCINet(\n",
       "  (encoder): EncoderTree(\n",
       "    (workingblock): SCINetBlock(\n",
       "      (rho): Interactor(\n",
       "        (0): ReplicationPad1d((2, 2))\n",
       "        (1): Conv1d(460, 920, kernel_size=(3,), stride=(1,))\n",
       "        (2): LeakyReLU(negative_slope=0.01, inplace=True)\n",
       "        (3): Dropout(p=0.5, inplace=False)\n",
       "        (4): Conv1d(920, 460, kernel_size=(3,), stride=(1,))\n",
       "        (5): Tanh()\n",
       "      )\n",
       "      (eta): Interactor(\n",
       "        (0): ReplicationPad1d((2, 2))\n",
       "        (1): Conv1d(460, 920, kernel_size=(3,), stride=(1,))\n",
       "        (2): LeakyReLU(negative_slope=0.01, inplace=True)\n",
       "        (3): Dropout(p=0.5, inplace=False)\n",
       "        (4): Conv1d(920, 460, kernel_size=(3,), stride=(1,))\n",
       "        (5): Tanh()\n",
       "      )\n",
       "      (phi): Interactor(\n",
       "        (0): ReplicationPad1d((2, 2))\n",
       "        (1): Conv1d(460, 920, kernel_size=(3,), stride=(1,))\n",
       "        (2): LeakyReLU(negative_slope=0.01, inplace=True)\n",
       "        (3): Dropout(p=0.5, inplace=False)\n",
       "        (4): Conv1d(920, 460, kernel_size=(3,), stride=(1,))\n",
       "        (5): Tanh()\n",
       "      )\n",
       "      (psi): Interactor(\n",
       "        (0): ReplicationPad1d((2, 2))\n",
       "        (1): Conv1d(460, 920, kernel_size=(3,), stride=(1,))\n",
       "        (2): LeakyReLU(negative_slope=0.01, inplace=True)\n",
       "        (3): Dropout(p=0.5, inplace=False)\n",
       "        (4): Conv1d(920, 460, kernel_size=(3,), stride=(1,))\n",
       "        (5): Tanh()\n",
       "      )\n",
       "    )\n",
       "    (sub_tree_odd): EncoderTree(\n",
       "      (workingblock): SCINetBlock(\n",
       "        (rho): Interactor(\n",
       "          (0): ReplicationPad1d((2, 2))\n",
       "          (1): Conv1d(460, 920, kernel_size=(3,), stride=(1,))\n",
       "          (2): LeakyReLU(negative_slope=0.01, inplace=True)\n",
       "          (3): Dropout(p=0.5, inplace=False)\n",
       "          (4): Conv1d(920, 460, kernel_size=(3,), stride=(1,))\n",
       "          (5): Tanh()\n",
       "        )\n",
       "        (eta): Interactor(\n",
       "          (0): ReplicationPad1d((2, 2))\n",
       "          (1): Conv1d(460, 920, kernel_size=(3,), stride=(1,))\n",
       "          (2): LeakyReLU(negative_slope=0.01, inplace=True)\n",
       "          (3): Dropout(p=0.5, inplace=False)\n",
       "          (4): Conv1d(920, 460, kernel_size=(3,), stride=(1,))\n",
       "          (5): Tanh()\n",
       "        )\n",
       "        (phi): Interactor(\n",
       "          (0): ReplicationPad1d((2, 2))\n",
       "          (1): Conv1d(460, 920, kernel_size=(3,), stride=(1,))\n",
       "          (2): LeakyReLU(negative_slope=0.01, inplace=True)\n",
       "          (3): Dropout(p=0.5, inplace=False)\n",
       "          (4): Conv1d(920, 460, kernel_size=(3,), stride=(1,))\n",
       "          (5): Tanh()\n",
       "        )\n",
       "        (psi): Interactor(\n",
       "          (0): ReplicationPad1d((2, 2))\n",
       "          (1): Conv1d(460, 920, kernel_size=(3,), stride=(1,))\n",
       "          (2): LeakyReLU(negative_slope=0.01, inplace=True)\n",
       "          (3): Dropout(p=0.5, inplace=False)\n",
       "          (4): Conv1d(920, 460, kernel_size=(3,), stride=(1,))\n",
       "          (5): Tanh()\n",
       "        )\n",
       "      )\n",
       "      (sub_tree_odd): EncoderTree(\n",
       "        (workingblock): SCINetBlock(\n",
       "          (rho): Interactor(\n",
       "            (0): ReplicationPad1d((2, 2))\n",
       "            (1): Conv1d(460, 920, kernel_size=(3,), stride=(1,))\n",
       "            (2): LeakyReLU(negative_slope=0.01, inplace=True)\n",
       "            (3): Dropout(p=0.5, inplace=False)\n",
       "            (4): Conv1d(920, 460, kernel_size=(3,), stride=(1,))\n",
       "            (5): Tanh()\n",
       "          )\n",
       "          (eta): Interactor(\n",
       "            (0): ReplicationPad1d((2, 2))\n",
       "            (1): Conv1d(460, 920, kernel_size=(3,), stride=(1,))\n",
       "            (2): LeakyReLU(negative_slope=0.01, inplace=True)\n",
       "            (3): Dropout(p=0.5, inplace=False)\n",
       "            (4): Conv1d(920, 460, kernel_size=(3,), stride=(1,))\n",
       "            (5): Tanh()\n",
       "          )\n",
       "          (phi): Interactor(\n",
       "            (0): ReplicationPad1d((2, 2))\n",
       "            (1): Conv1d(460, 920, kernel_size=(3,), stride=(1,))\n",
       "            (2): LeakyReLU(negative_slope=0.01, inplace=True)\n",
       "            (3): Dropout(p=0.5, inplace=False)\n",
       "            (4): Conv1d(920, 460, kernel_size=(3,), stride=(1,))\n",
       "            (5): Tanh()\n",
       "          )\n",
       "          (psi): Interactor(\n",
       "            (0): ReplicationPad1d((2, 2))\n",
       "            (1): Conv1d(460, 920, kernel_size=(3,), stride=(1,))\n",
       "            (2): LeakyReLU(negative_slope=0.01, inplace=True)\n",
       "            (3): Dropout(p=0.5, inplace=False)\n",
       "            (4): Conv1d(920, 460, kernel_size=(3,), stride=(1,))\n",
       "            (5): Tanh()\n",
       "          )\n",
       "        )\n",
       "      )\n",
       "      (sub_tree_eve): EncoderTree(\n",
       "        (workingblock): SCINetBlock(\n",
       "          (rho): Interactor(\n",
       "            (0): ReplicationPad1d((2, 2))\n",
       "            (1): Conv1d(460, 920, kernel_size=(3,), stride=(1,))\n",
       "            (2): LeakyReLU(negative_slope=0.01, inplace=True)\n",
       "            (3): Dropout(p=0.5, inplace=False)\n",
       "            (4): Conv1d(920, 460, kernel_size=(3,), stride=(1,))\n",
       "            (5): Tanh()\n",
       "          )\n",
       "          (eta): Interactor(\n",
       "            (0): ReplicationPad1d((2, 2))\n",
       "            (1): Conv1d(460, 920, kernel_size=(3,), stride=(1,))\n",
       "            (2): LeakyReLU(negative_slope=0.01, inplace=True)\n",
       "            (3): Dropout(p=0.5, inplace=False)\n",
       "            (4): Conv1d(920, 460, kernel_size=(3,), stride=(1,))\n",
       "            (5): Tanh()\n",
       "          )\n",
       "          (phi): Interactor(\n",
       "            (0): ReplicationPad1d((2, 2))\n",
       "            (1): Conv1d(460, 920, kernel_size=(3,), stride=(1,))\n",
       "            (2): LeakyReLU(negative_slope=0.01, inplace=True)\n",
       "            (3): Dropout(p=0.5, inplace=False)\n",
       "            (4): Conv1d(920, 460, kernel_size=(3,), stride=(1,))\n",
       "            (5): Tanh()\n",
       "          )\n",
       "          (psi): Interactor(\n",
       "            (0): ReplicationPad1d((2, 2))\n",
       "            (1): Conv1d(460, 920, kernel_size=(3,), stride=(1,))\n",
       "            (2): LeakyReLU(negative_slope=0.01, inplace=True)\n",
       "            (3): Dropout(p=0.5, inplace=False)\n",
       "            (4): Conv1d(920, 460, kernel_size=(3,), stride=(1,))\n",
       "            (5): Tanh()\n",
       "          )\n",
       "        )\n",
       "      )\n",
       "    )\n",
       "    (sub_tree_eve): EncoderTree(\n",
       "      (workingblock): SCINetBlock(\n",
       "        (rho): Interactor(\n",
       "          (0): ReplicationPad1d((2, 2))\n",
       "          (1): Conv1d(460, 920, kernel_size=(3,), stride=(1,))\n",
       "          (2): LeakyReLU(negative_slope=0.01, inplace=True)\n",
       "          (3): Dropout(p=0.5, inplace=False)\n",
       "          (4): Conv1d(920, 460, kernel_size=(3,), stride=(1,))\n",
       "          (5): Tanh()\n",
       "        )\n",
       "        (eta): Interactor(\n",
       "          (0): ReplicationPad1d((2, 2))\n",
       "          (1): Conv1d(460, 920, kernel_size=(3,), stride=(1,))\n",
       "          (2): LeakyReLU(negative_slope=0.01, inplace=True)\n",
       "          (3): Dropout(p=0.5, inplace=False)\n",
       "          (4): Conv1d(920, 460, kernel_size=(3,), stride=(1,))\n",
       "          (5): Tanh()\n",
       "        )\n",
       "        (phi): Interactor(\n",
       "          (0): ReplicationPad1d((2, 2))\n",
       "          (1): Conv1d(460, 920, kernel_size=(3,), stride=(1,))\n",
       "          (2): LeakyReLU(negative_slope=0.01, inplace=True)\n",
       "          (3): Dropout(p=0.5, inplace=False)\n",
       "          (4): Conv1d(920, 460, kernel_size=(3,), stride=(1,))\n",
       "          (5): Tanh()\n",
       "        )\n",
       "        (psi): Interactor(\n",
       "          (0): ReplicationPad1d((2, 2))\n",
       "          (1): Conv1d(460, 920, kernel_size=(3,), stride=(1,))\n",
       "          (2): LeakyReLU(negative_slope=0.01, inplace=True)\n",
       "          (3): Dropout(p=0.5, inplace=False)\n",
       "          (4): Conv1d(920, 460, kernel_size=(3,), stride=(1,))\n",
       "          (5): Tanh()\n",
       "        )\n",
       "      )\n",
       "      (sub_tree_odd): EncoderTree(\n",
       "        (workingblock): SCINetBlock(\n",
       "          (rho): Interactor(\n",
       "            (0): ReplicationPad1d((2, 2))\n",
       "            (1): Conv1d(460, 920, kernel_size=(3,), stride=(1,))\n",
       "            (2): LeakyReLU(negative_slope=0.01, inplace=True)\n",
       "            (3): Dropout(p=0.5, inplace=False)\n",
       "            (4): Conv1d(920, 460, kernel_size=(3,), stride=(1,))\n",
       "            (5): Tanh()\n",
       "          )\n",
       "          (eta): Interactor(\n",
       "            (0): ReplicationPad1d((2, 2))\n",
       "            (1): Conv1d(460, 920, kernel_size=(3,), stride=(1,))\n",
       "            (2): LeakyReLU(negative_slope=0.01, inplace=True)\n",
       "            (3): Dropout(p=0.5, inplace=False)\n",
       "            (4): Conv1d(920, 460, kernel_size=(3,), stride=(1,))\n",
       "            (5): Tanh()\n",
       "          )\n",
       "          (phi): Interactor(\n",
       "            (0): ReplicationPad1d((2, 2))\n",
       "            (1): Conv1d(460, 920, kernel_size=(3,), stride=(1,))\n",
       "            (2): LeakyReLU(negative_slope=0.01, inplace=True)\n",
       "            (3): Dropout(p=0.5, inplace=False)\n",
       "            (4): Conv1d(920, 460, kernel_size=(3,), stride=(1,))\n",
       "            (5): Tanh()\n",
       "          )\n",
       "          (psi): Interactor(\n",
       "            (0): ReplicationPad1d((2, 2))\n",
       "            (1): Conv1d(460, 920, kernel_size=(3,), stride=(1,))\n",
       "            (2): LeakyReLU(negative_slope=0.01, inplace=True)\n",
       "            (3): Dropout(p=0.5, inplace=False)\n",
       "            (4): Conv1d(920, 460, kernel_size=(3,), stride=(1,))\n",
       "            (5): Tanh()\n",
       "          )\n",
       "        )\n",
       "      )\n",
       "      (sub_tree_eve): EncoderTree(\n",
       "        (workingblock): SCINetBlock(\n",
       "          (rho): Interactor(\n",
       "            (0): ReplicationPad1d((2, 2))\n",
       "            (1): Conv1d(460, 920, kernel_size=(3,), stride=(1,))\n",
       "            (2): LeakyReLU(negative_slope=0.01, inplace=True)\n",
       "            (3): Dropout(p=0.5, inplace=False)\n",
       "            (4): Conv1d(920, 460, kernel_size=(3,), stride=(1,))\n",
       "            (5): Tanh()\n",
       "          )\n",
       "          (eta): Interactor(\n",
       "            (0): ReplicationPad1d((2, 2))\n",
       "            (1): Conv1d(460, 920, kernel_size=(3,), stride=(1,))\n",
       "            (2): LeakyReLU(negative_slope=0.01, inplace=True)\n",
       "            (3): Dropout(p=0.5, inplace=False)\n",
       "            (4): Conv1d(920, 460, kernel_size=(3,), stride=(1,))\n",
       "            (5): Tanh()\n",
       "          )\n",
       "          (phi): Interactor(\n",
       "            (0): ReplicationPad1d((2, 2))\n",
       "            (1): Conv1d(460, 920, kernel_size=(3,), stride=(1,))\n",
       "            (2): LeakyReLU(negative_slope=0.01, inplace=True)\n",
       "            (3): Dropout(p=0.5, inplace=False)\n",
       "            (4): Conv1d(920, 460, kernel_size=(3,), stride=(1,))\n",
       "            (5): Tanh()\n",
       "          )\n",
       "          (psi): Interactor(\n",
       "            (0): ReplicationPad1d((2, 2))\n",
       "            (1): Conv1d(460, 920, kernel_size=(3,), stride=(1,))\n",
       "            (2): LeakyReLU(negative_slope=0.01, inplace=True)\n",
       "            (3): Dropout(p=0.5, inplace=False)\n",
       "            (4): Conv1d(920, 460, kernel_size=(3,), stride=(1,))\n",
       "            (5): Tanh()\n",
       "          )\n",
       "        )\n",
       "      )\n",
       "    )\n",
       "  )\n",
       "  (decoder): Decoder(\n",
       "    (fcn): Sequential(\n",
       "      (0): Linear(in_features=1024, out_features=512, bias=True)\n",
       "      (1): ReLU()\n",
       "      (2): Linear(in_features=512, out_features=1024, bias=True)\n",
       "      (3): Sigmoid()\n",
       "    )\n",
       "  )\n",
       ")"
      ]
     },
     "execution_count": 5,
     "metadata": {},
     "output_type": "execute_result"
    }
   ],
   "source": [
    "model = SCINet(**config).float()\n",
    "\n",
    "load_model(model, model_path, device)"
   ]
  },
  {
   "cell_type": "code",
   "execution_count": 12,
   "metadata": {},
   "outputs": [
    {
     "name": "stderr",
     "output_type": "stream",
     "text": [
      "100%|██████████| 21/21 [00:17<00:00,  1.19it/s]"
     ]
    },
    {
     "name": "stdout",
     "output_type": "stream",
     "text": [
      "torch.Size([647, 1024]) torch.Size([647, 1024])\n"
     ]
    },
    {
     "name": "stderr",
     "output_type": "stream",
     "text": [
      "\n"
     ]
    }
   ],
   "source": [
    "with torch.no_grad():\n",
    "    model.eval()\n",
    "\n",
    "    _all_errors = []\n",
    "    _all_labels = []\n",
    "\n",
    "    for batch in tqdm(test_loader):\n",
    "        inputs = batch[\"data\"].to(device)\n",
    "        targets = inputs.detach().clone()\n",
    "\n",
    "        preds = model(inputs)\n",
    "\n",
    "        labels = batch[\"label\"]\n",
    "        errors = residual_error(preds, targets)\n",
    "\n",
    "        _all_errors.append(errors.cpu())\n",
    "        _all_labels.append(labels)\n",
    "\n",
    "    all_errors = torch.concat(_all_errors)\n",
    "    all_labels = torch.concat(_all_labels)\n",
    "\n",
    "    print(all_errors.size(), all_labels.size())"
   ]
  },
  {
   "cell_type": "code",
   "execution_count": 23,
   "metadata": {},
   "outputs": [],
   "source": [
    "step = 0.01\n",
    "thresholds = np.arange(0, all_errors.max() + step, step)\n",
    "\n",
    "f1, prec, rec = [], [], []\n",
    "for at in thresholds:\n",
    "    labels = (all_errors > at).to(torch.int)\n",
    "    metrics = compute_metrics(labels.flatten(), all_labels.flatten())\n",
    "    f1.append(metrics[\"f1\"])\n",
    "    prec.append(metrics[\"precision\"])\n",
    "    rec.append(metrics[\"recall\"])"
   ]
  },
  {
   "cell_type": "code",
   "execution_count": 29,
   "metadata": {},
   "outputs": [
    {
     "data": {
      "image/png": "[encoded data removed]",
      "text/plain": [
       "<Figure size 432x288 with 1 Axes>"
      ]
     },
     "metadata": {},
     "output_type": "display_data"
    },
    {
     "data": {
      "image/png": "[encoded data removed]",
      "text/plain": [
       "<Figure size 432x288 with 1 Axes>"
      ]
     },
     "metadata": {},
     "output_type": "display_data"
    },
    {
     "data": {
      "image/png": "[encoded data removed]",
      "text/plain": [
       "<Figure size 432x288 with 1 Axes>"
      ]
     },
     "metadata": {},
     "output_type": "display_data"
    },
    {
     "data": {
      "image/png": "[encoded data removed]",
      "text/plain": [
       "<Figure size 432x288 with 1 Axes>"
      ]
     },
     "metadata": {},
     "output_type": "display_data"
    }
   ],
   "source": [
    "import matplotlib.pyplot as plt\n",
    "\n",
    "plt.style.use(\"ggplot\")\n",
    "\n",
    "plt.title(\"F1\")\n",
    "plt.plot(thresholds, f1)\n",
    "plt.xlabel(\"thresholds\")\n",
    "plt.show()\n",
    "\n",
    "plt.title(\"Precision\")\n",
    "plt.plot(thresholds, prec)\n",
    "plt.xlabel(\"thresholds\")\n",
    "plt.show()\n",
    "\n",
    "plt.title(\"Recall\")\n",
    "plt.plot(thresholds, rec)\n",
    "plt.xlabel(\"thresholds\")\n",
    "plt.show()\n",
    "\n",
    "plt.title(\"Precision - Recall\")\n",
    "plt.plot(prec, rec)\n",
    "plt.xlabel(\"Precision\")\n",
    "plt.ylabel(\"Recall\")\n",
    "plt.show()"
   ]
  },
  {
   "cell_type": "code",
   "execution_count": 13,
   "metadata": {},
   "outputs": [
    {
     "name": "stderr",
     "output_type": "stream",
     "text": [
      "                                               \r"
     ]
    },
    {
     "name": "stdout",
     "output_type": "stream",
     "text": [
      "0.0\n",
      "f1 0.0807458393807922\n",
      "precision 0.04374435313400768\n",
      "recall 1.0\n",
      "loss 0.018629885278642178\n",
      "\n"
     ]
    },
    {
     "name": "stderr",
     "output_type": "stream",
     "text": [
      "                                               \r"
     ]
    },
    {
     "name": "stdout",
     "output_type": "stream",
     "text": [
      "0.1\n",
      "f1 0.010690747610559421\n",
      "precision 0.024665161035954952\n",
      "recall 0.007982732934622271\n",
      "loss 0.018629885278642178\n",
      "\n"
     ]
    },
    {
     "name": "stderr",
     "output_type": "stream",
     "text": [
      "                                               \r"
     ]
    },
    {
     "name": "stdout",
     "output_type": "stream",
     "text": [
      "0.2\n",
      "f1 0.0\n",
      "precision 0.0\n",
      "recall 0.0\n",
      "loss 0.018629885278642178\n",
      "\n"
     ]
    },
    {
     "name": "stderr",
     "output_type": "stream",
     "text": [
      "                                               \r"
     ]
    },
    {
     "name": "stdout",
     "output_type": "stream",
     "text": [
      "0.30000000000000004\n",
      "f1 0.0\n",
      "precision 0.0\n",
      "recall 0.0\n",
      "loss 0.018629885278642178\n",
      "\n"
     ]
    },
    {
     "name": "stderr",
     "output_type": "stream",
     "text": [
      "                                               \r"
     ]
    },
    {
     "name": "stdout",
     "output_type": "stream",
     "text": [
      "0.4\n",
      "f1 0.0\n",
      "precision 0.0\n",
      "recall 0.0\n",
      "loss 0.018629885278642178\n",
      "\n"
     ]
    },
    {
     "name": "stderr",
     "output_type": "stream",
     "text": [
      "                                               \r"
     ]
    },
    {
     "name": "stdout",
     "output_type": "stream",
     "text": [
      "0.5\n",
      "f1 0.0\n",
      "precision 0.0\n",
      "recall 0.0\n",
      "loss 0.018629885278642178\n",
      "\n"
     ]
    },
    {
     "name": "stderr",
     "output_type": "stream",
     "text": [
      "                                               \r"
     ]
    },
    {
     "name": "stdout",
     "output_type": "stream",
     "text": [
      "0.6000000000000001\n",
      "f1 0.0\n",
      "precision 0.0\n",
      "recall 0.0\n",
      "loss 0.018629885278642178\n",
      "\n"
     ]
    },
    {
     "name": "stderr",
     "output_type": "stream",
     "text": [
      "                                               \r"
     ]
    },
    {
     "ename": "KeyboardInterrupt",
     "evalue": "",
     "output_type": "error",
     "traceback": [
      "\u001b[1;31m---------------------------------------------------------------------------\u001b[0m",
      "\u001b[1;31mKeyboardInterrupt\u001b[0m                         Traceback (most recent call last)",
      "\u001b[1;32mf:\\Users\\Zumo\\Documents\\Github\\AI_Industry_Project\\notebooks\\deep_FIB.ipynb Cella 20\u001b[0m in \u001b[0;36m<cell line: 5>\u001b[1;34m()\u001b[0m\n\u001b[0;32m      <a href='vscode-notebook-cell:/f%3A/Users/Zumo/Documents/Github/AI_Industry_Project/notebooks/deep_FIB.ipynb#ch0000018?line=7'>8</a>\u001b[0m \u001b[39mfor\u001b[39;00m batch \u001b[39min\u001b[39;00m tqdm(test_loader, leave\u001b[39m=\u001b[39m\u001b[39mFalse\u001b[39;00m):\n\u001b[0;32m      <a href='vscode-notebook-cell:/f%3A/Users/Zumo/Documents/Github/AI_Industry_Project/notebooks/deep_FIB.ipynb#ch0000018?line=8'>9</a>\u001b[0m     batch \u001b[39m=\u001b[39m {k: d\u001b[39m.\u001b[39mto(device) \u001b[39mfor\u001b[39;00m k, d \u001b[39min\u001b[39;00m batch\u001b[39m.\u001b[39mitems()}\n\u001b[1;32m---> <a href='vscode-notebook-cell:/f%3A/Users/Zumo/Documents/Github/AI_Industry_Project/notebooks/deep_FIB.ipynb#ch0000018?line=9'>10</a>\u001b[0m     rets \u001b[39m=\u001b[39m engine\u001b[39m.\u001b[39;49mval_step(model, batch)\n\u001b[0;32m     <a href='vscode-notebook-cell:/f%3A/Users/Zumo/Documents/Github/AI_Industry_Project/notebooks/deep_FIB.ipynb#ch0000018?line=10'>11</a>\u001b[0m     \u001b[39mfor\u001b[39;00m tag, val \u001b[39min\u001b[39;00m rets\u001b[39m.\u001b[39mitems():\n\u001b[0;32m     <a href='vscode-notebook-cell:/f%3A/Users/Zumo/Documents/Github/AI_Industry_Project/notebooks/deep_FIB.ipynb#ch0000018?line=11'>12</a>\u001b[0m         test_scalars[tag]\u001b[39m.\u001b[39mappend(\u001b[39mfloat\u001b[39m(val))\n",
      "File \u001b[1;32mc:\\Users\\Zumo\\anaconda3\\envs\\torch-gpu\\lib\\site-packages\\torch\\autograd\\grad_mode.py:27\u001b[0m, in \u001b[0;36m_DecoratorContextManager.__call__.<locals>.decorate_context\u001b[1;34m(*args, **kwargs)\u001b[0m\n\u001b[0;32m     24\u001b[0m \u001b[39m@functools\u001b[39m\u001b[39m.\u001b[39mwraps(func)\n\u001b[0;32m     25\u001b[0m \u001b[39mdef\u001b[39;00m \u001b[39mdecorate_context\u001b[39m(\u001b[39m*\u001b[39margs, \u001b[39m*\u001b[39m\u001b[39m*\u001b[39mkwargs):\n\u001b[0;32m     26\u001b[0m     \u001b[39mwith\u001b[39;00m \u001b[39mself\u001b[39m\u001b[39m.\u001b[39mclone():\n\u001b[1;32m---> 27\u001b[0m         \u001b[39mreturn\u001b[39;00m func(\u001b[39m*\u001b[39;49margs, \u001b[39m*\u001b[39;49m\u001b[39m*\u001b[39;49mkwargs)\n",
      "File \u001b[1;32mf:\\Users\\Zumo\\Documents\\Github\\AI_Industry_Project\\notebooks\\algos\\deep_fib\\core.py:90\u001b[0m, in \u001b[0;36mDeepFIBEngine.val_step\u001b[1;34m(self, model, batch)\u001b[0m\n\u001b[0;32m     88\u001b[0m labels \u001b[39m=\u001b[39m (errors \u001b[39m>\u001b[39m \u001b[39mself\u001b[39m\u001b[39m.\u001b[39manomaly_threshold)\u001b[39m.\u001b[39mto(torch\u001b[39m.\u001b[39mint)\n\u001b[0;32m     89\u001b[0m loss \u001b[39m=\u001b[39m reconstruction_error(preds, targets)\n\u001b[1;32m---> 90\u001b[0m metrics \u001b[39m=\u001b[39m compute_metrics(labels\u001b[39m.\u001b[39;49mflatten(), gt_labels\u001b[39m.\u001b[39;49mflatten())\n\u001b[0;32m     91\u001b[0m metrics\u001b[39m.\u001b[39mupdate(\u001b[39mdict\u001b[39m(loss\u001b[39m=\u001b[39mloss))\n\u001b[0;32m     92\u001b[0m \u001b[39mreturn\u001b[39;00m metrics\n",
      "File \u001b[1;32mf:\\Users\\Zumo\\Documents\\Github\\AI_Industry_Project\\notebooks\\utils\\metrics.py:20\u001b[0m, in \u001b[0;36mcompute_metrics\u001b[1;34m(preds, target)\u001b[0m\n\u001b[0;32m     17\u001b[0m fp \u001b[39m=\u001b[39m (false_pred \u001b[39m*\u001b[39m pos_pred)\u001b[39m.\u001b[39msum()\n\u001b[0;32m     18\u001b[0m fn \u001b[39m=\u001b[39m (false_pred \u001b[39m*\u001b[39m neg_pred)\u001b[39m.\u001b[39msum()\n\u001b[1;32m---> 20\u001b[0m precision \u001b[39m=\u001b[39m _safe_divide(tp\u001b[39m.\u001b[39;49mfloat(), tp \u001b[39m+\u001b[39;49m fp)\n\u001b[0;32m     21\u001b[0m recall \u001b[39m=\u001b[39m _safe_divide(tp\u001b[39m.\u001b[39mfloat(), tp \u001b[39m+\u001b[39m fn)\n\u001b[0;32m     23\u001b[0m f1 \u001b[39m=\u001b[39m \u001b[39m2\u001b[39m \u001b[39m*\u001b[39m _safe_divide(precision \u001b[39m*\u001b[39m recall, precision \u001b[39m+\u001b[39m recall)\n",
      "File \u001b[1;32mf:\\Users\\Zumo\\Documents\\Github\\AI_Industry_Project\\notebooks\\utils\\metrics.py:6\u001b[0m, in \u001b[0;36m_safe_divide\u001b[1;34m(num, denom)\u001b[0m\n\u001b[0;32m      4\u001b[0m \u001b[39mdef\u001b[39;00m \u001b[39m_safe_divide\u001b[39m(num: Tensor, denom: Tensor) \u001b[39m-\u001b[39m\u001b[39m>\u001b[39m Tensor:\n\u001b[0;32m      5\u001b[0m     \u001b[39m\"\"\"prevent zero division.\"\"\"\u001b[39;00m\n\u001b[1;32m----> 6\u001b[0m     denom[denom \u001b[39m==\u001b[39m \u001b[39m0.0\u001b[39m] \u001b[39m=\u001b[39m \u001b[39m1\u001b[39m\n\u001b[0;32m      7\u001b[0m     \u001b[39mreturn\u001b[39;00m num \u001b[39m/\u001b[39m denom\n",
      "\u001b[1;31mKeyboardInterrupt\u001b[0m: "
     ]
    }
   ],
   "source": [
    "anomaly_threshold = 0.1 # to be tuned\n",
    "engine = DeepFIBEngine(anomaly_threshold)\n",
    "test_scalars = defaultdict(list)\n",
    "for batch in tqdm(test_loader, leave=False):\n",
    "    batch = {k: d.to(device) for k, d in batch.items()}\n",
    "    rets = engine.val_step(model, batch)\n",
    "    for tag, val in rets.items():\n",
    "        test_scalars[tag].append(float(val))\n",
    "\n",
    "print(anomaly_threshold)\n",
    "for tag, val in test_scalars.items():\n",
    "    print(tag, np.mean(val))"
   ]
  },
  {
   "cell_type": "code",
   "execution_count": null,
   "metadata": {},
   "outputs": [],
   "source": []
  },
  {
   "cell_type": "code",
   "execution_count": null,
   "metadata": {},
   "outputs": [],
   "source": []
  }
 ],
 "metadata": {
  "kernelspec": {
   "display_name": "Python 3.8.13 ('torch-gpu')",
   "language": "python",
   "name": "python3"
  },
  "language_info": {
   "codemirror_mode": {
    "name": "ipython",
    "version": 3
   },
   "file_extension": ".py",
   "mimetype": "text/x-python",
   "name": "python",
   "nbconvert_exporter": "python",
   "pygments_lexer": "ipython3",
   "version": "3.8.13"
  },
  "vscode": {
   "interpreter": {
    "hash": "c004a322e9c82f28ba2e77aacdbb1b6ccb0b2b4ae6a31db23bc8a8c53511ac4a"
   }
  }
 },
 "nbformat": 4,
 "nbformat_minor": 2
}
