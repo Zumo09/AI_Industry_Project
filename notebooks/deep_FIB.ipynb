{
 "cells": [
  {
   "cell_type": "code",
   "execution_count": 1,
   "metadata": {},
   "outputs": [],
   "source": [
    "%load_ext autoreload\n",
    "%autoreload 2"
   ]
  },
  {
   "cell_type": "code",
   "execution_count": 2,
   "metadata": {},
   "outputs": [],
   "source": [
    "import torch\n",
    "from torch.optim import Adam\n",
    "from torch.optim.lr_scheduler import StepLR, CosineAnnealingLR\n",
    "from torch.utils.data import DataLoader\n",
    "from sklearn.model_selection import train_test_split\n",
    "\n",
    "from deep_fib.sci_net import SCIBlockCfg, SCINet\n",
    "from deep_fib.data import DeepFIBDataset, get_masks\n",
    "from deep_fib.core import DeepFIBEngine\n",
    "\n",
    "from utils.data import Marconi100Dataset, get_dataset_paths\n",
    "from utils.training import training_loop\n",
    "from utils.summary import SummaryWriter"
   ]
  },
  {
   "cell_type": "code",
   "execution_count": 3,
   "metadata": {},
   "outputs": [],
   "source": [
    "paths = get_dataset_paths(\"../data\")\n",
    "train, test = train_test_split(paths, test_size=0.1, random_state=42)\n"
   ]
  },
  {
   "cell_type": "code",
   "execution_count": 4,
   "metadata": {},
   "outputs": [
    {
     "name": "stderr",
     "output_type": "stream",
     "text": [
      "Loading: 100%|██████████| 224/224 [08:54<00:00,  2.38s/it]\n",
      "Loading: 100%|██████████| 25/25 [01:07<00:00,  2.70s/it]\n"
     ]
    }
   ],
   "source": [
    "m_data_train = Marconi100Dataset(train, scaling=\"minmax\")\n",
    "m_data_test = Marconi100Dataset(test, scaling=\"minmax\")\n"
   ]
  },
  {
   "cell_type": "code",
   "execution_count": 5,
   "metadata": {},
   "outputs": [
    {
     "name": "stdout",
     "output_type": "stream",
     "text": [
      "cuda\n"
     ]
    }
   ],
   "source": [
    "device = torch.device(\"cuda\" if torch.cuda.is_available() else \"cpu\")\n",
    "print(device)\n",
    "\n",
    "horizon = 1024\n",
    "stride = 1000\n",
    "n_masks = 100\n",
    "\n",
    "batch_size = 32\n",
    "\n",
    "num_encoder_levels = 2\n",
    "\n",
    "log_dir = \"./deep_fib_outs\"\n",
    "lr = 1e-3\n",
    "num_epochs = 5\n",
    "step_size = 2\n",
    "\n",
    "hidden = None\n",
    "block_cfg = SCIBlockCfg(input_dim=460, hidden_size=4, kernel_size=3, dropout=0.5,)\n",
    "\n",
    "anomaly_threshold = 0.1 # to be tuned\n"
   ]
  },
  {
   "cell_type": "code",
   "execution_count": 6,
   "metadata": {},
   "outputs": [
    {
     "data": {
      "text/plain": [
       "(3049, 353, torch.Size([100, 1024, 460]))"
      ]
     },
     "execution_count": 6,
     "metadata": {},
     "output_type": "execute_result"
    }
   ],
   "source": [
    "dataset_train = DeepFIBDataset(\n",
    "    m_data_train, horizon=horizon, stride=stride\n",
    ")\n",
    "dataset_test = DeepFIBDataset(m_data_test, horizon=horizon, stride=stride)\n",
    "\n",
    "masks = get_masks(horizon, n_masks).float()\n",
    "\n",
    "len(dataset_train), len(dataset_test), masks.size()\n"
   ]
  },
  {
   "cell_type": "code",
   "execution_count": 7,
   "metadata": {},
   "outputs": [
    {
     "data": {
      "text/plain": [
       "(96, 12)"
      ]
     },
     "execution_count": 7,
     "metadata": {},
     "output_type": "execute_result"
    }
   ],
   "source": [
    "train_loader = DataLoader(\n",
    "    dataset_train,\n",
    "    batch_size,\n",
    "    shuffle=True,\n",
    ")\n",
    "test_loader = DataLoader(\n",
    "    dataset_test,\n",
    "    batch_size,\n",
    "    shuffle=False,\n",
    ")\n",
    "len(train_loader), len(test_loader)\n"
   ]
  },
  {
   "cell_type": "code",
   "execution_count": 8,
   "metadata": {},
   "outputs": [],
   "source": [
    "model = SCINet(\n",
    "    output_len=horizon,\n",
    "    input_len=horizon,\n",
    "    num_encoder_levels=num_encoder_levels,\n",
    "    hidden_decoder_sizes=hidden,\n",
    "    block_config=block_cfg,\n",
    ").float()\n",
    "\n",
    "engine = DeepFIBEngine(anomaly_threshold, masks)\n",
    "\n",
    "optim = Adam(model.parameters(), lr=lr)\n",
    "lr_sched = CosineAnnealingLR(optim, num_epochs)"
   ]
  },
  {
   "cell_type": "code",
   "execution_count": 9,
   "metadata": {},
   "outputs": [
    {
     "name": "stderr",
     "output_type": "stream",
     "text": [
      "                                                        \r"
     ]
    },
    {
     "name": "stdout",
     "output_type": "stream",
     "text": [
      "Epoch 0 - train_loss = 0.082 - test_loss = 0.050 - lr = 1.00e-03\n"
     ]
    },
    {
     "name": "stderr",
     "output_type": "stream",
     "text": [
      "                                                        \r"
     ]
    },
    {
     "name": "stdout",
     "output_type": "stream",
     "text": [
      "Epoch 1 - train_loss = 0.044 - test_loss = 0.039 - lr = 9.05e-04\n"
     ]
    },
    {
     "name": "stderr",
     "output_type": "stream",
     "text": [
      "                                                        \r"
     ]
    },
    {
     "name": "stdout",
     "output_type": "stream",
     "text": [
      "Epoch 2 - train_loss = 0.038 - test_loss = 0.034 - lr = 6.55e-04\n"
     ]
    },
    {
     "name": "stderr",
     "output_type": "stream",
     "text": [
      "                                                        \r"
     ]
    },
    {
     "name": "stdout",
     "output_type": "stream",
     "text": [
      "Epoch 3 - train_loss = 0.035 - test_loss = 0.032 - lr = 3.45e-04\n"
     ]
    },
    {
     "name": "stderr",
     "output_type": "stream",
     "text": [
      "                                                        \r"
     ]
    },
    {
     "name": "stdout",
     "output_type": "stream",
     "text": [
      "Epoch 4 - train_loss = 0.033 - test_loss = 0.031 - lr = 9.55e-05\n"
     ]
    }
   ],
   "source": [
    "with SummaryWriter(log_dir) as writer:\n",
    "    training_loop(\n",
    "        model=model,\n",
    "        engine=engine,\n",
    "        num_epochs=num_epochs,\n",
    "        train_dataloader=train_loader,\n",
    "        test_dataloader=test_loader,\n",
    "        device=device,\n",
    "        optimizer=optim,\n",
    "        lr_scheduler=lr_sched,\n",
    "        writer=writer,\n",
    "        save_path=log_dir + \"/models\",\n",
    "    )\n"
   ]
  }
 ],
 "metadata": {
  "interpreter": {
   "hash": "c004a322e9c82f28ba2e77aacdbb1b6ccb0b2b4ae6a31db23bc8a8c53511ac4a"
  },
  "kernelspec": {
   "display_name": "Python 3 (ipykernel)",
   "language": "python",
   "name": "python3"
  },
  "language_info": {
   "codemirror_mode": {
    "name": "ipython",
    "version": 3
   },
   "file_extension": ".py",
   "mimetype": "text/x-python",
   "name": "python",
   "nbconvert_exporter": "python",
   "pygments_lexer": "ipython3",
   "version": "3.8.13"
  }
 },
 "nbformat": 4,
 "nbformat_minor": 2
}
