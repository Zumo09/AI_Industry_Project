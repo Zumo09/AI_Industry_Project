{
 "cells": [
  {
   "cell_type": "code",
   "execution_count": 1,
   "metadata": {},
   "outputs": [],
   "source": [
    "%load_ext autoreload\n",
    "%autoreload 2"
   ]
  },
  {
   "cell_type": "code",
   "execution_count": 2,
   "metadata": {},
   "outputs": [
    {
     "name": "stderr",
     "output_type": "stream",
     "text": [
      "c:\\Users\\zumo0\\anaconda3\\envs\\masterAI\\lib\\site-packages\\torchvision\\io\\image.py:11: UserWarning: Failed to load image Python extension: [WinError 127] Impossibile trovare la procedura specificata\n",
      "  warn(f\"Failed to load image Python extension: {e}\")\n"
     ]
    }
   ],
   "source": [
    "import torch\n",
    "from torch.optim import Adam\n",
    "from torch.optim.lr_scheduler import StepLR\n",
    "from torch.utils.data import DataLoader\n",
    "\n",
    "from deep_fib.sci_net import SCIBlockCfg, SCINet\n",
    "from deep_fib.data import DeepFIBDataset\n",
    "from deep_fib.core import step_function\n",
    "\n",
    "from utils.data import Marconi100Dataset, get_train_test_split\n",
    "from utils.training import training_loop\n",
    "from utils.summary import SummaryWriter"
   ]
  },
  {
   "cell_type": "code",
   "execution_count": 3,
   "metadata": {},
   "outputs": [],
   "source": [
    "train, test = get_train_test_split(0.5, 42)"
   ]
  },
  {
   "cell_type": "code",
   "execution_count": 4,
   "metadata": {},
   "outputs": [],
   "source": [
    "train = train[:10]\n",
    "test = test[:4]"
   ]
  },
  {
   "cell_type": "code",
   "execution_count": 5,
   "metadata": {},
   "outputs": [
    {
     "name": "stderr",
     "output_type": "stream",
     "text": [
      "Loading: 100%|██████████| 10/10 [00:08<00:00,  1.14it/s]\n",
      "Loading: 100%|██████████| 4/4 [00:03<00:00,  1.12it/s]\n"
     ]
    }
   ],
   "source": [
    "horizon = 1024\n",
    "n_sample_per_data = 5\n",
    "\n",
    "dataset_train = DeepFIBDataset(Marconi100Dataset(train, normalize=True), horizon, n_sample_per_data)\n",
    "dataset_test = DeepFIBDataset(Marconi100Dataset(test, normalize=True), horizon, n_sample_per_data)"
   ]
  },
  {
   "cell_type": "code",
   "execution_count": 6,
   "metadata": {},
   "outputs": [
    {
     "name": "stdout",
     "output_type": "stream",
     "text": [
      "data torch.Size([1024, 460])\n",
      "mask torch.Size([1024, 460])\n",
      "label torch.Size([1024])\n"
     ]
    }
   ],
   "source": [
    "data = dataset_train[0]\n",
    "for k, d in data.items():\n",
    "    print(k, d.size())"
   ]
  },
  {
   "cell_type": "code",
   "execution_count": 7,
   "metadata": {},
   "outputs": [],
   "source": [
    "batch_size = 4\n",
    "num_workers = 0\n",
    "\n",
    "train_loader = DataLoader(dataset_train, batch_size, shuffle=True, num_workers=num_workers)\n",
    "test_loader = DataLoader(dataset_test, batch_size, shuffle=False, num_workers=num_workers)"
   ]
  },
  {
   "cell_type": "code",
   "execution_count": 8,
   "metadata": {},
   "outputs": [
    {
     "name": "stdout",
     "output_type": "stream",
     "text": [
      "data torch.Size([4, 1024, 460])\n",
      "mask torch.Size([4, 1024, 460])\n",
      "label torch.Size([4, 1024])\n"
     ]
    }
   ],
   "source": [
    "for data in train_loader:\n",
    "    for k, d in data.items():\n",
    "        print(k, d.size())\n",
    "    break"
   ]
  },
  {
   "cell_type": "code",
   "execution_count": 9,
   "metadata": {},
   "outputs": [],
   "source": [
    "device = torch.device(\"cuda\" if torch.cuda.is_available() else \"cpu\")\n",
    "\n",
    "num_encoder_levels=2\n",
    "input_dim=460\n",
    "\n",
    "model = SCINet(\n",
    "    output_len=horizon,\n",
    "    input_len=horizon,\n",
    "    num_encoder_levels=num_encoder_levels,\n",
    "    hidden_decoder_sizes=None,\n",
    "    block_config=SCIBlockCfg(\n",
    "        input_dim=input_dim,\n",
    "        hidden_size=2,\n",
    "        kernel_size=3,\n",
    "        dropout=0.5,\n",
    "    )\n",
    ").float().to(device)"
   ]
  },
  {
   "cell_type": "code",
   "execution_count": 11,
   "metadata": {},
   "outputs": [],
   "source": [
    "lr = 1e-3\n",
    "step_size = 1\n",
    "\n",
    "optim = Adam(model.parameters(), lr=lr)\n",
    "lr_sched = StepLR(optim, step_size)"
   ]
  },
  {
   "cell_type": "code",
   "execution_count": 12,
   "metadata": {},
   "outputs": [
    {
     "name": "stderr",
     "output_type": "stream",
     "text": [
      "                                                          \r"
     ]
    },
    {
     "name": "stdout",
     "output_type": "stream",
     "text": [
      "Epoch 0 - loss = 139.85572795252656 (111.17207134131235) - f1_score = 0.06739113950583661 (0.0345108811172505) - lr = 1.00e-03\n"
     ]
    },
    {
     "name": "stderr",
     "output_type": "stream",
     "text": [
      "                                                          \r"
     ]
    },
    {
     "name": "stdout",
     "output_type": "stream",
     "text": [
      "Epoch 1 - loss = 89.62423183072003 (97.82855322866727) - f1_score = 0.06707509237655149 (0.0345108811172505) - lr = 1.00e-04\n"
     ]
    },
    {
     "name": "stderr",
     "output_type": "stream",
     "text": [
      "                                                          \r"
     ]
    },
    {
     "name": "stdout",
     "output_type": "stream",
     "text": [
      "Epoch 2 - loss = 85.55501850497342 (97.02051833181669) - f1_score = 0.06737339936014672 (0.0345108811172505) - lr = 1.00e-05\n"
     ]
    }
   ],
   "source": [
    "log_dir = \"trash\"\n",
    "\n",
    "with SummaryWriter(log_dir) as writer:\n",
    "    training_loop(\n",
    "        model=model,\n",
    "        step_function=step_function,\n",
    "        num_epochs=3*step_size,\n",
    "        train_dataloader=train_loader,\n",
    "        test_dataloader=test_loader,\n",
    "        device=device,\n",
    "        optimizer=optim,\n",
    "        lr_scheduler=lr_sched,\n",
    "        writer=writer,\n",
    "        save_path=log_dir + \"/models\"\n",
    "    )"
   ]
  },
  {
   "cell_type": "code",
   "execution_count": null,
   "metadata": {},
   "outputs": [],
   "source": []
  }
 ],
 "metadata": {
  "interpreter": {
   "hash": "ab81a77bbd99791b442b66d5911adf60087a90079f5aff673de360844339db9f"
  },
  "kernelspec": {
   "display_name": "Python 3 (ipykernel)",
   "language": "python",
   "name": "python3"
  },
  "language_info": {
   "codemirror_mode": {
    "name": "ipython",
    "version": 3
   },
   "file_extension": ".py",
   "mimetype": "text/x-python",
   "name": "python",
   "nbconvert_exporter": "python",
   "pygments_lexer": "ipython3",
   "version": "3.8.5"
  }
 },
 "nbformat": 4,
 "nbformat_minor": 2
}
