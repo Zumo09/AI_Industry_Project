{
 "cells": [
  {
   "cell_type": "code",
   "execution_count": 1,
   "metadata": {
    "id": "qgK8qcIXoByY"
   },
   "outputs": [],
   "source": [
    "%load_ext autoreload\n",
    "%autoreload 2"
   ]
  },
  {
   "cell_type": "code",
   "execution_count": 2,
   "metadata": {
    "id": "wrqsyKumoBye",
    "outputId": "dd4ad8a5-51a7-4708-be7e-164aeb4f9d36"
   },
   "outputs": [],
   "source": [
    "import utils.data as data\n",
    "\n",
    "train, test = data.get_train_test_split(0.01, 42)"
   ]
  },
  {
   "cell_type": "code",
   "execution_count": 3,
   "metadata": {
    "id": "IXiNLh-toByg",
    "outputId": "37b8656c-4732-4afd-965f-e321e08ae9c4"
   },
   "outputs": [
    {
     "name": "stderr",
     "output_type": "stream",
     "text": [
      "100%|█████████████████████████████████████████████| 3/3 [00:02<00:00,  1.13it/s]\n"
     ]
    }
   ],
   "source": [
    "dataset = data.Marconi100Dataset(test)\n",
    "df, lab = dataset[0]"
   ]
  },
  {
   "cell_type": "code",
   "execution_count": 5,
   "metadata": {},
   "outputs": [
    {
     "data": {
      "text/plain": [
       "array([0, 1])"
      ]
     },
     "execution_count": 5,
     "metadata": {},
     "output_type": "execute_result"
    }
   ],
   "source": [
    "lab.unique()"
   ]
  },
  {
   "cell_type": "code",
   "execution_count": 6,
   "metadata": {},
   "outputs": [
    {
     "data": {
      "text/plain": [
       "(16114, 460)"
      ]
     },
     "execution_count": 6,
     "metadata": {},
     "output_type": "execute_result"
    }
   ],
   "source": [
    "df.shape"
   ]
  },
  {
   "cell_type": "code",
   "execution_count": 7,
   "metadata": {},
   "outputs": [
    {
     "name": "stdout",
     "output_type": "stream",
     "text": [
      "torch.Size([16114, 460])\n"
     ]
    }
   ],
   "source": [
    "import torch\n",
    "\n",
    "tensor = torch.ones(df.shape)\n",
    "print(tensor.shape)"
   ]
  },
  {
   "cell_type": "code",
   "execution_count": 80,
   "metadata": {},
   "outputs": [],
   "source": [
    "import numpy as np\n",
    "\n",
    "def generate_masks(M):\n",
    "    masks = []\n",
    "    for i in range(0, M):\n",
    "        x = tensor.clone().detach()\n",
    "\n",
    "        #get column indices for the features to mask\n",
    "        col_idxs = np.random.choice(range(0, df.shape[1]), 10, replace=False)\n",
    "        #get row indices for the samples to mask\n",
    "        row_idxs = np.random.choice(range(0, df.shape[0]), 10, replace=False)\n",
    "        if i == 0:\n",
    "            print(\"col_idxs: \", col_idxs)\n",
    "            print(\"row_idxs: \", row_idxs)\n",
    "            for i in row_idxs:\n",
    "                for j in col_idxs:\n",
    "                    x[i][j] = 0\n",
    "\n",
    "        mask = x > 0\n",
    "        masks.append(mask)\n",
    "    return masks\n",
    "\n",
    "def generate_mask_V1(tensor, shape, n):\n",
    "    \n",
    "    # inefficiente\n",
    "    n_mask = int(np.prod(shape) / n)\n",
    "    \n",
    "    mask = torch.ones(shape)\n",
    "    print(np.count_nonzero(mask == 0), n_mask)\n",
    "    \n",
    "    while np.count_nonzero(mask == 0) < n_mask:\n",
    "        \n",
    "        # get column index for the element to mask\n",
    "        col_idx = np.random.choice(range(shape[1]), replace=False)\n",
    "        # get row index for the element to mask\n",
    "        row_idx = np.random.choice(range(shape[0]), replace=False)\n",
    "        mask[row_idx, col_idx] = 0\n",
    "        \n",
    "    return mask\n",
    "\n",
    "def generate_mask_V2(shape, n):\n",
    "    \n",
    "    mask = torch.ones(shape)\n",
    "    \n",
    "    n_mask = int(np.prod(shape) / n)\n",
    "    \n",
    "    # create sampling indices\n",
    "    sample = np.random.choice(len(mask), n_mask)\n",
    "    \n",
    "    mask[sample] = 0\n",
    "    \n",
    "    return mask"
   ]
  },
  {
   "cell_type": "code",
   "execution_count": 20,
   "metadata": {},
   "outputs": [
    {
     "name": "stdout",
     "output_type": "stream",
     "text": [
      "col_idxs:  [ 99 106 125   5 377  41 313  17 137 365]\n",
      "row_idxs:  [ 2999 13844  6586  8294  4292  2933 15412  5158   584 13666]\n",
      "tensor([[  584,     5],\n",
      "        [  584,    17],\n",
      "        [  584,    41],\n",
      "        [  584,    99],\n",
      "        [  584,   106],\n",
      "        [  584,   125],\n",
      "        [  584,   137],\n",
      "        [  584,   313],\n",
      "        [  584,   365],\n",
      "        [  584,   377],\n",
      "        [ 2933,     5],\n",
      "        [ 2933,    17],\n",
      "        [ 2933,    41],\n",
      "        [ 2933,    99],\n",
      "        [ 2933,   106],\n",
      "        [ 2933,   125],\n",
      "        [ 2933,   137],\n",
      "        [ 2933,   313],\n",
      "        [ 2933,   365],\n",
      "        [ 2933,   377],\n",
      "        [ 2999,     5],\n",
      "        [ 2999,    17],\n",
      "        [ 2999,    41],\n",
      "        [ 2999,    99],\n",
      "        [ 2999,   106],\n",
      "        [ 2999,   125],\n",
      "        [ 2999,   137],\n",
      "        [ 2999,   313],\n",
      "        [ 2999,   365],\n",
      "        [ 2999,   377],\n",
      "        [ 4292,     5],\n",
      "        [ 4292,    17],\n",
      "        [ 4292,    41],\n",
      "        [ 4292,    99],\n",
      "        [ 4292,   106],\n",
      "        [ 4292,   125],\n",
      "        [ 4292,   137],\n",
      "        [ 4292,   313],\n",
      "        [ 4292,   365],\n",
      "        [ 4292,   377],\n",
      "        [ 5158,     5],\n",
      "        [ 5158,    17],\n",
      "        [ 5158,    41],\n",
      "        [ 5158,    99],\n",
      "        [ 5158,   106],\n",
      "        [ 5158,   125],\n",
      "        [ 5158,   137],\n",
      "        [ 5158,   313],\n",
      "        [ 5158,   365],\n",
      "        [ 5158,   377],\n",
      "        [ 6586,     5],\n",
      "        [ 6586,    17],\n",
      "        [ 6586,    41],\n",
      "        [ 6586,    99],\n",
      "        [ 6586,   106],\n",
      "        [ 6586,   125],\n",
      "        [ 6586,   137],\n",
      "        [ 6586,   313],\n",
      "        [ 6586,   365],\n",
      "        [ 6586,   377],\n",
      "        [ 8294,     5],\n",
      "        [ 8294,    17],\n",
      "        [ 8294,    41],\n",
      "        [ 8294,    99],\n",
      "        [ 8294,   106],\n",
      "        [ 8294,   125],\n",
      "        [ 8294,   137],\n",
      "        [ 8294,   313],\n",
      "        [ 8294,   365],\n",
      "        [ 8294,   377],\n",
      "        [13666,     5],\n",
      "        [13666,    17],\n",
      "        [13666,    41],\n",
      "        [13666,    99],\n",
      "        [13666,   106],\n",
      "        [13666,   125],\n",
      "        [13666,   137],\n",
      "        [13666,   313],\n",
      "        [13666,   365],\n",
      "        [13666,   377],\n",
      "        [13844,     5],\n",
      "        [13844,    17],\n",
      "        [13844,    41],\n",
      "        [13844,    99],\n",
      "        [13844,   106],\n",
      "        [13844,   125],\n",
      "        [13844,   137],\n",
      "        [13844,   313],\n",
      "        [13844,   365],\n",
      "        [13844,   377],\n",
      "        [15412,     5],\n",
      "        [15412,    17],\n",
      "        [15412,    41],\n",
      "        [15412,    99],\n",
      "        [15412,   106],\n",
      "        [15412,   125],\n",
      "        [15412,   137],\n",
      "        [15412,   313],\n",
      "        [15412,   365],\n",
      "        [15412,   377]])\n"
     ]
    }
   ],
   "source": [
    "masks = generate_masks(2)\n",
    "first_mask = masks[0]\n",
    "# print indices of holes\n",
    "print(torch.logical_not(first_mask).nonzero())"
   ]
  },
  {
   "cell_type": "code",
   "execution_count": 83,
   "metadata": {},
   "outputs": [
    {
     "name": "stdout",
     "output_type": "stream",
     "text": [
      "True\n"
     ]
    }
   ],
   "source": [
    "mask = generate_mask_V2(tensor.shape, 2000)\n",
    "print(np.count_nonzero(mask == 0) + np.count_nonzero(mask) == np.prod(mask.shape))"
   ]
  },
  {
   "cell_type": "code",
   "execution_count": 76,
   "metadata": {},
   "outputs": [
    {
     "ename": "AttributeError",
     "evalue": "module 'deep_fib.data' has no attribute 'PointMaskDataset'",
     "output_type": "error",
     "traceback": [
      "\u001b[0;31m---------------------------------------------------------------------------\u001b[0m",
      "\u001b[0;31mAttributeError\u001b[0m                            Traceback (most recent call last)",
      "\u001b[0;32m/tmp/ipykernel_6378/4103616910.py\u001b[0m in \u001b[0;36m<module>\u001b[0;34m\u001b[0m\n\u001b[1;32m      2\u001b[0m \u001b[0;32mimport\u001b[0m \u001b[0mnumpy\u001b[0m \u001b[0;32mas\u001b[0m \u001b[0mnp\u001b[0m\u001b[0;34m\u001b[0m\u001b[0;34m\u001b[0m\u001b[0m\n\u001b[1;32m      3\u001b[0m \u001b[0;34m\u001b[0m\u001b[0m\n\u001b[0;32m----> 4\u001b[0;31m \u001b[0mdataset\u001b[0m \u001b[0;34m=\u001b[0m \u001b[0mdata_dfib\u001b[0m\u001b[0;34m.\u001b[0m\u001b[0mPointMaskDataset\u001b[0m\u001b[0;34m(\u001b[0m\u001b[0mtest\u001b[0m\u001b[0;34m,\u001b[0m \u001b[0;36m10\u001b[0m\u001b[0;34m)\u001b[0m\u001b[0;34m\u001b[0m\u001b[0;34m\u001b[0m\u001b[0m\n\u001b[0m\u001b[1;32m      5\u001b[0m \u001b[0;34m\u001b[0m\u001b[0m\n\u001b[1;32m      6\u001b[0m \u001b[0mdf\u001b[0m\u001b[0;34m,\u001b[0m \u001b[0mmask\u001b[0m\u001b[0;34m,\u001b[0m \u001b[0mlab\u001b[0m \u001b[0;34m=\u001b[0m \u001b[0mdataset\u001b[0m\u001b[0;34m[\u001b[0m\u001b[0;36m0\u001b[0m\u001b[0;34m]\u001b[0m\u001b[0;34m\u001b[0m\u001b[0;34m\u001b[0m\u001b[0m\n",
      "\u001b[0;31mAttributeError\u001b[0m: module 'deep_fib.data' has no attribute 'PointMaskDataset'"
     ]
    }
   ],
   "source": [
    "import deep_fib.data as data_dfib\n",
    "import numpy as np\n",
    "\n",
    "dataset = data_dfib.PointMaskDataset(test, 10)\n",
    "\n",
    "df, mask, lab = dataset[0]"
   ]
  },
  {
   "cell_type": "code",
   "execution_count": 15,
   "metadata": {},
   "outputs": [
    {
     "data": {
      "text/plain": [
       "606970"
      ]
     },
     "execution_count": 15,
     "metadata": {},
     "output_type": "execute_result"
    }
   ],
   "source": [
    "int(np.prod(df.shape) / dataset.n)"
   ]
  },
  {
   "cell_type": "code",
   "execution_count": 16,
   "metadata": {},
   "outputs": [
    {
     "data": {
      "text/plain": [
       "tensor(577489)"
      ]
     },
     "execution_count": 16,
     "metadata": {},
     "output_type": "execute_result"
    }
   ],
   "source": [
    "(mask == -1).sum()"
   ]
  },
  {
   "cell_type": "code",
   "execution_count": 17,
   "metadata": {},
   "outputs": [
    {
     "data": {
      "text/plain": [
       "tensor(5492211)"
      ]
     },
     "execution_count": 17,
     "metadata": {},
     "output_type": "execute_result"
    }
   ],
   "source": [
    "(mask != -1).sum()"
   ]
  },
  {
   "cell_type": "code",
   "execution_count": null,
   "metadata": {},
   "outputs": [],
   "source": []
  }
 ],
 "metadata": {
  "colab": {
   "name": "prova.ipynb",
   "provenance": []
  },
  "interpreter": {
   "hash": "ab81a77bbd99791b442b66d5911adf60087a90079f5aff673de360844339db9f"
  },
  "kernelspec": {
   "display_name": "Python 3 (ipykernel)",
   "language": "python",
   "name": "python3"
  },
  "language_info": {
   "codemirror_mode": {
    "name": "ipython",
    "version": 3
   },
   "file_extension": ".py",
   "mimetype": "text/x-python",
   "name": "python",
   "nbconvert_exporter": "python",
   "pygments_lexer": "ipython3",
   "version": "3.8.10"
  }
 },
 "nbformat": 4,
 "nbformat_minor": 1
}
