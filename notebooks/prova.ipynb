{
 "cells": [
  {
   "cell_type": "code",
   "execution_count": 1,
   "metadata": {
    "id": "qgK8qcIXoByY"
   },
   "outputs": [],
   "source": [
    "%load_ext autoreload\n",
    "%autoreload 2"
   ]
  },
  {
   "cell_type": "code",
   "execution_count": 1,
   "metadata": {
    "id": "wrqsyKumoBye",
    "outputId": "dd4ad8a5-51a7-4708-be7e-164aeb4f9d36"
   },
   "outputs": [],
   "source": [
    "import torch\n",
    "import numpy as np\n",
    "import random\n",
    "\n",
    "from torch.optim import Adam\n",
    "from torch.optim.lr_scheduler import StepLR\n",
    "from torch.utils.data import DataLoader\n",
    "from sklearn.model_selection import train_test_split\n",
    "\n",
    "\n",
    "from deep_fib.sci_net import SCIBlockCfg, SCINet\n",
    "from deep_fib.data import DeepFIBDataset, get_masks\n",
    "from deep_fib.core import DeepFIBEngine\n",
    "\n",
    "from utils.data import Marconi100Dataset, get_dataset_paths\n",
    "from utils.training import training_loop\n",
    "from utils.summary import SummaryWriter"
   ]
  },
  {
   "cell_type": "code",
   "execution_count": 11,
   "metadata": {},
   "outputs": [],
   "source": [
    "paths = get_dataset_paths(\"../data\")\n",
    "train, test = train_test_split(paths, test_size=0.1, random_state=42)"
   ]
  },
  {
   "cell_type": "code",
   "execution_count": 12,
   "metadata": {
    "id": "IXiNLh-toByg",
    "outputId": "37b8656c-4732-4afd-965f-e321e08ae9c4"
   },
   "outputs": [
    {
     "name": "stderr",
     "output_type": "stream",
     "text": [
      "Loading: 100%|██████████| 25/25 [00:51<00:00,  2.07s/it]\n"
     ]
    }
   ],
   "source": [
    "dataset = Marconi100Dataset(test, scaling=\"minmax\")\n",
    "df, lab = dataset[0]"
   ]
  },
  {
   "cell_type": "code",
   "execution_count": 13,
   "metadata": {},
   "outputs": [
    {
     "name": "stderr",
     "output_type": "stream",
     "text": [
      "Loading: 100%|██████████| 25/25 [00:50<00:00,  2.04s/it]\n"
     ]
    },
    {
     "name": "stdout",
     "output_type": "stream",
     "text": [
      "0.0\n"
     ]
    }
   ],
   "source": [
    "dataset = Marconi100Dataset(test, scaling=\"minmax\")\n",
    "print(min(dataset[i][0].min().min() for i in range(len(dataset))))\n",
    "    "
   ]
  },
  {
   "cell_type": "code",
   "execution_count": 14,
   "metadata": {},
   "outputs": [
    {
     "name": "stderr",
     "output_type": "stream",
     "text": [
      "Loading: 100%|██████████| 25/25 [00:02<00:00, 10.91it/s]\n"
     ]
    },
    {
     "name": "stdout",
     "output_type": "stream",
     "text": [
      "-72.0\n"
     ]
    }
   ],
   "source": [
    "dataset = Marconi100Dataset(test, scaling=None)\n",
    "print(min(dataset[i][0].min().min() for i in range(len(dataset))))"
   ]
  },
  {
   "cell_type": "code",
   "execution_count": 11,
   "metadata": {},
   "outputs": [
    {
     "data": {
      "text/plain": [
       "array([0, 1])"
      ]
     },
     "execution_count": 11,
     "metadata": {},
     "output_type": "execute_result"
    }
   ],
   "source": [
    "lab.unique()"
   ]
  },
  {
   "cell_type": "code",
   "execution_count": 12,
   "metadata": {},
   "outputs": [
    {
     "data": {
      "text/plain": [
       "(13383, 460)"
      ]
     },
     "execution_count": 12,
     "metadata": {},
     "output_type": "execute_result"
    }
   ],
   "source": [
    "df.shape"
   ]
  },
  {
   "cell_type": "code",
   "execution_count": 13,
   "metadata": {},
   "outputs": [
    {
     "name": "stdout",
     "output_type": "stream",
     "text": [
      "cpu\n"
     ]
    }
   ],
   "source": [
    "device = torch.device(\"cuda\" if torch.cuda.is_available() else \"cpu\")\n",
    "print(device)\n",
    "\n",
    "horizon = 1024\n",
    "stride = 1000\n",
    "n_masks = 20\n",
    "\n",
    "batch_size = 32\n",
    "num_workers = 2\n",
    "\n",
    "num_encoder_levels = 2\n",
    "\n",
    "log_dir = \"./trash\"\n",
    "lr = 1e-3\n",
    "num_epochs = 3\n",
    "step_size = 2\n",
    "\n",
    "hidden = None\n",
    "block_cfg = SCIBlockCfg(input_dim=460, hidden_size=4, kernel_size=3, dropout=0.5,)\n",
    "\n",
    "anomaly_threshold = 0.7"
   ]
  },
  {
   "cell_type": "code",
   "execution_count": 37,
   "metadata": {},
   "outputs": [],
   "source": [
    "dataset_train = DeepFIBDataset(\n",
    "    dataset, horizon=horizon, stride=stride\n",
    ")\n",
    "dataset_test = DeepFIBDataset(\n",
    "    dataset, horizon=horizon, stride=stride\n",
    ")"
   ]
  },
  {
   "cell_type": "code",
   "execution_count": 21,
   "metadata": {},
   "outputs": [
    {
     "name": "stdout",
     "output_type": "stream",
     "text": [
      "torch.Size([20, 1024, 460])\n"
     ]
    }
   ],
   "source": [
    "masks = get_masks(horizon, n_masks).float()\n",
    "print(masks.shape)"
   ]
  },
  {
   "cell_type": "code",
   "execution_count": 38,
   "metadata": {},
   "outputs": [
    {
     "data": {
      "text/plain": [
       "(2, 2)"
      ]
     },
     "execution_count": 38,
     "metadata": {},
     "output_type": "execute_result"
    }
   ],
   "source": [
    "train_loader = DataLoader(\n",
    "    dataset_train,\n",
    "    batch_size,\n",
    "    shuffle=True,\n",
    "    num_workers=num_workers,\n",
    "    persistent_workers=(num_workers != 0),\n",
    ")\n",
    "\n",
    "test_loader = DataLoader(\n",
    "    dataset_test,\n",
    "    batch_size,\n",
    "    shuffle=False,\n",
    "    num_workers=num_workers,\n",
    "    persistent_workers=(num_workers != 0),\n",
    ")\n",
    "\n",
    "len(train_loader), len(test_loader)"
   ]
  },
  {
   "cell_type": "code",
   "execution_count": 40,
   "metadata": {},
   "outputs": [
    {
     "name": "stderr",
     "output_type": "stream",
     "text": [
      "                                                                                \r"
     ]
    },
    {
     "ename": "TypeError",
     "evalue": "'builtin_function_or_method' object does not support item assignment",
     "output_type": "error",
     "traceback": [
      "\u001b[0;31m---------------------------------------------------------------------------\u001b[0m",
      "\u001b[0;31mTypeError\u001b[0m                                 Traceback (most recent call last)",
      "\u001b[0;32m/tmp/ipykernel_15257/3166743589.py\u001b[0m in \u001b[0;36m<module>\u001b[0;34m\u001b[0m\n\u001b[1;32m     13\u001b[0m \u001b[0;34m\u001b[0m\u001b[0m\n\u001b[1;32m     14\u001b[0m \u001b[0;32mwith\u001b[0m \u001b[0mSummaryWriter\u001b[0m\u001b[0;34m(\u001b[0m\u001b[0mlog_dir\u001b[0m\u001b[0;34m)\u001b[0m \u001b[0;32mas\u001b[0m \u001b[0mwriter\u001b[0m\u001b[0;34m:\u001b[0m\u001b[0;34m\u001b[0m\u001b[0;34m\u001b[0m\u001b[0m\n\u001b[0;32m---> 15\u001b[0;31m     training_loop(\n\u001b[0m\u001b[1;32m     16\u001b[0m         \u001b[0mmodel\u001b[0m\u001b[0;34m=\u001b[0m\u001b[0mmodel\u001b[0m\u001b[0;34m,\u001b[0m\u001b[0;34m\u001b[0m\u001b[0;34m\u001b[0m\u001b[0m\n\u001b[1;32m     17\u001b[0m         \u001b[0mengine\u001b[0m\u001b[0;34m=\u001b[0m\u001b[0mengine\u001b[0m\u001b[0;34m,\u001b[0m\u001b[0;34m\u001b[0m\u001b[0;34m\u001b[0m\u001b[0m\n",
      "\u001b[0;32m~/Liam/Uni/Magistrale/AIITI/Project/AI_Industry_Project/notebooks/utils/training.py\u001b[0m in \u001b[0;36mtraining_loop\u001b[0;34m(model, engine, num_epochs, train_dataloader, test_dataloader, optimizer, device, lr_scheduler, writer, save_path)\u001b[0m\n\u001b[1;32m     63\u001b[0m             \u001b[0moptimizer\u001b[0m\u001b[0;34m.\u001b[0m\u001b[0mzero_grad\u001b[0m\u001b[0;34m(\u001b[0m\u001b[0;34m)\u001b[0m\u001b[0;34m\u001b[0m\u001b[0;34m\u001b[0m\u001b[0m\n\u001b[1;32m     64\u001b[0m \u001b[0;34m\u001b[0m\u001b[0m\n\u001b[0;32m---> 65\u001b[0;31m             \u001b[0mrets\u001b[0m \u001b[0;34m=\u001b[0m \u001b[0mengine\u001b[0m\u001b[0;34m.\u001b[0m\u001b[0mtrain_step\u001b[0m\u001b[0;34m(\u001b[0m\u001b[0mmodel\u001b[0m\u001b[0;34m,\u001b[0m \u001b[0mbatch\u001b[0m\u001b[0;34m)\u001b[0m\u001b[0;34m\u001b[0m\u001b[0;34m\u001b[0m\u001b[0m\n\u001b[0m\u001b[1;32m     66\u001b[0m \u001b[0;34m\u001b[0m\u001b[0m\n\u001b[1;32m     67\u001b[0m             \u001b[0mrets\u001b[0m\u001b[0;34m[\u001b[0m\u001b[0;34m\"loss\"\u001b[0m\u001b[0;34m]\u001b[0m\u001b[0;34m.\u001b[0m\u001b[0mbackward\u001b[0m\u001b[0;34m(\u001b[0m\u001b[0;34m)\u001b[0m\u001b[0;34m\u001b[0m\u001b[0;34m\u001b[0m\u001b[0m\n",
      "\u001b[0;32m~/Liam/Uni/Magistrale/AIITI/Project/AI_Industry_Project/notebooks/deep_fib/core.py\u001b[0m in \u001b[0;36mtrain_step\u001b[0;34m(self, model, batch)\u001b[0m\n\u001b[1;32m     37\u001b[0m         \u001b[0;32mfor\u001b[0m \u001b[0mmask\u001b[0m\u001b[0;34m,\u001b[0m \u001b[0melem\u001b[0m \u001b[0;32min\u001b[0m \u001b[0mzip\u001b[0m\u001b[0;34m(\u001b[0m\u001b[0msample_masks\u001b[0m\u001b[0;34m,\u001b[0m \u001b[0minputs\u001b[0m\u001b[0;34m)\u001b[0m\u001b[0;34m:\u001b[0m\u001b[0;34m\u001b[0m\u001b[0;34m\u001b[0m\u001b[0m\n\u001b[1;32m     38\u001b[0m             \u001b[0mmasked_input\u001b[0m \u001b[0;34m=\u001b[0m \u001b[0melem\u001b[0m\u001b[0;34m.\u001b[0m\u001b[0mdetach\u001b[0m\u001b[0;34m(\u001b[0m\u001b[0;34m)\u001b[0m\u001b[0;34m.\u001b[0m\u001b[0mclone\u001b[0m\u001b[0;34m\u001b[0m\u001b[0;34m\u001b[0m\u001b[0m\n\u001b[0;32m---> 39\u001b[0;31m             \u001b[0mmasked_input\u001b[0m\u001b[0;34m[\u001b[0m\u001b[0mmask\u001b[0m \u001b[0;34m==\u001b[0m \u001b[0;36m0\u001b[0m\u001b[0;34m]\u001b[0m \u001b[0;34m=\u001b[0m \u001b[0mMASK\u001b[0m\u001b[0;34m\u001b[0m\u001b[0;34m\u001b[0m\u001b[0m\n\u001b[0m\u001b[1;32m     40\u001b[0m             \u001b[0mmasked_inputs\u001b[0m\u001b[0;34m.\u001b[0m\u001b[0mappend\u001b[0m\u001b[0;34m(\u001b[0m\u001b[0mmasked_input\u001b[0m\u001b[0;34m)\u001b[0m\u001b[0;34m\u001b[0m\u001b[0;34m\u001b[0m\u001b[0m\n\u001b[1;32m     41\u001b[0m \u001b[0;34m\u001b[0m\u001b[0m\n",
      "\u001b[0;31mTypeError\u001b[0m: 'builtin_function_or_method' object does not support item assignment"
     ]
    }
   ],
   "source": [
    "model = SCINet(\n",
    "    output_len=horizon,\n",
    "    input_len=horizon,\n",
    "    num_encoder_levels=num_encoder_levels,\n",
    "    hidden_decoder_sizes=hidden,\n",
    "    block_config=block_cfg,\n",
    ").float()\n",
    "\n",
    "engine = DeepFIBEngine(anomaly_threshold, masks)\n",
    "\n",
    "optim = Adam(model.parameters(), lr=lr)\n",
    "lr_sched = StepLR(optim, step_size)\n",
    "\n",
    "with SummaryWriter(log_dir) as writer:\n",
    "    training_loop(\n",
    "        model=model,\n",
    "        engine=engine,\n",
    "        num_epochs=num_epochs,\n",
    "        train_dataloader=train_loader,\n",
    "        test_dataloader=test_loader,\n",
    "        device=device,\n",
    "        optimizer=optim,\n",
    "        lr_scheduler=lr_sched,\n",
    "        writer=writer,\n",
    "        save_path=log_dir + \"/models\",\n",
    "    )"
   ]
  },
  {
   "cell_type": "code",
   "execution_count": 6,
   "metadata": {},
   "outputs": [
    {
     "name": "stdout",
     "output_type": "stream",
     "text": [
      "torch.Size([13195, 460])\n"
     ]
    }
   ],
   "source": [
    "import torch\n",
    "\n",
    "tensor = torch.ones(df.shape)\n",
    "print(tensor.shape)"
   ]
  },
  {
   "cell_type": "code",
   "execution_count": 23,
   "metadata": {},
   "outputs": [],
   "source": [
    "def generate_masks(M):\n",
    "    masks = []\n",
    "    for i in range(0, M):\n",
    "        x = tensor.clone().detach()\n",
    "\n",
    "        #get column indices for the features to mask\n",
    "        col_idxs = np.random.choice(range(0, df.shape[1]), 10, replace=False)\n",
    "        #get row indices for the samples to mask\n",
    "        row_idxs = np.random.choice(range(0, df.shape[0]), 10, replace=False)\n",
    "        if i == 0:\n",
    "            print(\"col_idxs: \", col_idxs)\n",
    "            print(\"row_idxs: \", row_idxs)\n",
    "            for i in row_idxs:\n",
    "                for j in col_idxs:\n",
    "                    x[i][j] = 0\n",
    "\n",
    "        mask = x > 0\n",
    "        masks.append(mask)\n",
    "    return masks\n",
    "\n",
    "def generate_mask_V1(shape, n):\n",
    "    \n",
    "    # inefficiente\n",
    "    n_mask = int(np.prod(shape) / n)\n",
    "    \n",
    "    mask = torch.ones(shape)\n",
    "    print(np.count_nonzero(mask == 0), n_mask)\n",
    "    \n",
    "    while np.count_nonzero(mask == 0) < n_mask:\n",
    "        \n",
    "        # get column index for the element to mask\n",
    "        col_idx = np.random.choice(range(shape[1]), replace=False)\n",
    "        # get row index for the element to mask\n",
    "        row_idx = np.random.choice(range(shape[0]), replace=False)\n",
    "        mask[row_idx, col_idx] = 0\n",
    "        \n",
    "    return mask\n",
    "\n",
    "def generate_mask_V2(shape, n):\n",
    "    \n",
    "    # molto più efficiente\n",
    "    \n",
    "    mask = torch.ones(np.prod(shape))\n",
    "    \n",
    "    n_mask = int(np.prod(shape) / n)\n",
    "    \n",
    "    # make sure as many as n_mask samples are masked\n",
    "    mask[:n_mask] = 0\n",
    "    \n",
    "    mask = torch.reshape(mask, shape)\n",
    "    \n",
    "    # permute rows\n",
    "    mask = np.random.permutation(mask)\n",
    "    \n",
    "    # permute columns\n",
    "    mask = mask[:, np.random.permutation(mask.shape[1])]\n",
    "    \n",
    "    return mask\n",
    "\n",
    "def generate_mask_V3(shape, n):\n",
    "    \n",
    "    # un po' più efficiente\n",
    "    mask = np.ones(np.prod(shape))\n",
    "    n_mask = int(np.prod(shape) / n)\n",
    "    # make sure as many as n_mask samples are masked\n",
    "    mask[:n_mask] = 0\n",
    "\n",
    "    # permute elements\n",
    "    mask = np.random.permutation(mask)\n",
    "\n",
    "    # reshape to the input shape\n",
    "    mask = torch.tensor(mask).reshape(shape)\n",
    "    \n",
    "    return mask"
   ]
  },
  {
   "cell_type": "code",
   "execution_count": 15,
   "metadata": {},
   "outputs": [
    {
     "data": {
      "text/plain": [
       "tensor([[1., 1., 1., 1., 0.],\n",
       "        [0., 1., 1., 1., 0.],\n",
       "        [0., 0., 1., 0., 1.],\n",
       "        [0., 0., 0., 0., 0.],\n",
       "        [1., 1., 1., 0., 1.]], dtype=torch.float64)"
      ]
     },
     "execution_count": 15,
     "metadata": {},
     "output_type": "execute_result"
    }
   ],
   "source": [
    "generate_mask_V3((5, 5), 2)"
   ]
  },
  {
   "cell_type": "code",
   "execution_count": 73,
   "metadata": {},
   "outputs": [],
   "source": [
    "def generate_non_overlapping_masks(shape, n):\n",
    "    masks = []\n",
    "    prod = np.prod(shape)\n",
    "    n_mask = int(prod / n)\n",
    "    # set are much more efficient at removing\n",
    "    not_used = set(i for i in range(prod))\n",
    "\n",
    "    while len(masks) < n:\n",
    "        mask = np.ones(prod)\n",
    "        # choose from the aviable indices\n",
    "        idxs = np.random.choice(tuple(not_used), n_mask, replace=False)\n",
    "        # set to 0\n",
    "        mask[idxs] = 0\n",
    "        # mark as used\n",
    "        not_used = not_used.difference(idxs)\n",
    "        # reshape to the input shape\n",
    "        mask = torch.tensor(mask).reshape(shape)\n",
    "        masks.append(mask)\n",
    "    \n",
    "    masks = torch.stack(masks)\n",
    "    assert ((masks.size(0) - masks.sum(0)) <= 1).all(), \"Something wrong\"\n",
    "    return masks"
   ]
  },
  {
   "cell_type": "code",
   "execution_count": 76,
   "metadata": {},
   "outputs": [
    {
     "name": "stdout",
     "output_type": "stream",
     "text": [
      "218 µs ± 23.4 µs per loop (mean ± std. dev. of 7 runs, 1000 loops each)\n"
     ]
    }
   ],
   "source": [
    "%%timeit\n",
    "s = set(range(100))\n",
    "c = list(range(0, 100, 3))\n",
    "\n",
    "for _ in range(100):\n",
    "    a = s.difference(c)"
   ]
  },
  {
   "cell_type": "code",
   "execution_count": 81,
   "metadata": {},
   "outputs": [
    {
     "name": "stdout",
     "output_type": "stream",
     "text": [
      "526 µs ± 125 µs per loop (mean ± std. dev. of 7 runs, 1000 loops each)\n"
     ]
    }
   ],
   "source": [
    "%%timeit\n",
    "s = set(range(100))\n",
    "c = list(range(0, 100, 3))\n",
    "\n",
    "for _ in range(100):\n",
    "    s2 = s.copy()\n",
    "    for i in c:\n",
    "        s2.remove(i)"
   ]
  },
  {
   "cell_type": "code",
   "execution_count": 82,
   "metadata": {},
   "outputs": [
    {
     "name": "stdout",
     "output_type": "stream",
     "text": [
      "2.3 ms ± 175 µs per loop (mean ± std. dev. of 7 runs, 100 loops each)\n"
     ]
    }
   ],
   "source": [
    "%%timeit\n",
    "s = list(range(100))\n",
    "c = list(range(0, 100, 3))\n",
    "\n",
    "for _ in range(100):\n",
    "    s2 = s.copy()\n",
    "    for i in c:\n",
    "        s2.remove(i)"
   ]
  },
  {
   "cell_type": "code",
   "execution_count": 74,
   "metadata": {},
   "outputs": [],
   "source": [
    "masks = generate_non_overlapping_masks((1024, 416), 20)"
   ]
  },
  {
   "cell_type": "code",
   "execution_count": 67,
   "metadata": {},
   "outputs": [
    {
     "data": {
      "text/plain": [
       "torch.Size([20, 1024, 416])"
      ]
     },
     "execution_count": 67,
     "metadata": {},
     "output_type": "execute_result"
    }
   ],
   "source": [
    "masks.size()"
   ]
  },
  {
   "cell_type": "code",
   "execution_count": 83,
   "metadata": {},
   "outputs": [
    {
     "data": {
      "text/plain": [
       "torch.Size([13195, 460])"
      ]
     },
     "execution_count": 83,
     "metadata": {},
     "output_type": "execute_result"
    }
   ],
   "source": [
    "tensor.shape"
   ]
  },
  {
   "cell_type": "code",
   "execution_count": 87,
   "metadata": {},
   "outputs": [
    {
     "name": "stdout",
     "output_type": "stream",
     "text": [
      "torch.Size([24, 1024, 460])\n"
     ]
    }
   ],
   "source": [
    "res = tensor.unfold(0, 1024, 512).permute(0, 2, 1)\n",
    "print(res.shape)"
   ]
  },
  {
   "cell_type": "code",
   "execution_count": 111,
   "metadata": {},
   "outputs": [
    {
     "name": "stdout",
     "output_type": "stream",
     "text": [
      "CPU times: user 6 µs, sys: 1 µs, total: 7 µs\n",
      "Wall time: 11.4 µs\n",
      "0 3078\n"
     ]
    }
   ],
   "source": [
    "masks = generate_mask_V1(tensor.shape, 2000)\n",
    "# first_mask = masks[0]\n",
    "# print indices of holes\n",
    "# print(torch.logical_not(first_mask).nonzero())"
   ]
  },
  {
   "cell_type": "code",
   "execution_count": 115,
   "metadata": {},
   "outputs": [
    {
     "name": "stdout",
     "output_type": "stream",
     "text": [
      "CPU times: user 9 µs, sys: 0 ns, total: 9 µs\n",
      "Wall time: 15.7 µs\n",
      "tensor([1., 1., 1.,  ..., 1., 1., 1.])\n",
      "tensor([0., 0., 0.,  ..., 1., 1., 1.])\n",
      "tensor([[0., 0., 0.,  ..., 0., 0., 0.],\n",
      "        [0., 0., 0.,  ..., 0., 0., 0.],\n",
      "        [0., 0., 0.,  ..., 0., 0., 0.],\n",
      "        ...,\n",
      "        [1., 1., 1.,  ..., 1., 1., 1.],\n",
      "        [1., 1., 1.,  ..., 1., 1., 1.],\n",
      "        [1., 1., 1.,  ..., 1., 1., 1.]])\n",
      "3078\n",
      "True\n"
     ]
    }
   ],
   "source": [
    "mask = generate_mask_V2(tensor.shape, 2000)\n",
    "print(np.count_nonzero(mask == 0))\n",
    "print(np.count_nonzero(mask == 0) + np.count_nonzero(mask) == np.prod(mask.shape))\n",
    "# print indices of holes\n",
    "# print(torch.logical_not(mask).nonzero())"
   ]
  },
  {
   "cell_type": "code",
   "execution_count": 4,
   "metadata": {},
   "outputs": [
    {
     "data": {
      "text/plain": [
       "79"
      ]
     },
     "execution_count": 4,
     "metadata": {},
     "output_type": "execute_result"
    }
   ],
   "source": [
    "from deep_fib.data import unfolded_indexes\n",
    "\n",
    "idxs = unfolded_indexes(dataset, 1024, 512)\n",
    "for _, (s, e) in idxs:\n",
    "    assert e - s == 1024\n",
    "len(idxs)"
   ]
  },
  {
   "cell_type": "code",
   "execution_count": 5,
   "metadata": {},
   "outputs": [
    {
     "name": "stdout",
     "output_type": "stream",
     "text": [
      "(13195, 460)\n"
     ]
    },
    {
     "data": {
      "text/plain": [
       "[(0, (0, 1024)),\n",
       " (0, (512, 1536)),\n",
       " (0, (1024, 2048)),\n",
       " (0, (1536, 2560)),\n",
       " (0, (2048, 3072)),\n",
       " (0, (2560, 3584)),\n",
       " (0, (3072, 4096)),\n",
       " (0, (3584, 4608)),\n",
       " (0, (4096, 5120)),\n",
       " (0, (4608, 5632)),\n",
       " (0, (5120, 6144)),\n",
       " (0, (5632, 6656)),\n",
       " (0, (6144, 7168)),\n",
       " (0, (6656, 7680)),\n",
       " (0, (7168, 8192)),\n",
       " (0, (7680, 8704)),\n",
       " (0, (8192, 9216)),\n",
       " (0, (8704, 9728)),\n",
       " (0, (9216, 10240)),\n",
       " (0, (9728, 10752)),\n",
       " (0, (10240, 11264)),\n",
       " (0, (10752, 11776)),\n",
       " (0, (11264, 12288)),\n",
       " (0, (11776, 12800)),\n",
       " (0, (12170, 13194))]"
      ]
     },
     "execution_count": 5,
     "metadata": {},
     "output_type": "execute_result"
    }
   ],
   "source": [
    "idxs0 = list(filter(lambda d: d[0] == 0, idxs))\n",
    "print(dataset[0][0].shape)\n",
    "idxs0"
   ]
  },
  {
   "cell_type": "code",
   "execution_count": 30,
   "metadata": {},
   "outputs": [
    {
     "name": "stdout",
     "output_type": "stream",
     "text": [
      "32\n"
     ]
    }
   ],
   "source": [
    "masks = np.random.rand(20, 5, 5)\n",
    "\n",
    "random_sample = random.choices(masks, k = 32)\n",
    "print(len(random_sample))"
   ]
  },
  {
   "cell_type": "code",
   "execution_count": 41,
   "metadata": {},
   "outputs": [
    {
     "data": {
      "text/plain": [
       "32"
      ]
     },
     "execution_count": 41,
     "metadata": {},
     "output_type": "execute_result"
    }
   ],
   "source": [
    "inputs = [np.ones((5, 5)) for i in range(0, 32)]\n",
    "len(inputs)"
   ]
  },
  {
   "cell_type": "code",
   "execution_count": 42,
   "metadata": {},
   "outputs": [
    {
     "name": "stdout",
     "output_type": "stream",
     "text": [
      "[[1. 1. 1. 1. 1.]\n",
      " [1. 1. 1. 1. 1.]\n",
      " [1. 1. 1. 1. 1.]\n",
      " [1. 1. 1. 1. 1.]\n",
      " [1. 1. 1. 1. 1.]]\n"
     ]
    }
   ],
   "source": [
    "print(inputs[0])"
   ]
  },
  {
   "cell_type": "code",
   "execution_count": 43,
   "metadata": {},
   "outputs": [
    {
     "name": "stdout",
     "output_type": "stream",
     "text": [
      "(32, 5, 5)\n"
     ]
    }
   ],
   "source": [
    "inputs = np.array(inputs)\n",
    "print(inputs.shape)"
   ]
  },
  {
   "cell_type": "code",
   "execution_count": 44,
   "metadata": {},
   "outputs": [
    {
     "name": "stdout",
     "output_type": "stream",
     "text": [
      "32\n"
     ]
    }
   ],
   "source": [
    "print(len(inputs))"
   ]
  },
  {
   "cell_type": "code",
   "execution_count": 50,
   "metadata": {},
   "outputs": [
    {
     "name": "stdout",
     "output_type": "stream",
     "text": [
      "32\n",
      "[[ 1.  1.  1.  1. -1.]\n",
      " [-1.  1.  1. -1.  1.]\n",
      " [-1.  1. -1. -1. -1.]\n",
      " [-1.  1.  1.  1.  1.]\n",
      " [ 1. -1.  1.  1. -1.]]\n"
     ]
    }
   ],
   "source": [
    "MASK = -1\n",
    "masked_inputs = []\n",
    "for (mask, elem) in zip(random_sample, inputs):\n",
    "    masked_input = elem.copy()\n",
    "    masked_input[mask > 0.5] = MASK\n",
    "    masked_inputs.append(masked_input)\n",
    "    \n",
    "print(len(masked_inputs))\n",
    "print(masked_inputs[0])"
   ]
  },
  {
   "cell_type": "code",
   "execution_count": null,
   "metadata": {},
   "outputs": [],
   "source": []
  }
 ],
 "metadata": {
  "colab": {
   "name": "prova.ipynb",
   "provenance": []
  },
  "kernelspec": {
   "display_name": "Python 3.8.5 ('masterAI')",
   "language": "python",
   "name": "python3"
  },
  "language_info": {
   "codemirror_mode": {
    "name": "ipython",
    "version": 3
   },
   "file_extension": ".py",
   "mimetype": "text/x-python",
   "name": "python",
   "nbconvert_exporter": "python",
   "pygments_lexer": "ipython3",
   "version": "3.8.5"
  },
  "vscode": {
   "interpreter": {
    "hash": "ab81a77bbd99791b442b66d5911adf60087a90079f5aff673de360844339db9f"
   }
  }
 },
 "nbformat": 4,
 "nbformat_minor": 1
}
