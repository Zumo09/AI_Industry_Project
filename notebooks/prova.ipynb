{
 "cells": [
  {
   "cell_type": "code",
   "execution_count": 1,
   "metadata": {
    "id": "qgK8qcIXoByY"
   },
   "outputs": [],
   "source": [
    "%load_ext autoreload\n",
    "%autoreload 2"
   ]
  },
  {
   "cell_type": "code",
   "execution_count": 2,
   "metadata": {
    "id": "wrqsyKumoBye",
    "outputId": "dd4ad8a5-51a7-4708-be7e-164aeb4f9d36"
   },
   "outputs": [],
   "source": [
    "import utils.data as data\n",
    "\n",
    "train, test = data.get_train_test_split(0.01, 42)"
   ]
  },
  {
   "cell_type": "code",
   "execution_count": 3,
   "metadata": {
    "id": "IXiNLh-toByg",
    "outputId": "37b8656c-4732-4afd-965f-e321e08ae9c4"
   },
   "outputs": [
    {
     "name": "stderr",
     "output_type": "stream",
     "text": [
      "100%|██████████| 3/3 [00:04<00:00,  1.34s/it]\n"
     ]
    }
   ],
   "source": [
    "dataset = data.Marconi100Dataset(test)\n",
    "df, lab = dataset[0]"
   ]
  },
  {
   "cell_type": "code",
   "execution_count": 4,
   "metadata": {},
   "outputs": [
    {
     "data": {
      "text/plain": [
       "array([0, 1])"
      ]
     },
     "execution_count": 4,
     "metadata": {},
     "output_type": "execute_result"
    }
   ],
   "source": [
    "lab.unique()"
   ]
  },
  {
   "cell_type": "code",
   "execution_count": 5,
   "metadata": {},
   "outputs": [
    {
     "data": {
      "text/plain": [
       "(13195, 460)"
      ]
     },
     "execution_count": 5,
     "metadata": {},
     "output_type": "execute_result"
    }
   ],
   "source": [
    "df.shape"
   ]
  },
  {
   "cell_type": "code",
   "execution_count": 6,
   "metadata": {},
   "outputs": [
    {
     "name": "stdout",
     "output_type": "stream",
     "text": [
      "torch.Size([13195, 460])\n"
     ]
    }
   ],
   "source": [
    "import torch\n",
    "\n",
    "tensor = torch.ones(df.shape)\n",
    "print(tensor.shape)"
   ]
  },
  {
   "cell_type": "code",
   "execution_count": 10,
   "metadata": {},
   "outputs": [],
   "source": [
    "import numpy as np\n",
    "\n",
    "def generate_masks(M):\n",
    "    masks = []\n",
    "    for i in range(0, M):\n",
    "        x = tensor.clone().detach()\n",
    "\n",
    "        #get column indices for the features to mask\n",
    "        col_idxs = np.random.choice(range(0, df.shape[1]), 10, replace=False)\n",
    "        #get row indices for the samples to mask\n",
    "        row_idxs = np.random.choice(range(0, df.shape[0]), 10, replace=False)\n",
    "        if i == 0:\n",
    "            print(\"col_idxs: \", col_idxs)\n",
    "            print(\"row_idxs: \", row_idxs)\n",
    "            for i in row_idxs:\n",
    "                for j in col_idxs:\n",
    "                    x[i][j] = 0\n",
    "\n",
    "        mask = x > 0\n",
    "        masks.append(mask)\n",
    "    return masks\n",
    "\n",
    "def generate_mask_V1(shape, n):\n",
    "    \n",
    "    # inefficiente\n",
    "    n_mask = int(np.prod(shape) / n)\n",
    "    \n",
    "    mask = torch.ones(shape)\n",
    "    print(np.count_nonzero(mask == 0), n_mask)\n",
    "    \n",
    "    while np.count_nonzero(mask == 0) < n_mask:\n",
    "        \n",
    "        # get column index for the element to mask\n",
    "        col_idx = np.random.choice(range(shape[1]), replace=False)\n",
    "        # get row index for the element to mask\n",
    "        row_idx = np.random.choice(range(shape[0]), replace=False)\n",
    "        mask[row_idx, col_idx] = 0\n",
    "        \n",
    "    return mask\n",
    "\n",
    "def generate_mask_V2(shape, n):\n",
    "    \n",
    "    # molto più efficiente\n",
    "    \n",
    "    mask = torch.ones(np.prod(shape))\n",
    "    \n",
    "    n_mask = int(np.prod(shape) / n)\n",
    "    \n",
    "    # make sure as many as n_mask samples are masked\n",
    "    mask[:n_mask] = 0\n",
    "    \n",
    "    mask = torch.reshape(mask, shape)\n",
    "    \n",
    "    # permute rows\n",
    "    mask = np.random.permutation(mask)\n",
    "    \n",
    "    # permute columns\n",
    "    mask = mask[:, np.random.permutation(mask.shape[1])]\n",
    "    \n",
    "    return mask\n",
    "\n",
    "def generate_mask_V3(shape, n):\n",
    "    \n",
    "    # un po' più efficiente\n",
    "    mask = np.ones(np.prod(shape))\n",
    "    n_mask = int(np.prod(shape) / n)\n",
    "    # make sure as many as n_mask samples are masked\n",
    "    mask[:n_mask] = 0\n",
    "\n",
    "    # permute elements\n",
    "    mask = np.random.permutation(mask)\n",
    "\n",
    "    # reshape to the input shape\n",
    "    mask = torch.tensor(mask).reshape(shape)\n",
    "    \n",
    "    return mask"
   ]
  },
  {
   "cell_type": "code",
   "execution_count": 15,
   "metadata": {},
   "outputs": [
    {
     "data": {
      "text/plain": [
       "tensor([[1., 1., 1., 1., 0.],\n",
       "        [0., 1., 1., 1., 0.],\n",
       "        [0., 0., 1., 0., 1.],\n",
       "        [0., 0., 0., 0., 0.],\n",
       "        [1., 1., 1., 0., 1.]], dtype=torch.float64)"
      ]
     },
     "execution_count": 15,
     "metadata": {},
     "output_type": "execute_result"
    }
   ],
   "source": [
    "generate_mask_V3((5, 5), 2)"
   ]
  },
  {
   "cell_type": "code",
   "execution_count": null,
   "metadata": {},
   "outputs": [],
   "source": [
    "def generate_non_overlapping_masks(shape, n):\n",
    "    mask = np.ones(np.prod(shape))\n",
    "    n_mask = int(np.prod(shape) / n)\n",
    "    # make sure as many as n_mask samples are masked\n",
    "    mask[:n_mask] = 0\n",
    "\n",
    "    # permute elements\n",
    "    mask = np.random.permutation(mask)\n",
    "\n",
    "    # reshape to the input shape\n",
    "    mask = torch.tensor(mask).reshape(shape)\n",
    "    \n",
    "    return mask"
   ]
  },
  {
   "cell_type": "code",
   "execution_count": 8,
   "metadata": {},
   "outputs": [
    {
     "name": "stdout",
     "output_type": "stream",
     "text": [
      "torch.Size([24, 460, 1024])\n"
     ]
    }
   ],
   "source": [
    "res = tensor.unfold(0, 1024, 512)\n",
    "print(res.shape)"
   ]
  },
  {
   "cell_type": "code",
   "execution_count": 111,
   "metadata": {},
   "outputs": [
    {
     "name": "stdout",
     "output_type": "stream",
     "text": [
      "CPU times: user 6 µs, sys: 1 µs, total: 7 µs\n",
      "Wall time: 11.4 µs\n",
      "0 3078\n"
     ]
    }
   ],
   "source": [
    "masks = generate_mask_V1(tensor.shape, 2000)\n",
    "# first_mask = masks[0]\n",
    "# print indices of holes\n",
    "# print(torch.logical_not(first_mask).nonzero())"
   ]
  },
  {
   "cell_type": "code",
   "execution_count": 115,
   "metadata": {},
   "outputs": [
    {
     "name": "stdout",
     "output_type": "stream",
     "text": [
      "CPU times: user 9 µs, sys: 0 ns, total: 9 µs\n",
      "Wall time: 15.7 µs\n",
      "tensor([1., 1., 1.,  ..., 1., 1., 1.])\n",
      "tensor([0., 0., 0.,  ..., 1., 1., 1.])\n",
      "tensor([[0., 0., 0.,  ..., 0., 0., 0.],\n",
      "        [0., 0., 0.,  ..., 0., 0., 0.],\n",
      "        [0., 0., 0.,  ..., 0., 0., 0.],\n",
      "        ...,\n",
      "        [1., 1., 1.,  ..., 1., 1., 1.],\n",
      "        [1., 1., 1.,  ..., 1., 1., 1.],\n",
      "        [1., 1., 1.,  ..., 1., 1., 1.]])\n",
      "3078\n",
      "True\n"
     ]
    }
   ],
   "source": [
    "mask = generate_mask_V2(tensor.shape, 2000)\n",
    "print(np.count_nonzero(mask == 0))\n",
    "print(np.count_nonzero(mask == 0) + np.count_nonzero(mask) == np.prod(mask.shape))\n",
    "# print indices of holes\n",
    "# print(torch.logical_not(mask).nonzero())"
   ]
  },
  {
   "cell_type": "code",
   "execution_count": 2,
   "metadata": {},
   "outputs": [
    {
     "ename": "ModuleNotFoundError",
     "evalue": "No module named 'scikitimage'",
     "output_type": "error",
     "traceback": [
      "\u001b[0;31m---------------------------------------------------------------------------\u001b[0m",
      "\u001b[0;31mModuleNotFoundError\u001b[0m                       Traceback (most recent call last)",
      "\u001b[0;32m/tmp/ipykernel_7140/2215909006.py\u001b[0m in \u001b[0;36m<module>\u001b[0;34m\u001b[0m\n\u001b[0;32m----> 1\u001b[0;31m \u001b[0;32mfrom\u001b[0m \u001b[0mscikitimage\u001b[0m\u001b[0;34m.\u001b[0m\u001b[0mutil\u001b[0m\u001b[0;34m.\u001b[0m\u001b[0mshape\u001b[0m \u001b[0;32mimport\u001b[0m \u001b[0mview_as_windows\u001b[0m\u001b[0;34m\u001b[0m\u001b[0;34m\u001b[0m\u001b[0m\n\u001b[0m",
      "\u001b[0;31mModuleNotFoundError\u001b[0m: No module named 'scikitimage'"
     ]
    }
   ],
   "source": [
    "from scikitimage.util.shape import view_as_windows"
   ]
  },
  {
   "cell_type": "code",
   "execution_count": 26,
   "metadata": {},
   "outputs": [
    {
     "name": "stdout",
     "output_type": "stream",
     "text": [
      "(5,)\n",
      "[19 15 16  8 24]\n"
     ]
    }
   ],
   "source": [
    "arr = np.ones((25, 25))\n",
    "sample = np.random.choice(len(arr), 5)\n",
    "print(sample.shape)\n",
    "print(sample)"
   ]
  },
  {
   "cell_type": "code",
   "execution_count": 15,
   "metadata": {},
   "outputs": [
    {
     "ename": "AttributeError",
     "evalue": "module 'deep_fib.data' has no attribute 'PointMaskDataset'",
     "output_type": "error",
     "traceback": [
      "\u001b[0;31m---------------------------------------------------------------------------\u001b[0m",
      "\u001b[0;31mAttributeError\u001b[0m                            Traceback (most recent call last)",
      "\u001b[0;32m/tmp/ipykernel_3871/4103616910.py\u001b[0m in \u001b[0;36m<module>\u001b[0;34m\u001b[0m\n\u001b[1;32m      2\u001b[0m \u001b[0;32mimport\u001b[0m \u001b[0mnumpy\u001b[0m \u001b[0;32mas\u001b[0m \u001b[0mnp\u001b[0m\u001b[0;34m\u001b[0m\u001b[0;34m\u001b[0m\u001b[0m\n\u001b[1;32m      3\u001b[0m \u001b[0;34m\u001b[0m\u001b[0m\n\u001b[0;32m----> 4\u001b[0;31m \u001b[0mdataset\u001b[0m \u001b[0;34m=\u001b[0m \u001b[0mdata_dfib\u001b[0m\u001b[0;34m.\u001b[0m\u001b[0mPointMaskDataset\u001b[0m\u001b[0;34m(\u001b[0m\u001b[0mtest\u001b[0m\u001b[0;34m,\u001b[0m \u001b[0;36m10\u001b[0m\u001b[0;34m)\u001b[0m\u001b[0;34m\u001b[0m\u001b[0;34m\u001b[0m\u001b[0m\n\u001b[0m\u001b[1;32m      5\u001b[0m \u001b[0;34m\u001b[0m\u001b[0m\n\u001b[1;32m      6\u001b[0m \u001b[0mdf\u001b[0m\u001b[0;34m,\u001b[0m \u001b[0mmask\u001b[0m\u001b[0;34m,\u001b[0m \u001b[0mlab\u001b[0m \u001b[0;34m=\u001b[0m \u001b[0mdataset\u001b[0m\u001b[0;34m[\u001b[0m\u001b[0;36m0\u001b[0m\u001b[0;34m]\u001b[0m\u001b[0;34m\u001b[0m\u001b[0;34m\u001b[0m\u001b[0m\n",
      "\u001b[0;31mAttributeError\u001b[0m: module 'deep_fib.data' has no attribute 'PointMaskDataset'"
     ]
    }
   ],
   "source": [
    "import deep_fib.data as data_dfib\n",
    "import numpy as np\n",
    "\n",
    "dataset = data_dfib.PointMaskDataset(test, 10)\n",
    "\n",
    "df, mask, lab = dataset[0]"
   ]
  },
  {
   "cell_type": "code",
   "execution_count": 15,
   "metadata": {},
   "outputs": [
    {
     "data": {
      "text/plain": [
       "606970"
      ]
     },
     "execution_count": 15,
     "metadata": {},
     "output_type": "execute_result"
    }
   ],
   "source": [
    "int(np.prod(df.shape) / dataset.n)"
   ]
  },
  {
   "cell_type": "code",
   "execution_count": 16,
   "metadata": {},
   "outputs": [
    {
     "data": {
      "text/plain": [
       "tensor(577489)"
      ]
     },
     "execution_count": 16,
     "metadata": {},
     "output_type": "execute_result"
    }
   ],
   "source": [
    "(mask == -1).sum()"
   ]
  },
  {
   "cell_type": "code",
   "execution_count": 17,
   "metadata": {},
   "outputs": [
    {
     "data": {
      "text/plain": [
       "tensor(5492211)"
      ]
     },
     "execution_count": 17,
     "metadata": {},
     "output_type": "execute_result"
    }
   ],
   "source": [
    "(mask != -1).sum()"
   ]
  },
  {
   "cell_type": "code",
   "execution_count": null,
   "metadata": {},
   "outputs": [],
   "source": []
  }
 ],
 "metadata": {
  "colab": {
   "name": "prova.ipynb",
   "provenance": []
  },
  "interpreter": {
   "hash": "ab81a77bbd99791b442b66d5911adf60087a90079f5aff673de360844339db9f"
  },
  "kernelspec": {
   "display_name": "Python 3 (ipykernel)",
   "language": "python",
   "name": "python3"
  },
  "language_info": {
   "codemirror_mode": {
    "name": "ipython",
    "version": 3
   },
   "file_extension": ".py",
   "mimetype": "text/x-python",
   "name": "python",
   "nbconvert_exporter": "python",
   "pygments_lexer": "ipython3",
   "version": "3.8.5"
  }
 },
 "nbformat": 4,
 "nbformat_minor": 1
}
