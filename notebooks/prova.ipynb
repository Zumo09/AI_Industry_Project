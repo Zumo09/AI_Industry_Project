{
 "cells": [
  {
   "cell_type": "code",
   "execution_count": 1,
   "metadata": {
    "id": "qgK8qcIXoByY"
   },
   "outputs": [],
   "source": [
    "%load_ext autoreload\n",
    "%autoreload 2"
   ]
  },
  {
   "cell_type": "code",
   "execution_count": 2,
   "metadata": {
    "id": "wrqsyKumoBye",
    "outputId": "dd4ad8a5-51a7-4708-be7e-164aeb4f9d36"
   },
   "outputs": [],
   "source": [
    "import utils.data as data\n",
    "\n",
    "train, test = data.get_train_test_split(0.01, 42)"
   ]
  },
  {
   "cell_type": "code",
   "execution_count": 3,
   "metadata": {
    "id": "IXiNLh-toByg",
    "outputId": "37b8656c-4732-4afd-965f-e321e08ae9c4"
   },
   "outputs": [
    {
     "name": "stderr",
     "output_type": "stream",
     "text": [
      "Loading: 100%|██████████| 3/3 [00:03<00:00,  1.11s/it]\n"
     ]
    }
   ],
   "source": [
    "dataset = data.Marconi100Dataset(test)\n",
    "df, lab = dataset[0]"
   ]
  },
  {
   "cell_type": "code",
   "execution_count": 4,
   "metadata": {},
   "outputs": [
    {
     "data": {
      "text/plain": [
       "array([0, 1])"
      ]
     },
     "execution_count": 4,
     "metadata": {},
     "output_type": "execute_result"
    }
   ],
   "source": [
    "lab.unique()"
   ]
  },
  {
   "cell_type": "code",
   "execution_count": 5,
   "metadata": {},
   "outputs": [
    {
     "data": {
      "text/plain": [
       "(13195, 460)"
      ]
     },
     "execution_count": 5,
     "metadata": {},
     "output_type": "execute_result"
    }
   ],
   "source": [
    "df.shape"
   ]
  },
  {
   "cell_type": "code",
   "execution_count": 6,
   "metadata": {},
   "outputs": [
    {
     "name": "stdout",
     "output_type": "stream",
     "text": [
      "torch.Size([13195, 460])\n"
     ]
    }
   ],
   "source": [
    "import torch\n",
    "\n",
    "tensor = torch.ones(df.shape)\n",
    "print(tensor.shape)"
   ]
  },
  {
   "cell_type": "code",
   "execution_count": 7,
   "metadata": {},
   "outputs": [],
   "source": [
    "import numpy as np\n",
    "\n",
    "def generate_masks(M):\n",
    "    masks = []\n",
    "    for i in range(0, M):\n",
    "        x = tensor.clone().detach()\n",
    "\n",
    "        #get column indices for the features to mask\n",
    "        col_idxs = np.random.choice(range(0, df.shape[1]), 10, replace=False)\n",
    "        #get row indices for the samples to mask\n",
    "        row_idxs = np.random.choice(range(0, df.shape[0]), 10, replace=False)\n",
    "        if i == 0:\n",
    "            print(\"col_idxs: \", col_idxs)\n",
    "            print(\"row_idxs: \", row_idxs)\n",
    "            for i in row_idxs:\n",
    "                for j in col_idxs:\n",
    "                    x[i][j] = 0\n",
    "\n",
    "        mask = x > 0\n",
    "        masks.append(mask)\n",
    "    return masks\n",
    "\n",
    "def generate_mask_V1(shape, n):\n",
    "    \n",
    "    # inefficiente\n",
    "    n_mask = int(np.prod(shape) / n)\n",
    "    \n",
    "    mask = torch.ones(shape)\n",
    "    print(np.count_nonzero(mask == 0), n_mask)\n",
    "    \n",
    "    while np.count_nonzero(mask == 0) < n_mask:\n",
    "        \n",
    "        # get column index for the element to mask\n",
    "        col_idx = np.random.choice(range(shape[1]), replace=False)\n",
    "        # get row index for the element to mask\n",
    "        row_idx = np.random.choice(range(shape[0]), replace=False)\n",
    "        mask[row_idx, col_idx] = 0\n",
    "        \n",
    "    return mask\n",
    "\n",
    "def generate_mask_V2(shape, n):\n",
    "    \n",
    "    # molto più efficiente\n",
    "    \n",
    "    mask = torch.ones(np.prod(shape))\n",
    "    \n",
    "    n_mask = int(np.prod(shape) / n)\n",
    "    \n",
    "    # make sure as many as n_mask samples are masked\n",
    "    mask[:n_mask] = 0\n",
    "    \n",
    "    mask = torch.reshape(mask, shape)\n",
    "    \n",
    "    # permute rows\n",
    "    mask = np.random.permutation(mask)\n",
    "    \n",
    "    # permute columns\n",
    "    mask = mask[:, np.random.permutation(mask.shape[1])]\n",
    "    \n",
    "    return mask\n",
    "\n",
    "def generate_mask_V3(shape, n):\n",
    "    \n",
    "    # un po' più efficiente\n",
    "    mask = np.ones(np.prod(shape))\n",
    "    n_mask = int(np.prod(shape) / n)\n",
    "    # make sure as many as n_mask samples are masked\n",
    "    mask[:n_mask] = 0\n",
    "\n",
    "    # permute elements\n",
    "    mask = np.random.permutation(mask)\n",
    "\n",
    "    # reshape to the input shape\n",
    "    mask = torch.tensor(mask).reshape(shape)\n",
    "    \n",
    "    return mask"
   ]
  },
  {
   "cell_type": "code",
   "execution_count": 15,
   "metadata": {},
   "outputs": [
    {
     "data": {
      "text/plain": [
       "tensor([[1., 1., 1., 1., 0.],\n",
       "        [0., 1., 1., 1., 0.],\n",
       "        [0., 0., 1., 0., 1.],\n",
       "        [0., 0., 0., 0., 0.],\n",
       "        [1., 1., 1., 0., 1.]], dtype=torch.float64)"
      ]
     },
     "execution_count": 15,
     "metadata": {},
     "output_type": "execute_result"
    }
   ],
   "source": [
    "generate_mask_V3((5, 5), 2)"
   ]
  },
  {
   "cell_type": "code",
   "execution_count": 73,
   "metadata": {},
   "outputs": [],
   "source": [
    "def generate_non_overlapping_masks(shape, n):\n",
    "    masks = []\n",
    "    prod = np.prod(shape)\n",
    "    n_mask = int(prod / n)\n",
    "    # set are much more efficient at removing\n",
    "    not_used = set(i for i in range(prod))\n",
    "\n",
    "    while len(masks) < n:\n",
    "        mask = np.ones(prod)\n",
    "        # choose from the aviable indices\n",
    "        idxs = np.random.choice(tuple(not_used), n_mask, replace=False)\n",
    "        # set to 0\n",
    "        mask[idxs] = 0\n",
    "        # mark as used\n",
    "        not_used = not_used.difference(idxs)\n",
    "        # reshape to the input shape\n",
    "        mask = torch.tensor(mask).reshape(shape)\n",
    "        masks.append(mask)\n",
    "    \n",
    "    masks = torch.stack(masks)\n",
    "    assert ((masks.size(0) - masks.sum(0)) <= 1).all(), \"Something wrong\"\n",
    "    return masks"
   ]
  },
  {
   "cell_type": "code",
   "execution_count": 76,
   "metadata": {},
   "outputs": [
    {
     "name": "stdout",
     "output_type": "stream",
     "text": [
      "218 µs ± 23.4 µs per loop (mean ± std. dev. of 7 runs, 1000 loops each)\n"
     ]
    }
   ],
   "source": [
    "%%timeit\n",
    "s = set(range(100))\n",
    "c = list(range(0, 100, 3))\n",
    "\n",
    "for _ in range(100):\n",
    "    a = s.difference(c)"
   ]
  },
  {
   "cell_type": "code",
   "execution_count": 81,
   "metadata": {},
   "outputs": [
    {
     "name": "stdout",
     "output_type": "stream",
     "text": [
      "526 µs ± 125 µs per loop (mean ± std. dev. of 7 runs, 1000 loops each)\n"
     ]
    }
   ],
   "source": [
    "%%timeit\n",
    "s = set(range(100))\n",
    "c = list(range(0, 100, 3))\n",
    "\n",
    "for _ in range(100):\n",
    "    s2 = s.copy()\n",
    "    for i in c:\n",
    "        s2.remove(i)"
   ]
  },
  {
   "cell_type": "code",
   "execution_count": 82,
   "metadata": {},
   "outputs": [
    {
     "name": "stdout",
     "output_type": "stream",
     "text": [
      "2.3 ms ± 175 µs per loop (mean ± std. dev. of 7 runs, 100 loops each)\n"
     ]
    }
   ],
   "source": [
    "%%timeit\n",
    "s = list(range(100))\n",
    "c = list(range(0, 100, 3))\n",
    "\n",
    "for _ in range(100):\n",
    "    s2 = s.copy()\n",
    "    for i in c:\n",
    "        s2.remove(i)"
   ]
  },
  {
   "cell_type": "code",
   "execution_count": 74,
   "metadata": {},
   "outputs": [],
   "source": [
    "masks = generate_non_overlapping_masks((1024, 416), 20)"
   ]
  },
  {
   "cell_type": "code",
   "execution_count": 67,
   "metadata": {},
   "outputs": [
    {
     "data": {
      "text/plain": [
       "torch.Size([20, 1024, 416])"
      ]
     },
     "execution_count": 67,
     "metadata": {},
     "output_type": "execute_result"
    }
   ],
   "source": [
    "masks.size()"
   ]
  },
  {
   "cell_type": "code",
   "execution_count": 83,
   "metadata": {},
   "outputs": [
    {
     "data": {
      "text/plain": [
       "torch.Size([13195, 460])"
      ]
     },
     "execution_count": 83,
     "metadata": {},
     "output_type": "execute_result"
    }
   ],
   "source": [
    "tensor.shape"
   ]
  },
  {
   "cell_type": "code",
   "execution_count": 87,
   "metadata": {},
   "outputs": [
    {
     "name": "stdout",
     "output_type": "stream",
     "text": [
      "torch.Size([24, 1024, 460])\n"
     ]
    }
   ],
   "source": [
    "res = tensor.unfold(0, 1024, 512).permute(0, 2, 1)\n",
    "print(res.shape)"
   ]
  },
  {
   "cell_type": "code",
   "execution_count": 111,
   "metadata": {},
   "outputs": [
    {
     "name": "stdout",
     "output_type": "stream",
     "text": [
      "CPU times: user 6 µs, sys: 1 µs, total: 7 µs\n",
      "Wall time: 11.4 µs\n",
      "0 3078\n"
     ]
    }
   ],
   "source": [
    "masks = generate_mask_V1(tensor.shape, 2000)\n",
    "# first_mask = masks[0]\n",
    "# print indices of holes\n",
    "# print(torch.logical_not(first_mask).nonzero())"
   ]
  },
  {
   "cell_type": "code",
   "execution_count": 115,
   "metadata": {},
   "outputs": [
    {
     "name": "stdout",
     "output_type": "stream",
     "text": [
      "CPU times: user 9 µs, sys: 0 ns, total: 9 µs\n",
      "Wall time: 15.7 µs\n",
      "tensor([1., 1., 1.,  ..., 1., 1., 1.])\n",
      "tensor([0., 0., 0.,  ..., 1., 1., 1.])\n",
      "tensor([[0., 0., 0.,  ..., 0., 0., 0.],\n",
      "        [0., 0., 0.,  ..., 0., 0., 0.],\n",
      "        [0., 0., 0.,  ..., 0., 0., 0.],\n",
      "        ...,\n",
      "        [1., 1., 1.,  ..., 1., 1., 1.],\n",
      "        [1., 1., 1.,  ..., 1., 1., 1.],\n",
      "        [1., 1., 1.,  ..., 1., 1., 1.]])\n",
      "3078\n",
      "True\n"
     ]
    }
   ],
   "source": [
    "mask = generate_mask_V2(tensor.shape, 2000)\n",
    "print(np.count_nonzero(mask == 0))\n",
    "print(np.count_nonzero(mask == 0) + np.count_nonzero(mask) == np.prod(mask.shape))\n",
    "# print indices of holes\n",
    "# print(torch.logical_not(mask).nonzero())"
   ]
  },
  {
   "cell_type": "code",
   "execution_count": 4,
   "metadata": {},
   "outputs": [
    {
     "data": {
      "text/plain": [
       "79"
      ]
     },
     "execution_count": 4,
     "metadata": {},
     "output_type": "execute_result"
    }
   ],
   "source": [
    "from deep_fib.data import unfolded_indexes\n",
    "\n",
    "idxs = unfolded_indexes(dataset, 1024, 512)\n",
    "for _, (s, e) in idxs:\n",
    "    assert e - s == 1024\n",
    "len(idxs)"
   ]
  },
  {
   "cell_type": "code",
   "execution_count": 5,
   "metadata": {},
   "outputs": [
    {
     "name": "stdout",
     "output_type": "stream",
     "text": [
      "(13195, 460)\n"
     ]
    },
    {
     "data": {
      "text/plain": [
       "[(0, (0, 1024)),\n",
       " (0, (512, 1536)),\n",
       " (0, (1024, 2048)),\n",
       " (0, (1536, 2560)),\n",
       " (0, (2048, 3072)),\n",
       " (0, (2560, 3584)),\n",
       " (0, (3072, 4096)),\n",
       " (0, (3584, 4608)),\n",
       " (0, (4096, 5120)),\n",
       " (0, (4608, 5632)),\n",
       " (0, (5120, 6144)),\n",
       " (0, (5632, 6656)),\n",
       " (0, (6144, 7168)),\n",
       " (0, (6656, 7680)),\n",
       " (0, (7168, 8192)),\n",
       " (0, (7680, 8704)),\n",
       " (0, (8192, 9216)),\n",
       " (0, (8704, 9728)),\n",
       " (0, (9216, 10240)),\n",
       " (0, (9728, 10752)),\n",
       " (0, (10240, 11264)),\n",
       " (0, (10752, 11776)),\n",
       " (0, (11264, 12288)),\n",
       " (0, (11776, 12800)),\n",
       " (0, (12170, 13194))]"
      ]
     },
     "execution_count": 5,
     "metadata": {},
     "output_type": "execute_result"
    }
   ],
   "source": [
    "idxs0 = list(filter(lambda d: d[0] == 0, idxs))\n",
    "print(dataset[0][0].shape)\n",
    "idxs0"
   ]
  },
  {
   "cell_type": "code",
   "execution_count": 5,
   "metadata": {},
   "outputs": [
    {
     "name": "stdout",
     "output_type": "stream",
     "text": [
      "[7, 6, 12, 6, 12, 17, 12, 0, 4, 3, 4, 10, 16, 16, 0, 7, 2, 11, 4, 0, 10, 7, 0, 12, 14, 7, 4, 18, 16, 13, 14, 13]\n"
     ]
    }
   ],
   "source": [
    "import random\n",
    "\n",
    "masks = range(0, 19)\n",
    "\n",
    "random_sample = random.choices(masks, k = 32)\n",
    "print(random_sample)"
   ]
  },
  {
   "cell_type": "code",
   "execution_count": 15,
   "metadata": {},
   "outputs": [
    {
     "data": {
      "text/plain": [
       "32"
      ]
     },
     "execution_count": 15,
     "metadata": {},
     "output_type": "execute_result"
    }
   ],
   "source": [
    "inputs = [np.ones((5, 5)) for i in range(0, 32)]\n",
    "len(inputs)"
   ]
  },
  {
   "cell_type": "code",
   "execution_count": 16,
   "metadata": {},
   "outputs": [
    {
     "name": "stdout",
     "output_type": "stream",
     "text": [
      "[[1. 1. 1. 1. 1.]\n",
      " [1. 1. 1. 1. 1.]\n",
      " [1. 1. 1. 1. 1.]\n",
      " [1. 1. 1. 1. 1.]\n",
      " [1. 1. 1. 1. 1.]]\n"
     ]
    }
   ],
   "source": [
    "print(inputs[0])"
   ]
  },
  {
   "cell_type": "code",
   "execution_count": 18,
   "metadata": {},
   "outputs": [
    {
     "name": "stdout",
     "output_type": "stream",
     "text": [
      "(32, 5, 5)\n"
     ]
    }
   ],
   "source": [
    "inputs = np.array(inputs)\n",
    "print(inputs.shape)"
   ]
  },
  {
   "cell_type": "code",
   "execution_count": 19,
   "metadata": {},
   "outputs": [
    {
     "name": "stdout",
     "output_type": "stream",
     "text": [
      "32\n"
     ]
    }
   ],
   "source": [
    "print(len(inputs))"
   ]
  },
  {
   "cell_type": "code",
   "execution_count": 20,
   "metadata": {},
   "outputs": [
    {
     "name": "stdout",
     "output_type": "stream",
     "text": [
      "apply mask:  7\n",
      "apply mask:  6\n",
      "apply mask:  12\n",
      "apply mask:  6\n",
      "apply mask:  12\n",
      "apply mask:  17\n",
      "apply mask:  12\n",
      "apply mask:  0\n",
      "apply mask:  4\n",
      "apply mask:  3\n",
      "apply mask:  4\n",
      "apply mask:  10\n",
      "apply mask:  16\n",
      "apply mask:  16\n",
      "apply mask:  0\n",
      "apply mask:  7\n",
      "apply mask:  2\n",
      "apply mask:  11\n",
      "apply mask:  4\n",
      "apply mask:  0\n",
      "apply mask:  10\n",
      "apply mask:  7\n",
      "apply mask:  0\n",
      "apply mask:  12\n",
      "apply mask:  14\n",
      "apply mask:  7\n",
      "apply mask:  4\n",
      "apply mask:  18\n",
      "apply mask:  16\n",
      "apply mask:  13\n",
      "apply mask:  14\n",
      "apply mask:  13\n",
      "32\n"
     ]
    }
   ],
   "source": [
    "count = 0\n",
    "for (mask, elem) in zip(random_sample, inputs):\n",
    "    print(\"apply mask: \", mask)\n",
    "    count += 1\n",
    "print(count)"
   ]
  },
  {
   "cell_type": "code",
   "execution_count": null,
   "metadata": {},
   "outputs": [],
   "source": []
  }
 ],
 "metadata": {
  "colab": {
   "name": "prova.ipynb",
   "provenance": []
  },
  "interpreter": {
   "hash": "ab81a77bbd99791b442b66d5911adf60087a90079f5aff673de360844339db9f"
  },
  "kernelspec": {
   "display_name": "Python 3 (ipykernel)",
   "language": "python",
   "name": "python3"
  },
  "language_info": {
   "codemirror_mode": {
    "name": "ipython",
    "version": 3
   },
   "file_extension": ".py",
   "mimetype": "text/x-python",
   "name": "python",
   "nbconvert_exporter": "python",
   "pygments_lexer": "ipython3",
   "version": "3.8.10"
  }
 },
 "nbformat": 4,
 "nbformat_minor": 1
}
