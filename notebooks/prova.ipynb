{
 "cells": [
  {
   "cell_type": "code",
   "execution_count": 1,
   "metadata": {
    "id": "qgK8qcIXoByY"
   },
   "outputs": [],
   "source": [
    "%load_ext autoreload\n",
    "%autoreload 2"
   ]
  },
  {
   "cell_type": "code",
   "execution_count": 2,
   "metadata": {
    "id": "wrqsyKumoBye",
    "outputId": "dd4ad8a5-51a7-4708-be7e-164aeb4f9d36"
   },
   "outputs": [],
   "source": [
    "import utils.data as data\n",
    "\n",
    "train, test = data.get_train_test_split(0.01, 42)"
   ]
  },
  {
   "cell_type": "code",
   "execution_count": 3,
   "metadata": {
    "id": "IXiNLh-toByg",
    "outputId": "37b8656c-4732-4afd-965f-e321e08ae9c4"
   },
   "outputs": [
    {
     "name": "stderr",
     "output_type": "stream",
     "text": [
      "100%|██████████| 3/3 [00:00<00:00,  5.90it/s]\n"
     ]
    }
   ],
   "source": [
    "dataset = data.Marconi100Dataset(test)\n",
    "df, lab = dataset[0]"
   ]
  },
  {
   "cell_type": "code",
   "execution_count": 4,
   "metadata": {},
   "outputs": [
    {
     "data": {
      "text/plain": [
       "array([0, 1])"
      ]
     },
     "execution_count": 4,
     "metadata": {},
     "output_type": "execute_result"
    }
   ],
   "source": [
    "lab.unique()"
   ]
  },
  {
   "cell_type": "code",
   "execution_count": 5,
   "metadata": {},
   "outputs": [
    {
     "data": {
      "text/plain": [
       "(13195, 460)"
      ]
     },
     "execution_count": 5,
     "metadata": {},
     "output_type": "execute_result"
    }
   ],
   "source": [
    "df.shape"
   ]
  },
  {
   "cell_type": "code",
   "execution_count": 6,
   "metadata": {},
   "outputs": [
    {
     "name": "stdout",
     "output_type": "stream",
     "text": [
      "torch.Size([13195, 460])\n"
     ]
    }
   ],
   "source": [
    "import torch\n",
    "\n",
    "tensor = torch.ones(df.shape)\n",
    "print(tensor.shape)"
   ]
  },
  {
   "cell_type": "code",
   "execution_count": 7,
   "metadata": {},
   "outputs": [],
   "source": [
    "import random\n",
    "\n",
    "def generate_masks(M):\n",
    "    masks = []\n",
    "    for i in range(0, M):\n",
    "        x = tensor.clone().detach()\n",
    "\n",
    "        #get column indices for the features to mask\n",
    "        col_idxs = random.sample(range(0, df.shape[1]), 10)\n",
    "        #get row indices for the samples to mask\n",
    "        row_idxs = random.sample(range(0, df.shape[0]), 10)\n",
    "        if i == 0:\n",
    "            print(\"col_idxs: \", col_idxs)\n",
    "            print(\"row_idxs: \", row_idxs)\n",
    "            for i in row_idxs:\n",
    "                for j in col_idxs:\n",
    "                    x[i][j] = 0\n",
    "\n",
    "        mask = x > 0\n",
    "        masks.append(mask)\n",
    "    return masks"
   ]
  },
  {
   "cell_type": "code",
   "execution_count": 8,
   "metadata": {},
   "outputs": [
    {
     "name": "stdout",
     "output_type": "stream",
     "text": [
      "col_idxs:  [134, 211, 366, 95, 411, 405, 63, 450, 181, 215]\n",
      "row_idxs:  [7214, 1519, 8389, 3732, 3652, 1083, 9974, 9935, 11219, 8572]\n",
      "tensor([[ 1083,    63],\n",
      "        [ 1083,    95],\n",
      "        [ 1083,   134],\n",
      "        [ 1083,   181],\n",
      "        [ 1083,   211],\n",
      "        [ 1083,   215],\n",
      "        [ 1083,   366],\n",
      "        [ 1083,   405],\n",
      "        [ 1083,   411],\n",
      "        [ 1083,   450],\n",
      "        [ 1519,    63],\n",
      "        [ 1519,    95],\n",
      "        [ 1519,   134],\n",
      "        [ 1519,   181],\n",
      "        [ 1519,   211],\n",
      "        [ 1519,   215],\n",
      "        [ 1519,   366],\n",
      "        [ 1519,   405],\n",
      "        [ 1519,   411],\n",
      "        [ 1519,   450],\n",
      "        [ 3652,    63],\n",
      "        [ 3652,    95],\n",
      "        [ 3652,   134],\n",
      "        [ 3652,   181],\n",
      "        [ 3652,   211],\n",
      "        [ 3652,   215],\n",
      "        [ 3652,   366],\n",
      "        [ 3652,   405],\n",
      "        [ 3652,   411],\n",
      "        [ 3652,   450],\n",
      "        [ 3732,    63],\n",
      "        [ 3732,    95],\n",
      "        [ 3732,   134],\n",
      "        [ 3732,   181],\n",
      "        [ 3732,   211],\n",
      "        [ 3732,   215],\n",
      "        [ 3732,   366],\n",
      "        [ 3732,   405],\n",
      "        [ 3732,   411],\n",
      "        [ 3732,   450],\n",
      "        [ 7214,    63],\n",
      "        [ 7214,    95],\n",
      "        [ 7214,   134],\n",
      "        [ 7214,   181],\n",
      "        [ 7214,   211],\n",
      "        [ 7214,   215],\n",
      "        [ 7214,   366],\n",
      "        [ 7214,   405],\n",
      "        [ 7214,   411],\n",
      "        [ 7214,   450],\n",
      "        [ 8389,    63],\n",
      "        [ 8389,    95],\n",
      "        [ 8389,   134],\n",
      "        [ 8389,   181],\n",
      "        [ 8389,   211],\n",
      "        [ 8389,   215],\n",
      "        [ 8389,   366],\n",
      "        [ 8389,   405],\n",
      "        [ 8389,   411],\n",
      "        [ 8389,   450],\n",
      "        [ 8572,    63],\n",
      "        [ 8572,    95],\n",
      "        [ 8572,   134],\n",
      "        [ 8572,   181],\n",
      "        [ 8572,   211],\n",
      "        [ 8572,   215],\n",
      "        [ 8572,   366],\n",
      "        [ 8572,   405],\n",
      "        [ 8572,   411],\n",
      "        [ 8572,   450],\n",
      "        [ 9935,    63],\n",
      "        [ 9935,    95],\n",
      "        [ 9935,   134],\n",
      "        [ 9935,   181],\n",
      "        [ 9935,   211],\n",
      "        [ 9935,   215],\n",
      "        [ 9935,   366],\n",
      "        [ 9935,   405],\n",
      "        [ 9935,   411],\n",
      "        [ 9935,   450],\n",
      "        [ 9974,    63],\n",
      "        [ 9974,    95],\n",
      "        [ 9974,   134],\n",
      "        [ 9974,   181],\n",
      "        [ 9974,   211],\n",
      "        [ 9974,   215],\n",
      "        [ 9974,   366],\n",
      "        [ 9974,   405],\n",
      "        [ 9974,   411],\n",
      "        [ 9974,   450],\n",
      "        [11219,    63],\n",
      "        [11219,    95],\n",
      "        [11219,   134],\n",
      "        [11219,   181],\n",
      "        [11219,   211],\n",
      "        [11219,   215],\n",
      "        [11219,   366],\n",
      "        [11219,   405],\n",
      "        [11219,   411],\n",
      "        [11219,   450]])\n"
     ]
    }
   ],
   "source": [
    "masks = generate_masks(2)\n",
    "first_mask = masks[0]\n",
    "# print indices of holes\n",
    "print(torch.logical_not(first_mask).nonzero())"
   ]
  },
  {
   "cell_type": "code",
   "execution_count": 13,
   "metadata": {},
   "outputs": [
    {
     "name": "stderr",
     "output_type": "stream",
     "text": [
      "100%|██████████| 3/3 [00:00<00:00,  7.98it/s]\n"
     ]
    }
   ],
   "source": [
    "import deep_fib.data as data_dfib\n",
    "import numpy as np\n",
    "\n",
    "dataset = data_dfib.PointMaskDataset(test, 10)\n",
    "\n",
    "df, mask, lab = dataset[0]"
   ]
  },
  {
   "cell_type": "code",
   "execution_count": 15,
   "metadata": {},
   "outputs": [
    {
     "data": {
      "text/plain": [
       "606970"
      ]
     },
     "execution_count": 15,
     "metadata": {},
     "output_type": "execute_result"
    }
   ],
   "source": [
    "int(np.prod(df.shape) / dataset.n)"
   ]
  },
  {
   "cell_type": "code",
   "execution_count": 16,
   "metadata": {},
   "outputs": [
    {
     "data": {
      "text/plain": [
       "tensor(577489)"
      ]
     },
     "execution_count": 16,
     "metadata": {},
     "output_type": "execute_result"
    }
   ],
   "source": [
    "(mask == -1).sum()"
   ]
  },
  {
   "cell_type": "code",
   "execution_count": 17,
   "metadata": {},
   "outputs": [
    {
     "data": {
      "text/plain": [
       "tensor(5492211)"
      ]
     },
     "execution_count": 17,
     "metadata": {},
     "output_type": "execute_result"
    }
   ],
   "source": [
    "(mask != -1).sum()"
   ]
  },
  {
   "cell_type": "code",
   "execution_count": null,
   "metadata": {},
   "outputs": [],
   "source": []
  }
 ],
 "metadata": {
  "colab": {
   "name": "prova.ipynb",
   "provenance": []
  },
  "interpreter": {
   "hash": "ab81a77bbd99791b442b66d5911adf60087a90079f5aff673de360844339db9f"
  },
  "kernelspec": {
   "display_name": "Python 3 (ipykernel)",
   "language": "python",
   "name": "python3"
  },
  "language_info": {
   "codemirror_mode": {
    "name": "ipython",
    "version": 3
   },
   "file_extension": ".py",
   "mimetype": "text/x-python",
   "name": "python",
   "nbconvert_exporter": "python",
   "pygments_lexer": "ipython3",
   "version": "3.8.5"
  }
 },
 "nbformat": 4,
 "nbformat_minor": 1
}
