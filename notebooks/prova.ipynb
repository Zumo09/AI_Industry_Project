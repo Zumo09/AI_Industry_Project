{
 "cells": [
  {
   "cell_type": "code",
   "execution_count": 1,
   "metadata": {
    "id": "qgK8qcIXoByY"
   },
   "outputs": [],
   "source": [
    "%load_ext autoreload\n",
    "%autoreload 2"
   ]
  },
  {
   "cell_type": "code",
   "execution_count": 2,
   "metadata": {
    "id": "wrqsyKumoBye",
    "outputId": "dd4ad8a5-51a7-4708-be7e-164aeb4f9d36"
   },
   "outputs": [],
   "source": [
    "import torch\n",
    "from torch.optim import Adam\n",
    "from torch.utils.data import DataLoader\n",
    "from torch import nn\n",
    "\n",
    "from sklearn.model_selection import train_test_split\n",
    "\n",
    "from common import data\n",
    "\n",
    "from common.training import training_loop\n",
    "\n",
    "\n",
    "from common.models import resnet\n",
    "from common.models import deeplab"
   ]
  },
  {
   "cell_type": "code",
   "execution_count": 3,
   "metadata": {},
   "outputs": [
    {
     "name": "stderr",
     "output_type": "stream",
     "text": [
      "Loading: 100%|██████████| 25/25 [00:15<00:00,  1.63it/s]\n"
     ]
    }
   ],
   "source": [
    "paths = data.get_dataset_paths(\"../data\")\n",
    "train, test = train_test_split(paths, test_size=0.1, random_state=42)\n",
    "dataset = data.Marconi100Dataset(test, data.Scaling.STANDARD)\n",
    "\n",
    "horizon = 1024\n",
    "stride = 500\n",
    "batch_size = 4\n",
    "num_workers = 0\n",
    "\n",
    "dataset_test = data.UnfoldedDataset(dataset, horizon=horizon, stride=stride)\n",
    "test_loader = DataLoader(\n",
    "    dataset_test,\n",
    "    batch_size,\n",
    "    shuffle=False,\n",
    "    num_workers=num_workers,\n",
    "    persistent_workers=(num_workers != 0),\n",
    ")"
   ]
  },
  {
   "cell_type": "code",
   "execution_count": 4,
   "metadata": {},
   "outputs": [
    {
     "data": {
      "text/plain": [
       "torch.Size([4, 1024, 460])"
      ]
     },
     "execution_count": 4,
     "metadata": {},
     "output_type": "execute_result"
    }
   ],
   "source": [
    "batch = next(iter(test_loader))\n",
    "batch[\"data\"].shape"
   ]
  },
  {
   "cell_type": "code",
   "execution_count": 5,
   "metadata": {},
   "outputs": [
    {
     "data": {
      "text/plain": [
       "torch.Size([4, 2])"
      ]
     },
     "execution_count": 5,
     "metadata": {},
     "output_type": "execute_result"
    }
   ],
   "source": [
    "net = resnet.ResNet(\n",
    "    resnet.ResNetFeatures(\n",
    "        resnet.Bottleneck,\n",
    "        resnet.RESNET50_LAYERS,\n",
    "        num_features=data.NUM_FEATURES,\n",
    "    ),\n",
    "    num_classes=2,\n",
    ")\n",
    "res = net(batch[\"data\"])\n",
    "\n",
    "res.shape\n"
   ]
  },
  {
   "cell_type": "code",
   "execution_count": 6,
   "metadata": {},
   "outputs": [
    {
     "name": "stdout",
     "output_type": "stream",
     "text": [
      "layer1 torch.Size([4, 256, 256])\n",
      "layer2 torch.Size([4, 512, 128])\n",
      "layer3 torch.Size([4, 1024, 128])\n",
      "layer4 torch.Size([4, 2048, 128])\n"
     ]
    }
   ],
   "source": [
    "net = resnet.ResNetFeatures(\n",
    "    resnet.Bottleneck,\n",
    "    resnet.RESNET50_LAYERS,\n",
    "    return_layers=[resnet.LAYER_1, resnet.LAYER_2, resnet.LAYER_3, resnet.LAYER_4],\n",
    "    replace_stride_with_dilation=[False, True, True],\n",
    "    num_features=data.NUM_FEATURES,\n",
    ")\n",
    "\n",
    "res = net(batch[\"data\"].permute(0, 2, 1))\n",
    "\n",
    "for n, r in res.items():\n",
    "    print(n, r.shape)\n"
   ]
  },
  {
   "cell_type": "code",
   "execution_count": 17,
   "metadata": {},
   "outputs": [
    {
     "name": "stdout",
     "output_type": "stream",
     "text": [
      "low torch.Size([4, 256, 256])\n",
      "high torch.Size([4, 2048, 128])\n",
      "prj torch.Size([4, 128, 256])\n",
      "res torch.Size([4, 1280, 128])\n",
      "feat torch.Size([4, 256, 128])\n",
      "feat torch.Size([4, 256, 256])\n",
      "outs torch.Size([4, 256, 256])\n"
     ]
    },
    {
     "data": {
      "text/plain": [
       "torch.Size([4, 1024, 460])"
      ]
     },
     "execution_count": 17,
     "metadata": {},
     "output_type": "execute_result"
    }
   ],
   "source": [
    "net = deeplab.DeepLabNet(\n",
    "    resnet.ResNetFeatures(\n",
    "        resnet.Bottleneck,\n",
    "        resnet.RESNET50_LAYERS,\n",
    "        return_layers=[resnet.LAYER_1, resnet.LAYER_4],\n",
    "        replace_stride_with_dilation=[False, True, True],\n",
    "        num_features=data.NUM_FEATURES,\n",
    "    ),\n",
    "    backbone_channels=[256, 2048],\n",
    "    out_feats=data.NUM_FEATURES,\n",
    ")\n",
    "res = net(batch[\"data\"])\n",
    "\n",
    "res.shape\n"
   ]
  },
  {
   "cell_type": "code",
   "execution_count": 13,
   "metadata": {},
   "outputs": [
    {
     "name": "stdout",
     "output_type": "stream",
     "text": [
      "torch.Size([4, 256, 128])\n",
      "torch.Size([4, 256, 128])\n",
      "torch.Size([4, 256, 128])\n",
      "torch.Size([4, 256, 128])\n",
      "res torch.Size([4, 1024, 128])\n"
     ]
    }
   ],
   "source": [
    "def what():\n",
    "    _res = []\n",
    "    for _ in range(4):\n",
    "        _res.append(torch.rand(4, 256, 128))\n",
    "        print(_res[-1].size())\n",
    "    res = torch.cat(_res, dim=1)\n",
    "    print(\"res\", res.size())\n",
    "\n",
    "what()"
   ]
  },
  {
   "cell_type": "code",
   "execution_count": null,
   "metadata": {},
   "outputs": [],
   "source": []
  }
 ],
 "metadata": {
  "colab": {
   "name": "prova.ipynb",
   "provenance": []
  },
  "kernelspec": {
   "display_name": "Python 3.8.5 ('masterAI')",
   "language": "python",
   "name": "python3"
  },
  "language_info": {
   "codemirror_mode": {
    "name": "ipython",
    "version": 3
   },
   "file_extension": ".py",
   "mimetype": "text/x-python",
   "name": "python",
   "nbconvert_exporter": "python",
   "pygments_lexer": "ipython3",
   "version": "3.8.5"
  },
  "vscode": {
   "interpreter": {
    "hash": "ab81a77bbd99791b442b66d5911adf60087a90079f5aff673de360844339db9f"
   }
  }
 },
 "nbformat": 4,
 "nbformat_minor": 1
}
